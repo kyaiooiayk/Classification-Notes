{
 "cells": [
  {
   "cell_type": "markdown",
   "metadata": {},
   "source": [
    "# Introduction\n",
    "<hr style = \"border:2px solid black\" ></hr>"
   ]
  },
  {
   "cell_type": "code",
   "execution_count": null,
   "metadata": {},
   "outputs": [],
   "source": [
    "\"\"\"\n",
    "What? Spot-checking on CLASSIFICATION problems.\n",
    "\n",
    "You cannot know which algorithms are best suited to your problem beforehand. You must trial a number of \n",
    "methods and focus attention on those that prove themselves the most promising.\n",
    "\n",
    "-->>LINEAR<<-- models:\n",
    "[1.1] Logistic Regression\n",
    "[1.2] Linear Discriminant Analysis\n",
    "\n",
    "-->>NON-LINEAR<<-- models:\n",
    "[2.1] k-Nearest Neighbors\n",
    "[2.2] Naive Bayes\n",
    "[2.3] Classification and Regression Trees\n",
    "[2.4] Support Vector Machines\n",
    "\"\"\""
   ]
  },
  {
   "cell_type": "markdown",
   "metadata": {},
   "source": [
    "# Import modules\n",
    "<hr style = \"border:2px solid black\" ></hr>"
   ]
  },
  {
   "cell_type": "code",
   "execution_count": 25,
   "metadata": {},
   "outputs": [],
   "source": [
    "from pandas import read_csv\n",
    "from sklearn.svm import SVC\n",
    "from matplotlib import pyplot\n",
    "from matplotlib import rcParams\n",
    "from sklearn.model_selection import KFold\n",
    "from sklearn.naive_bayes import GaussianNB\n",
    "from IPython.display import Markdown, display\n",
    "from sklearn.tree import DecisionTreeClassifier\n",
    "from sklearn.model_selection import cross_val_score\n",
    "from sklearn.neighbors import KNeighborsClassifier\n",
    "from sklearn.linear_model import LogisticRegression\n",
    "from sklearn.discriminant_analysis import LinearDiscriminantAnalysis"
   ]
  },
  {
   "cell_type": "markdown",
   "metadata": {},
   "source": [
    "# Import dataset\n",
    "<hr style = \"border:2px solid black\" ></hr>"
   ]
  },
  {
   "cell_type": "code",
   "execution_count": 4,
   "metadata": {},
   "outputs": [
    {
     "name": "stdout",
     "output_type": "stream",
     "text": [
      "Input size:  (768, 8)\n",
      "Labels size:  (768,)\n"
     ]
    }
   ],
   "source": [
    "filename = '../DATASETS/pima-indians-diabetes.csv'\n",
    "names = ['preg', 'plas', 'pres', 'skin', 'test', 'mass', 'pedi', 'age', 'class'] \n",
    "dataframe = read_csv(filename, names = names)\n",
    "array = dataframe.values\n",
    "X = array[:,0:8]\n",
    "Y = array[:,8]\n",
    "num_folds = 10\n",
    "print(\"Input size: \", X.shape)\n",
    "print(\"Labels size: \", Y.shape)"
   ]
  },
  {
   "cell_type": "markdown",
   "metadata": {},
   "source": [
    "# LINEAR MODEL: Logistic regression\n",
    "<hr style = \"border:2px solid black\" ></hr>"
   ]
  },
  {
   "cell_type": "code",
   "execution_count": null,
   "metadata": {},
   "outputs": [],
   "source": [
    "\"\"\"\n",
    "Logistic regression assumes a Gaussian distribution for the numeric\n",
    "input variables and can model binary classification problems.\n",
    "\"\"\""
   ]
  },
  {
   "cell_type": "code",
   "execution_count": 10,
   "metadata": {},
   "outputs": [
    {
     "name": "stdout",
     "output_type": "stream",
     "text": [
      "Mean: 0.7722, standard deviation 0.0497\n"
     ]
    }
   ],
   "source": [
    "kfold = KFold(n_splits=10, shuffle = True, random_state=7)\n",
    "model = LogisticRegression(max_iter = 250)\n",
    "results = cross_val_score(model, X, Y, cv=kfold)\n",
    "print(f\"Mean: {results.mean():.4f}, standard deviation {results.std():.4f}\")"
   ]
  },
  {
   "cell_type": "markdown",
   "metadata": {},
   "source": [
    "# LINEAR MODEL: Linear Discriminant Analysis\n",
    "<hr style = \"border:2px solid black\" ></hr>"
   ]
  },
  {
   "cell_type": "code",
   "execution_count": null,
   "metadata": {},
   "outputs": [],
   "source": [
    "\"\"\"\n",
    "Linear Discriminant Analysis or LDA is a statistical technique \n",
    "for binary and multiclass classification. It too assumes a Gaussian \n",
    "distribution for the numerical input variables.\n",
    "\"\"\""
   ]
  },
  {
   "cell_type": "code",
   "execution_count": 12,
   "metadata": {},
   "outputs": [
    {
     "name": "stdout",
     "output_type": "stream",
     "text": [
      "Mean: 0.7670, standard deviation 0.0480\n"
     ]
    }
   ],
   "source": [
    "kfold = KFold(n_splits=10, shuffle = True, random_state=7)\n",
    "model = LinearDiscriminantAnalysis()\n",
    "results = cross_val_score(model, X, Y, cv=kfold)\n",
    "print(f\"Mean: {results.mean():.4f}, standard deviation {results.std():.4f}\")"
   ]
  },
  {
   "cell_type": "markdown",
   "metadata": {},
   "source": [
    "# NON-LINEAR MODEL: k-nearest neighbours\n",
    "<hr style = \"border:2px solid black\" ></hr>"
   ]
  },
  {
   "cell_type": "code",
   "execution_count": null,
   "metadata": {},
   "outputs": [],
   "source": [
    "\"\"\"\n",
    "The k-Nearest Neighbors algorithm (or KNN) uses a distance metric \n",
    "to find the k most similar instances in the training data for a \n",
    "new instance and takes the mean outcome of the neighbors as the \n",
    "prediction. \n",
    "\"\"\""
   ]
  },
  {
   "cell_type": "code",
   "execution_count": 13,
   "metadata": {},
   "outputs": [
    {
     "name": "stdout",
     "output_type": "stream",
     "text": [
      "Mean: 0.7110, standard deviation 0.0508\n"
     ]
    }
   ],
   "source": [
    "kfold = KFold(n_splits=10, shuffle = True, random_state=7)\n",
    "model = KNeighborsClassifier()\n",
    "results = cross_val_score(model, X, Y, cv=kfold)\n",
    "print(f\"Mean: {results.mean():.4f}, standard deviation {results.std():.4f}\")"
   ]
  },
  {
   "cell_type": "markdown",
   "metadata": {},
   "source": [
    "# NON-LINEAR MODEL: Naive Bayes\n",
    "<hr style = \"border:2px solid black\" ></hr>"
   ]
  },
  {
   "cell_type": "code",
   "execution_count": null,
   "metadata": {},
   "outputs": [],
   "source": [
    "\"\"\"\n",
    "Naive Bayes calculates the probability of each class and the conditional\n",
    "probability of each class given each input value. These probabilities \n",
    "are estimated for new data and multiplied together, assuming that they \n",
    "are all independent (a simple or naive assumption). When working with \n",
    "real-valued data, a Gaussian distribution is assumed to easily estimate \n",
    "the probabilities for input variables using the Gaussian Probability Density Function\n",
    "\"\"\""
   ]
  },
  {
   "cell_type": "code",
   "execution_count": 14,
   "metadata": {},
   "outputs": [
    {
     "name": "stdout",
     "output_type": "stream",
     "text": [
      "Mean: 0.7591, standard deviation 0.0390\n"
     ]
    }
   ],
   "source": [
    "kfold = KFold(n_splits=10, shuffle = True, random_state=7)\n",
    "model = GaussianNB()\n",
    "results = cross_val_score(model, X, Y, cv=kfold)\n",
    "print(f\"Mean: {results.mean():.4f}, standard deviation {results.std():.4f}\")"
   ]
  },
  {
   "cell_type": "markdown",
   "metadata": {},
   "source": [
    "# NON-LINEAR MODEL: CART (decision tree)\n",
    "<hr style = \"border:2px solid black\" ></hr>"
   ]
  },
  {
   "cell_type": "code",
   "execution_count": null,
   "metadata": {},
   "outputs": [],
   "source": [
    "\"\"\"\n",
    "Classification and Regression Trees (CART or just decision trees) \n",
    "construct a binary tree from the training data. Split points \n",
    "are chosen greedily by evaluating each attribute and each value \n",
    "of each attribute in the training data in order to minimize a cost \n",
    "function (like the Gini index).\n",
    "\"\"\""
   ]
  },
  {
   "cell_type": "code",
   "execution_count": 15,
   "metadata": {},
   "outputs": [
    {
     "name": "stdout",
     "output_type": "stream",
     "text": [
      "Mean: 0.6928, standard deviation 0.0575\n"
     ]
    }
   ],
   "source": [
    "kfold = KFold(n_splits=10, shuffle = True, random_state=7)\n",
    "model = DecisionTreeClassifier()\n",
    "results = cross_val_score(model, X, Y, cv=kfold)\n",
    "print(f\"Mean: {results.mean():.4f}, standard deviation {results.std():.4f}\")"
   ]
  },
  {
   "cell_type": "markdown",
   "metadata": {},
   "source": [
    "# NON-LINEAR MODEL: SVM Support Vector Machine\n",
    "<hr style = \"border:2px solid black\" ></hr>"
   ]
  },
  {
   "cell_type": "code",
   "execution_count": null,
   "metadata": {},
   "outputs": [],
   "source": [
    "\"\"\"\n",
    "Support Vector Machines (or SVM) seek a line that best separates two classes.\n",
    "Those data instances that are closest to the line that best separates the\n",
    "classes are called support vectors and influence where the line is placed.\n",
    "\"\"\""
   ]
  },
  {
   "cell_type": "code",
   "execution_count": 16,
   "metadata": {},
   "outputs": [
    {
     "name": "stdout",
     "output_type": "stream",
     "text": [
      "Mean: 0.7605, standard deviation 0.0347\n"
     ]
    }
   ],
   "source": [
    "kfold = KFold(n_splits=10, shuffle = True, random_state=7)\n",
    "model = SVC()\n",
    "results = cross_val_score(model, X, Y, cv=kfold)\n",
    "print(f\"Mean: {results.mean():.4f}, standard deviation {results.std():.4f}\")"
   ]
  },
  {
   "cell_type": "markdown",
   "metadata": {},
   "source": [
    "# Comparison\n",
    "<hr style = \"border:2px solid black\" ></hr>"
   ]
  },
  {
   "cell_type": "code",
   "execution_count": 17,
   "metadata": {},
   "outputs": [],
   "source": [
    "# prepare models\n",
    "models = []\n",
    "models.append(('LR', LogisticRegression(max_iter = 250)))\n",
    "models.append(('LDA', LinearDiscriminantAnalysis()))\n",
    "models.append(('KNN', KNeighborsClassifier()))\n",
    "models.append(('CART', DecisionTreeClassifier()))\n",
    "models.append(('NB', GaussianNB()))\n",
    "models.append(('SVM', SVC()))"
   ]
  },
  {
   "cell_type": "code",
   "execution_count": 21,
   "metadata": {},
   "outputs": [
    {
     "name": "stdout",
     "output_type": "stream",
     "text": [
      "LR Mean: 0.7722, standard deviation 0.0497\n",
      "LDA Mean: 0.7670, standard deviation 0.0480\n",
      "KNN Mean: 0.7110, standard deviation 0.0508\n",
      "CART Mean: 0.6863, standard deviation 0.0513\n",
      "NB Mean: 0.7591, standard deviation 0.0390\n",
      "SVM Mean: 0.7605, standard deviation 0.0347\n"
     ]
    }
   ],
   "source": [
    "# evaluate each model in turn\n",
    "results = []\n",
    "names = []\n",
    "scoring = 'accuracy'\n",
    "for name, model in models:\n",
    "    kfold = KFold(n_splits=10, shuffle = True, random_state=7)\n",
    "    cv_results = cross_val_score(model, X, Y, cv=kfold, scoring=scoring)\n",
    "    results.append(cv_results)\n",
    "    names.append(name)    \n",
    "    print(f\"{name} Mean: {cv_results.mean():.4f}, standard deviation {cv_results.std():.4f}\")"
   ]
  },
  {
   "cell_type": "code",
   "execution_count": 29,
   "metadata": {},
   "outputs": [
    {
     "data": {
      "image/png": "[encoded data removed]",
      "text/plain": [
       "<Figure size 1224x360 with 1 Axes>"
      ]
     },
     "metadata": {
      "needs_background": "light"
     },
     "output_type": "display_data"
    }
   ],
   "source": [
    " # boxplot algorithm comparison\n",
    "rcParams['font.size'] = 20\n",
    "rcParams['figure.figsize'] = 17, 5\n",
    "fig = pyplot.figure() \n",
    "fig.suptitle('Algorithms Comparison') \n",
    "ax = fig.add_subplot(111) \n",
    "pyplot.boxplot(results) \n",
    "ax.set_xticklabels(names) \n",
    "ax.set_ylabel(scoring) \n",
    "pyplot.show()    "
   ]
  },
  {
   "cell_type": "markdown",
   "metadata": {},
   "source": [
    "# References\n",
    "<hr style = \"border:2px solid black\" ></hr>"
   ]
  },
  {
   "cell_type": "markdown",
   "metadata": {},
   "source": [
    "- https://machinelearningmastery.com/spot-check-classification-machine-learning-algorithms-python-scikit-learn/- "
   ]
  },
  {
   "cell_type": "code",
   "execution_count": null,
   "metadata": {},
   "outputs": [],
   "source": []
  }
 ],
 "metadata": {
  "hide_input": false,
  "kernelspec": {
   "display_name": "trainingAI",
   "language": "python",
   "name": "trainingai"
  },
  "language_info": {
   "codemirror_mode": {
    "name": "ipython",
    "version": 3
   },
   "file_extension": ".py",
   "mimetype": "text/x-python",
   "name": "python",
   "nbconvert_exporter": "python",
   "pygments_lexer": "ipython3",
   "version": "3.9.7"
  },
  "toc": {
   "base_numbering": 1,
   "nav_menu": {},
   "number_sections": true,
   "sideBar": true,
   "skip_h1_title": false,
   "title_cell": "Table of Contents",
   "title_sidebar": "Contents",
   "toc_cell": false,
   "toc_position": {},
   "toc_section_display": true,
   "toc_window_display": true
  },
  "varInspector": {
   "cols": {
    "lenName": 16,
    "lenType": 16,
    "lenVar": 40
   },
   "kernels_config": {
    "python": {
     "delete_cmd_postfix": "",
     "delete_cmd_prefix": "del ",
     "library": "var_list.py",
     "varRefreshCmd": "print(var_dic_list())"
    },
    "r": {
     "delete_cmd_postfix": ") ",
     "delete_cmd_prefix": "rm(",
     "library": "var_list.r",
     "varRefreshCmd": "cat(var_dic_list()) "
    }
   },
   "types_to_exclude": [
    "module",
    "function",
    "builtin_function_or_method",
    "instance",
    "_Feature"
   ],
   "window_display": false
  }
 },
 "nbformat": 4,
 "nbformat_minor": 2
}
