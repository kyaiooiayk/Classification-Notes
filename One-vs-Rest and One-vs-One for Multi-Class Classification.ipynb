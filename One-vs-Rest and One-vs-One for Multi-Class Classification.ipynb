{
 "cells": [
  {
   "cell_type": "markdown",
   "metadata": {},
   "source": [
    "# Introduction"
   ]
  },
  {
   "cell_type": "code",
   "execution_count": null,
   "metadata": {},
   "outputs": [],
   "source": [
    "\"\"\"\n",
    "What? One-vs-Rest and One-vs-One for Multi-Class Classification\n",
    "\n",
    "Algorithms such as the Perceptron, Logistic Regression, and Support Vector Machines were designed for binary \n",
    "classification and do not natively support classification tasks with more than two classes.\n",
    "\n",
    "Solution? There are two approaches for using binary classification algorithms for multi-classification \n",
    "problems:\n",
    "\n",
    "    [1] One-vs-Rest strategy splits a multi-class classification into one binary classification problem \n",
    "        per class.\n",
    "    [2] One-vs-One strategies: strategy splits a multi-class classification into one binary classification\n",
    "        problem per each pair of classes.\n",
    "        \n",
    "Reference: https://machinelearningmastery.com/one-vs-rest-and-one-vs-one-for-multi-class-classification/\n",
    "\"\"\""
   ]
  },
  {
   "cell_type": "markdown",
   "metadata": {},
   "source": [
    "# Import python modules"
   ]
  },
  {
   "cell_type": "code",
   "execution_count": 11,
   "metadata": {},
   "outputs": [],
   "source": [
    "from sklearn.datasets import make_classification\n",
    "from sklearn.linear_model import LogisticRegression\n",
    "from sklearn.datasets import make_classification\n",
    "from sklearn.linear_model import LogisticRegression\n",
    "from sklearn.multiclass import OneVsRestClassifier\n",
    "from sklearn.multiclass import OneVsOneClassifier\n",
    "from sklearn.svm import SVC"
   ]
  },
  {
   "cell_type": "markdown",
   "metadata": {},
   "source": [
    "# One-Vs-Rest for Multi-Class Classification"
   ]
  },
  {
   "cell_type": "code",
   "execution_count": null,
   "metadata": {},
   "outputs": [],
   "source": [
    "\"\"\"\n",
    "For example, given a multi-class classification problem with examples for each class ‘red,’ ‘blue,’ and ‘green‘. \n",
    "This could be divided into three binary classification datasets as follows:\n",
    "    Binary Classification Problem 1: red vs [blue, green]\n",
    "    Binary Classification Problem 2: blue vs [red, green]\n",
    "    Binary Classification Problem 3: green vs [red, blue]\n",
    "\n",
    "A possible downside of this approach is that it requires one model to be created for each class. (think about\n",
    "scaling it up to millions).\n",
    "\"\"\""
   ]
  },
  {
   "cell_type": "code",
   "execution_count": 4,
   "metadata": {
    "scrolled": true
   },
   "outputs": [],
   "source": [
    "# define dataset\n",
    "X, y = make_classification(n_samples=1000, n_features=10, n_informative=5, n_redundant=5, n_classes=3, random_state=1)\n",
    "# define model\n",
    "model = LogisticRegression(multi_class='ovr')\n",
    "# fit model\n",
    "model.fit(X, y)\n",
    "# make predictions\n",
    "yhat = model.predict(X)\n",
    "#print(yhat)"
   ]
  },
  {
   "cell_type": "code",
   "execution_count": null,
   "metadata": {},
   "outputs": [],
   "source": [
    "\"\"\"\n",
    "The scikit-learn library ALSO provides a separate OneVsRestClassifier class that allows the one-vs-rest \n",
    "strategy to be used with any classifier.\n",
    "\"\"\""
   ]
  },
  {
   "cell_type": "code",
   "execution_count": 7,
   "metadata": {},
   "outputs": [],
   "source": [
    "# define dataset\n",
    "X, y = make_classification(n_samples=1000, n_features=10, n_informative=5, n_redundant=5, n_classes=3, random_state=1)\n",
    "# define model\n",
    "model = LogisticRegression()\n",
    "# define the ovr strategy\n",
    "ovr = OneVsRestClassifier(model)\n",
    "# fit model\n",
    "ovr.fit(X, y)\n",
    "# make predictions\n",
    "yhat = ovr.predict(X)\n",
    "#print(yhat)"
   ]
  },
  {
   "cell_type": "markdown",
   "metadata": {},
   "source": [
    "# One-Vs-One for Multi-Class Classification"
   ]
  },
  {
   "cell_type": "code",
   "execution_count": null,
   "metadata": {},
   "outputs": [],
   "source": [
    "\"\"\"\n",
    "Unlike one-vs-rest that splits it into one binary dataset for each class, the one-vs-one approach splits the \n",
    "dataset into one dataset for each class versus every other class.\n",
    "\n",
    "For example, consider a multi-class classification problem with four classes: ‘red,’ ‘blue,’ and ‘green,’ \n",
    "‘yellow.’ This could be divided into six binary classification datasets as follows:\n",
    "Binary Classification Problem 1: red vs. blue\n",
    "Binary Classification Problem 2: red vs. green\n",
    "Binary Classification Problem 3: red vs. yellow\n",
    "Binary Classification Problem 4: blue vs. green\n",
    "Binary Classification Problem 5: blue vs. yellow\n",
    "Binary Classification Problem 6: green vs. yellow\n",
    "\n",
    "Each binary classification model may predict one class label and the model with the most predictions or votes \n",
    "is predicted by the one-vs-one strategy.\n",
    "\n",
    "Classically, this approach is suggested for support vector machines (SVM) and related kernel-based algorithms. \n",
    "This is believed because the performance of kernel methods does not scale in proportion to the size of the training dataset and using subsets of the training data may counter this effect.\n",
    "\"\"\""
   ]
  },
  {
   "cell_type": "code",
   "execution_count": 9,
   "metadata": {},
   "outputs": [],
   "source": [
    "# define dataset\n",
    "X, y = make_classification(n_samples=1000, n_features=10, n_informative=5, n_redundant=5, n_classes=3, random_state=1)\n",
    "# define model\n",
    "model = SVC(decision_function_shape='ovo')\n",
    "# fit model\n",
    "model.fit(X, y)\n",
    "# make predictions\n",
    "yhat = model.predict(X)"
   ]
  },
  {
   "cell_type": "code",
   "execution_count": null,
   "metadata": {},
   "outputs": [],
   "source": [
    "\"\"\"\n",
    "The scikit-learn library also provides a separate OneVsOneClassifier class that allows the one-vs-one strategy \n",
    "to be used with any classifier.\n",
    "\"\"\""
   ]
  },
  {
   "cell_type": "code",
   "execution_count": 12,
   "metadata": {},
   "outputs": [],
   "source": [
    "# define dataset\n",
    "X, y = make_classification(n_samples=1000, n_features=10, n_informative=5, n_redundant=5, n_classes=3, random_state=1)\n",
    "# define model\n",
    "model = SVC()\n",
    "# define ovo strategy\n",
    "ovo = OneVsOneClassifier(model)\n",
    "# fit model\n",
    "ovo.fit(X, y)\n",
    "# make predictions\n",
    "yhat = ovo.predict(X)"
   ]
  },
  {
   "cell_type": "code",
   "execution_count": null,
   "metadata": {},
   "outputs": [],
   "source": []
  }
 ],
 "metadata": {
  "hide_input": false,
  "kernelspec": {
   "display_name": "trainingAI",
   "language": "python",
   "name": "trainingai"
  },
  "language_info": {
   "codemirror_mode": {
    "name": "ipython",
    "version": 3
   },
   "file_extension": ".py",
   "mimetype": "text/x-python",
   "name": "python",
   "nbconvert_exporter": "python",
   "pygments_lexer": "ipython3",
   "version": "3.8.5"
  }
 },
 "nbformat": 4,
 "nbformat_minor": 2
}
