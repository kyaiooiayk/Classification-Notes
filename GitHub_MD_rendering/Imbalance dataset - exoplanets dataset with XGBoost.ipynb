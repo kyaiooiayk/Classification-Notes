{
 "cells": [
  {
   "cell_type": "markdown",
   "metadata": {
    "toc": true
   },
   "source": [
    "<h1>Table of Contents<span class=\"tocSkip\"></span></h1>\n",
""   ]
  },
  {
   "cell_type": "markdown",
   "metadata": {},
   "source": [
    "# Introduction\n",
    "<hr style = \"border:2px solid black\" ></hr>"
   ]
  },
  {
   "cell_type": "markdown",
   "metadata": {},
   "source": [
    "\n",
    "**What?** How to handle imbalance datasets with XGBoost\n",
    "\n",
""   ]
  },
  {
   "cell_type": "markdown",
   "metadata": {},
   "source": [
    "# Import modules\n",
    "<hr style = \"border:2px solid black\" ></hr>"
   ]
  },
  {
   "cell_type": "code",
   "execution_count": 1,
   "metadata": {
    "ExecuteTime": {
     "end_time": "2022-02-27T19:26:42.638305Z",
     "start_time": "2022-02-27T19:26:41.450939Z"
    }
   },
   "outputs": [
    {
     "name": "stderr",
     "output_type": "stream",
     "text": [
      "/opt/anaconda3/envs/trainingAI/lib/python3.9/site-packages/xgboost/compat.py:36: FutureWarning: pandas.Int64Index is deprecated and will be removed from pandas in a future version. Use pandas.Index with the appropriate dtype instead.\n",
      "  from pandas import MultiIndex, Int64Index\n"
     ]
    }
   ],
   "source": [
    "import pandas as pd\n",
    "import matplotlib.pyplot as plt\n",
    "import numpy as np\n",
    "import seaborn as sns\n",
    "from xgboost import XGBClassifier\n",
    "from sklearn.metrics import accuracy_score\n",
    "from sklearn.model_selection import train_test_split\n",
    "from sklearn.metrics import confusion_matrix\n",
    "from sklearn.metrics import classification_report\n",
    "from sklearn.metrics import recall_score\n",
    "from sklearn.model_selection import GridSearchCV, RandomizedSearchCV, StratifiedKFold, cross_val_score"
   ]
  },
  {
   "cell_type": "markdown",
   "metadata": {},
   "source": [
    "# Load dataset\n",
    "<hr style = \"border:2px solid black\" ></hr>"
   ]
  },
  {
   "cell_type": "markdown",
   "metadata": {},
   "source": [
    "\n",
    "- These exoplanets are not viewed directly via telescopes, rather they are inferred through periodic changes in \n",
    "starlight. An object that periodically revolves around a star that is large enough to block a detectable fraction \n",
    "of starlight is by definition a planet. \n",
    "- Discovering exoplanets from starlight requires measuring light fluctuations over extended intervals of time. \n",
    "- Since the change in light is often very minute, it's not easy to determine whether an exoplanet is actually present.”  \n",
    "\n",
""   ]
  },
  {
   "cell_type": "code",
   "execution_count": 2,
   "metadata": {
    "ExecuteTime": {
     "end_time": "2022-02-27T19:26:43.003826Z",
     "start_time": "2022-02-27T19:26:42.640625Z"
    }
   },
   "outputs": [],
   "source": [
    "df = pd.read_csv('../../DATASETS/exoplanets.csv', nrows=400)"
   ]
  },
  {
   "cell_type": "code",
   "execution_count": 3,
   "metadata": {
    "ExecuteTime": {
     "end_time": "2022-02-27T19:26:43.028745Z",
     "start_time": "2022-02-27T19:26:43.006716Z"
    }
   },
   "outputs": [
    {
     "data": {
      "text/html": [
       "<style scoped>\n",
       "    .dataframe tbody tr th:only-of-type {\n",
       "        vertical-align: middle;\n",
       "    }\n",
       "\n",
       "    .dataframe tbody tr th {\n",
       "        vertical-align: top;\n",
       "    }\n",
       "\n",
       "    .dataframe thead th {\n",
       "        text-align: right;\n",
       "    }\n",
       "</style>\n",
       "<table border=\"1\" class=\"dataframe\">\n",
       "  <thead>\n",
       "    <tr style=\"text-align: right;\">\n",
       "      <th></th>\n",
       "      <th>LABEL</th>\n",
       "      <th>FLUX.1</th>\n",
       "      <th>FLUX.2</th>\n",
       "      <th>FLUX.3</th>\n",
       "      <th>FLUX.4</th>\n",
       "      <th>FLUX.5</th>\n",
       "      <th>FLUX.6</th>\n",
       "      <th>FLUX.7</th>\n",
       "      <th>FLUX.8</th>\n",
       "      <th>FLUX.9</th>\n",
       "      <th>...</th>\n",
       "      <th>FLUX.3188</th>\n",
       "      <th>FLUX.3189</th>\n",
       "      <th>FLUX.3190</th>\n",
       "      <th>FLUX.3191</th>\n",
       "      <th>FLUX.3192</th>\n",
       "      <th>FLUX.3193</th>\n",
       "      <th>FLUX.3194</th>\n",
       "      <th>FLUX.3195</th>\n",
       "      <th>FLUX.3196</th>\n",
       "      <th>FLUX.3197</th>\n",
       "    </tr>\n",
       "  </thead>\n",
       "  <tbody>\n",
       "    <tr>\n",
       "      <th>0</th>\n",
       "      <td>2</td>\n",
       "      <td>93.85</td>\n",
       "      <td>83.81</td>\n",
       "      <td>20.10</td>\n",
       "      <td>-26.98</td>\n",
       "      <td>-39.56</td>\n",
       "      <td>-124.71</td>\n",
       "      <td>-135.18</td>\n",
       "      <td>-96.27</td>\n",
       "      <td>-79.89</td>\n",
       "      <td>...</td>\n",
       "      <td>-78.07</td>\n",
       "      <td>-102.15</td>\n",
       "      <td>-102.15</td>\n",
       "      <td>25.13</td>\n",
       "      <td>48.57</td>\n",
       "      <td>92.54</td>\n",
       "      <td>39.32</td>\n",
       "      <td>61.42</td>\n",
       "      <td>5.08</td>\n",
       "      <td>-39.54</td>\n",
       "    </tr>\n",
       "    <tr>\n",
       "      <th>1</th>\n",
       "      <td>2</td>\n",
       "      <td>-38.88</td>\n",
       "      <td>-33.83</td>\n",
       "      <td>-58.54</td>\n",
       "      <td>-40.09</td>\n",
       "      <td>-79.31</td>\n",
       "      <td>-72.81</td>\n",
       "      <td>-86.55</td>\n",
       "      <td>-85.33</td>\n",
       "      <td>-83.97</td>\n",
       "      <td>...</td>\n",
       "      <td>-3.28</td>\n",
       "      <td>-32.21</td>\n",
       "      <td>-32.21</td>\n",
       "      <td>-24.89</td>\n",
       "      <td>-4.86</td>\n",
       "      <td>0.76</td>\n",
       "      <td>-11.70</td>\n",
       "      <td>6.46</td>\n",
       "      <td>16.00</td>\n",
       "      <td>19.93</td>\n",
       "    </tr>\n",
       "    <tr>\n",
       "      <th>2</th>\n",
       "      <td>2</td>\n",
       "      <td>532.64</td>\n",
       "      <td>535.92</td>\n",
       "      <td>513.73</td>\n",
       "      <td>496.92</td>\n",
       "      <td>456.45</td>\n",
       "      <td>466.00</td>\n",
       "      <td>464.50</td>\n",
       "      <td>486.39</td>\n",
       "      <td>436.56</td>\n",
       "      <td>...</td>\n",
       "      <td>-71.69</td>\n",
       "      <td>13.31</td>\n",
       "      <td>13.31</td>\n",
       "      <td>-29.89</td>\n",
       "      <td>-20.88</td>\n",
       "      <td>5.06</td>\n",
       "      <td>-11.80</td>\n",
       "      <td>-28.91</td>\n",
       "      <td>-70.02</td>\n",
       "      <td>-96.67</td>\n",
       "    </tr>\n",
       "  </tbody>\n",
       "</table>\n",
       "<p>3 rows × 3198 columns</p>\n",
""      ],
      "text/plain": [
       "   LABEL  FLUX.1  FLUX.2  FLUX.3  FLUX.4  FLUX.5  FLUX.6  FLUX.7  FLUX.8  \\\n",
       "0      2   93.85   83.81   20.10  -26.98  -39.56 -124.71 -135.18  -96.27   \n",
       "1      2  -38.88  -33.83  -58.54  -40.09  -79.31  -72.81  -86.55  -85.33   \n",
       "2      2  532.64  535.92  513.73  496.92  456.45  466.00  464.50  486.39   \n",
       "\n",
       "   FLUX.9  ...  FLUX.3188  FLUX.3189  FLUX.3190  FLUX.3191  FLUX.3192  \\\n",
       "0  -79.89  ...     -78.07    -102.15    -102.15      25.13      48.57   \n",
       "1  -83.97  ...      -3.28     -32.21     -32.21     -24.89      -4.86   \n",
       "2  436.56  ...     -71.69      13.31      13.31     -29.89     -20.88   \n",
       "\n",
       "   FLUX.3193  FLUX.3194  FLUX.3195  FLUX.3196  FLUX.3197  \n",
       "0      92.54      39.32      61.42       5.08     -39.54  \n",
       "1       0.76     -11.70       6.46      16.00      19.93  \n",
       "2       5.06     -11.80     -28.91     -70.02     -96.67  \n",
       "\n",
       "[3 rows x 3198 columns]"
      ]
     },
     "execution_count": 3,
     "metadata": {},
     "output_type": "execute_result"
    }
   ],
   "source": [
    "df.head(3)"
   ]
  },
  {
   "cell_type": "code",
   "execution_count": 4,
   "metadata": {
    "ExecuteTime": {
     "end_time": "2022-02-27T19:26:43.033703Z",
     "start_time": "2022-02-27T19:26:43.030320Z"
    }
   },
   "outputs": [
    {
     "data": {
      "text/plain": [
       "(400, 3198)"
      ]
     },
     "execution_count": 4,
     "metadata": {},
     "output_type": "execute_result"
    }
   ],
   "source": [
    "df.shape"
   ]
  },
  {
   "cell_type": "code",
   "execution_count": 5,
   "metadata": {
    "ExecuteTime": {
     "end_time": "2022-02-27T19:26:43.039965Z",
     "start_time": "2022-02-27T19:26:43.035565Z"
    }
   },
   "outputs": [
    {
     "data": {
      "text/plain": [
       "1    363\n",
       "2     37\n",
       "Name: LABEL, dtype: int64"
      ]
     },
     "execution_count": 5,
     "metadata": {},
     "output_type": "execute_result"
    }
   ],
   "source": [
    "df['LABEL'].value_counts()"
   ]
  },
  {
   "cell_type": "markdown",
   "metadata": {},
   "source": [
    "\n",
    "- There are only 37 exoplanet stars and these are all present in the dataset as can be seen from the number of label\n",
    "tagged with \"2\". We can also see how imbalance the dataset is: 37 vs. 363.\n",
    "\n",
""   ]
  },
  {
   "cell_type": "markdown",
   "metadata": {},
   "source": [
    "# Understanding what the data are\n",
    "<hr style = \"border:2px solid black\" ></hr>"
   ]
  },
  {
   "cell_type": "code",
   "execution_count": 6,
   "metadata": {
    "ExecuteTime": {
     "end_time": "2022-02-27T19:26:43.052176Z",
     "start_time": "2022-02-27T19:26:43.041664Z"
    }
   },
   "outputs": [],
   "source": [
    "# default provides a nice light-gray background with a white grid\n",
    "sns.set()\n",
    "\n",
    "X = df.iloc[:, 1:]\n",
    "y = df.iloc[:, 0]\n",
    "\n",
    "\n",
    "def light_plot(index):\n",
    "    y_vals = X.iloc[index]\n",
    "    x_vals = np.arange(len(y_vals))\n",
    "    plt.figure(figsize=(15, 8))\n",
    "    plt.xlabel('Number of Observations')\n",
    "    plt.ylabel('Light Flux')\n",
    "    plt.title('Light Plot ' + str(index), size=15)\n",
    "    plt.plot(x_vals, y_vals)\n",
    "    plt.show()"
   ]
  },
  {
   "cell_type": "markdown",
   "metadata": {},
   "source": [
    "\n",
    "- The expectation is that when an exoplanet blocks light from a star, the light flux goes down. \n",
    "- If drops in flux occur periodically, an exoplanet is likely the reason since, by definition, a planet is a large object orbiting \n",
    "a star.” \n",
    "\n",
""   ]
  },
  {
   "cell_type": "code",
   "execution_count": 7,
   "metadata": {
    "ExecuteTime": {
     "end_time": "2022-02-27T19:26:43.402275Z",
     "start_time": "2022-02-27T19:26:43.053945Z"
    }
   },
   "outputs": [
    {
     "data": {
      "image/png": "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\n",
      "text/plain": [
       "<Figure size 1080x576 with 1 Axes>"
      ]
     },
     "metadata": {},
     "output_type": "display_data"
    }
   ],
   "source": [
    "# Plot the first light source\n",
    "light_plot(0)"
   ]
  },
  {
   "cell_type": "markdown",
   "metadata": {},
   "source": [
    "\n",
    "- There are clear drops in the data that occur periodically. \n",
    "- However, concluding that an exoplanet is present is not obvious from this graph alone.\n",
    "\n",
""   ]
  },
  {
   "cell_type": "code",
   "execution_count": 8,
   "metadata": {
    "ExecuteTime": {
     "end_time": "2022-02-27T19:26:43.571600Z",
     "start_time": "2022-02-27T19:26:43.403838Z"
    }
   },
   "outputs": [
    {
     "data": {
      "image/png": "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\n",
      "text/plain": [
       "<Figure size 1080x576 with 1 Axes>"
      ]
     },
     "metadata": {},
     "output_type": "display_data"
    }
   ],
   "source": [
    "light_plot(37)"
   ]
  },
  {
   "cell_type": "markdown",
   "metadata": {},
   "source": [
    "\n",
    "- Increases and decreases in light are present, but not over the entire range. \n",
    "- There are clear drops in the data, but they are not periodic throughout the graph. \n",
    "- The frequency of the drops does not recur consistently. Based on this evidence alone, it's not enough to determine the presence of an exoplanet.\n",
    "\n",
""   ]
  },
  {
   "cell_type": "code",
   "execution_count": 9,
   "metadata": {
    "ExecuteTime": {
     "end_time": "2022-02-27T19:26:43.758809Z",
     "start_time": "2022-02-27T19:26:43.574941Z"
    }
   },
   "outputs": [
    {
     "data": {
      "image/png": "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\n",
      "text/plain": [
       "<Figure size 1080x576 with 1 Axes>"
      ]
     },
     "metadata": {},
     "output_type": "display_data"
    }
   ],
   "source": [
    "light_plot(1)"
   ]
  },
  {
   "cell_type": "markdown",
   "metadata": {},
   "source": [
    "\n",
    "- The plot shows clear periodicity with large drops in light flux making an exoplanet extremely likely! If all \n",
    "the plots were this clear, machine learning would be unnecessary. As the other plots reveal, concluding that \n",
    "an exoplanet is present is usually not this clear. The purpose here is to highlight the data and the difficulty\n",
    "of classifying exoplanets based on visual graphs alone. \n",
    "- Astronomers use different methods to classify exoplanets,\n",
    "and machine learning is one such method. Although this dataset is a time series, the goal is not to predict light\n",
    "flux for the next unit of time, but rather to classify the star based on all the data. In this respect, machine \n",
    "learning classifiers may be used to predict whether a given star hosts an exoplanet. \n",
    "\n",
""   ]
  },
  {
   "cell_type": "markdown",
   "metadata": {},
   "source": [
    "# Preparing data\n",
    "<hr style = \"border:2px solid black\" ></hr>"
   ]
  },
  {
   "cell_type": "code",
   "execution_count": 10,
   "metadata": {
    "ExecuteTime": {
     "end_time": "2022-02-27T19:26:43.894403Z",
     "start_time": "2022-02-27T19:26:43.760108Z"
    }
   },
   "outputs": [
    {
     "name": "stdout",
     "output_type": "stream",
     "text": [
      "<class 'pandas.core.frame.DataFrame'>\n",
      "RangeIndex: 400 entries, 0 to 399\n",
      "Columns: 3198 entries, LABEL to FLUX.3197\n",
      "dtypes: float64(3197), int64(1)\n",
      "memory usage: 9.8 MB\n"
     ]
    }
   ],
   "source": [
    "df.info()"
   ]
  },
  {
   "cell_type": "code",
   "execution_count": 11,
   "metadata": {
    "ExecuteTime": {
     "end_time": "2022-02-27T19:26:43.904658Z",
     "start_time": "2022-02-27T19:26:43.896552Z"
    }
   },
   "outputs": [
    {
     "data": {
      "text/plain": [
       "0"
      ]
     },
     "execution_count": 11,
     "metadata": {},
     "output_type": "execute_result"
    }
   ],
   "source": [
    "# Sum null values\n",
    "df.isnull().sum().sum()"
   ]
  },
  {
   "cell_type": "markdown",
   "metadata": {},
   "source": [
    "# Baseline model\n",
    "<hr style = \"border:2px solid black\" ></hr>"
   ]
  },
  {
   "cell_type": "code",
   "execution_count": 12,
   "metadata": {
    "ExecuteTime": {
     "end_time": "2022-02-27T19:26:43.917929Z",
     "start_time": "2022-02-27T19:26:43.906459Z"
    }
   },
   "outputs": [],
   "source": [
    "# Split data into train and test sets\n",
    "X_train, X_test, y_train, y_test = train_test_split(X, y, random_state=2)"
   ]
  },
  {
   "cell_type": "code",
   "execution_count": 13,
   "metadata": {
    "ExecuteTime": {
     "end_time": "2022-02-27T19:26:45.163489Z",
     "start_time": "2022-02-27T19:26:43.919782Z"
    }
   },
   "outputs": [
    {
     "name": "stdout",
     "output_type": "stream",
     "text": [
      "[19:26:44] WARNING: /Users/runner/work/xgboost/xgboost/src/learner.cc:1115: Starting in XGBoost 1.3.0, the default evaluation metric used with the objective 'binary:logistic' was changed from 'error' to 'logloss'. Explicitly set eval_metric if you'd like to restore the old behavior.\n"
     ]
    },
    {
     "name": "stderr",
     "output_type": "stream",
     "text": [
      "/opt/anaconda3/envs/trainingAI/lib/python3.9/site-packages/xgboost/sklearn.py:1224: UserWarning: The use of label encoder in XGBClassifier is deprecated and will be removed in a future release. To remove this warning, do the following: 1) Pass option use_label_encoder=False when constructing XGBClassifier object; and 2) Encode your labels (y) as integers starting with 0, i.e. 0, 1, 2, ..., [num_class - 1].\n",
      "  warnings.warn(label_encoder_deprecation_msg, UserWarning)\n",
      "/opt/anaconda3/envs/trainingAI/lib/python3.9/site-packages/xgboost/data.py:262: FutureWarning: pandas.Int64Index is deprecated and will be removed from pandas in a future version. Use pandas.Index with the appropriate dtype instead.\n",
      "  elif isinstance(data.columns, (pd.Int64Index, pd.RangeIndex)):\n"
     ]
    },
    {
     "name": "stdout",
     "output_type": "stream",
     "text": [
      "Score: 0.89\n"
     ]
    }
   ],
   "source": [
    "# Instantiate the XGBRegressor, xg_reg\n",
    "model = XGBClassifier(booster='gbtree', objective='binary:logistic', random_state=2)\n",
    "\n",
    "# Fit xg_reg to training set\n",
    "model.fit(X_train, y_train)\n",
    "\n",
    "# Predict labels of test set, y_pred\n",
    "y_pred = model.predict(X_test)\n",
    "\n",
    "score = accuracy_score(y_pred, y_test)\n",
    "\n",
    "print('Score: ' + str(score))"
   ]
  },
  {
   "cell_type": "code",
   "execution_count": 14,
   "metadata": {
    "ExecuteTime": {
     "end_time": "2022-02-27T19:26:45.169153Z",
     "start_time": "2022-02-27T19:26:45.165429Z"
    }
   },
   "outputs": [
    {
     "name": "stdout",
     "output_type": "stream",
     "text": [
      "88\n",
      "12\n",
      "100\n"
     ]
    }
   ],
   "source": [
    "print(len(y_test[y_test==1]))\n",
    "print(len(y_test[y_test==2]))\n",
    "print(len(y_test))"
   ]
  },
  {
   "cell_type": "markdown",
   "metadata": {},
   "source": [
    "\n",
    "- I see that you obtained 89% accuracy, but exoplanets represent “10% of the data, so how do you know your results \n",
    "aren't better than a model that predicts no exoplanets 100% of the time? \n",
    "- Therein lies the issue. If the model determines that no stars contain exoplanets, its accuracy will be approximately 90% since 9 out of 10 stars do not\n",
    "contain exoplanets. With imbalanced data, accuracy IS NOT enough.\n",
    "\n",
""   ]
  },
  {
   "cell_type": "markdown",
   "metadata": {},
   "source": [
    "# Post-processing the data\n",
    "<hr style = \"border:2px solid black\" ></hr>"
   ]
  },
  {
   "cell_type": "code",
   "execution_count": 15,
   "metadata": {
    "ExecuteTime": {
     "end_time": "2022-02-27T19:26:45.175660Z",
     "start_time": "2022-02-27T19:26:45.171060Z"
    }
   },
   "outputs": [
    {
     "data": {
      "text/plain": [
       "array([[86,  2],\n",
       "       [ 9,  3]])"
      ]
     },
     "execution_count": 15,
     "metadata": {},
     "output_type": "execute_result"
    }
   ],
   "source": [
    "confusion_matrix(y_test, y_pred)"
   ]
  },
  {
   "cell_type": "code",
   "execution_count": 16,
   "metadata": {
    "ExecuteTime": {
     "end_time": "2022-02-27T19:26:45.181512Z",
     "start_time": "2022-02-27T19:26:45.177645Z"
    }
   },
   "outputs": [
    {
     "data": {
      "text/plain": [
       "'a perfect case would be:\\narray([[88, 0],\\n\\xa0\\xa0\\xa0\\xa0\\xa0\\xa0 [ 0,\\xa0\\xa012]])\\n'"
      ]
     },
     "execution_count": 16,
     "metadata": {},
     "output_type": "execute_result"
    }
   ],
   "source": [
    "\"\"\"a perfect case would be:\n",
    "array([[88, 0],\n",
    "       [ 0,  12]])\n",
    "\"\"\""
   ]
  },
  {
   "cell_type": "code",
   "execution_count": 17,
   "metadata": {
    "ExecuteTime": {
     "end_time": "2022-02-27T19:26:45.191856Z",
     "start_time": "2022-02-27T19:26:45.183539Z"
    }
   },
   "outputs": [
    {
     "name": "stdout",
     "output_type": "stream",
     "text": [
      "              precision    recall  f1-score   support\n",
      "\n",
      "           1       0.91      0.98      0.94        88\n",
      "           2       0.60      0.25      0.35        12\n",
      "\n",
      "    accuracy                           0.89       100\n",
      "   macro avg       0.75      0.61      0.65       100\n",
      "weighted avg       0.87      0.89      0.87       100\n",
      "\n"
     ]
    }
   ],
   "source": [
    "print(classification_report(y_test, y_pred))"
   ]
  },
  {
   "cell_type": "markdown",
   "metadata": {},
   "source": [
    "\n",
    "- Precision or recall? The answer is that it depends!\n",
    "\n",
    "- **Recall** is ideal for flagging potential positive cases (exoplanets) with the goal of finding them all. In another \n",
    "words, if the goal of the machine learning model is to find as many exoplanets as possible, recall is an excellent\n",
    "choice. Why? Recall tells us how many of the TP have been found in total.\n",
    "\n",
    "- **Precision** is ideal for ensuring that the predictions (exoplanets) are indeed positive. In fact a higher precision \n",
    "does not indicate more TP!\n",
    "\n",
    "- We will proceed with recall as the scoring method for the Exoplanet dataset to find as many exoplanets as possible.\n",
    "\n",
""   ]
  },
  {
   "cell_type": "code",
   "execution_count": 18,
   "metadata": {
    "ExecuteTime": {
     "end_time": "2022-02-27T19:26:45.199799Z",
     "start_time": "2022-02-27T19:26:45.193868Z"
    }
   },
   "outputs": [
    {
     "data": {
      "text/plain": [
       "0.25"
      ]
     },
     "execution_count": 18,
     "metadata": {},
     "output_type": "execute_result"
    }
   ],
   "source": [
    "# Which is the same value taken from the classification report\n",
    "recall_score(y_test, y_pred, pos_label=2)"
   ]
  },
  {
   "cell_type": "markdown",
   "metadata": {},
   "source": [
    "# Resampling imbalanced data\n",
    "<hr style = \"border:2px solid black\" ></hr>"
   ]
  },
  {
   "cell_type": "markdown",
   "metadata": {},
   "source": [
    "\n",
    "- So now that we have decided that recall is the right metric for our needs, we still need to understand and then\n",
    "fix its low score of 0.25! \n",
    "- Resampling offers a way out. \n",
    "\n",
""   ]
  },
  {
   "cell_type": "code",
   "execution_count": 19,
   "metadata": {
    "ExecuteTime": {
     "end_time": "2022-02-27T19:26:45.206355Z",
     "start_time": "2022-02-27T19:26:45.201727Z"
    },
    "code_folding": []
   },
   "outputs": [],
   "source": [
    "def xgb_clf(model, nrows):\n",
    "    df = pd.read_csv('../../DATASETS/exoplanets.csv')\n",
    "    print(\"Original dataset shape:\", df.shape)\n",
    "    df = pd.read_csv('../../DATASETS/exoplanets.csv', nrows=nrows)\n",
    "    \n",
    "    # Split data into X and y\n",
    "    X = df.iloc[:,1:]\n",
    "    y = df.iloc[:,0]\n",
    "\n",
    "    # Split data into train and test sets\n",
    "    X_train, X_test, y_train, y_test = train_test_split(X, y, random_state=2)\n",
    "\n",
    "    # Fit xg_reg to training set\n",
    "    model.fit(X_train, y_train)\n",
    "\n",
    "    # Predict labels of test set, y_pred\n",
    "    y_pred = model.predict(X_test)\n",
    "\n",
    "    score = recall_score(y_test, y_pred, pos_label=2)\n",
    "    \n",
    "    print(confusion_matrix(y_test, y_pred))\n",
    "    \n",
    "    print(classification_report(y_test, y_pred))\n",
    "        \n",
    "    return score"
   ]
  },
  {
   "cell_type": "markdown",
   "metadata": {},
   "source": [
    "## Undersampling\n",
    "<hr style = \"border:2px solid black\" ></hr>"
   ]
  },
  {
   "cell_type": "markdown",
   "metadata": {},
   "source": [
    "\n",
    "- It's possible to undersample the data by reducing rows of the majority class and to oversample the data by \n",
    "repeating rows of the minority class.\n",
    "\n",
""   ]
  },
  {
   "cell_type": "code",
   "execution_count": 20,
   "metadata": {
    "ExecuteTime": {
     "end_time": "2022-02-27T19:26:50.763837Z",
     "start_time": "2022-02-27T19:26:45.208341Z"
    },
    "scrolled": true
   },
   "outputs": [
    {
     "name": "stdout",
     "output_type": "stream",
     "text": [
      "Original dataset shape: (5087, 3198)\n"
     ]
    },
    {
     "name": "stderr",
     "output_type": "stream",
     "text": [
      "/opt/anaconda3/envs/trainingAI/lib/python3.9/site-packages/xgboost/sklearn.py:1224: UserWarning: The use of label encoder in XGBClassifier is deprecated and will be removed in a future release. To remove this warning, do the following: 1) Pass option use_label_encoder=False when constructing XGBClassifier object; and 2) Encode your labels (y) as integers starting with 0, i.e. 0, 1, 2, ..., [num_class - 1].\n",
      "  warnings.warn(label_encoder_deprecation_msg, UserWarning)\n",
      "/opt/anaconda3/envs/trainingAI/lib/python3.9/site-packages/xgboost/data.py:262: FutureWarning: pandas.Int64Index is deprecated and will be removed from pandas in a future version. Use pandas.Index with the appropriate dtype instead.\n",
      "  elif isinstance(data.columns, (pd.Int64Index, pd.RangeIndex)):\n"
     ]
    },
    {
     "name": "stdout",
     "output_type": "stream",
     "text": [
      "[19:26:48] WARNING: /Users/runner/work/xgboost/xgboost/src/learner.cc:1115: Starting in XGBoost 1.3.0, the default evaluation metric used with the objective 'binary:logistic' was changed from 'error' to 'logloss'. Explicitly set eval_metric if you'd like to restore the old behavior.\n",
      "[[189   1]\n",
      " [  9   1]]\n",
      "              precision    recall  f1-score   support\n",
      "\n",
      "           1       0.95      0.99      0.97       190\n",
      "           2       0.50      0.10      0.17        10\n",
      "\n",
      "    accuracy                           0.95       200\n",
      "   macro avg       0.73      0.55      0.57       200\n",
      "weighted avg       0.93      0.95      0.93       200\n",
      "\n"
     ]
    },
    {
     "data": {
      "text/plain": [
       "0.1"
      ]
     },
     "execution_count": 20,
     "metadata": {},
     "output_type": "execute_result"
    }
   ],
   "source": [
    "# Undersampling 800 < 5087\n",
    "xgb_clf(XGBClassifier(random_state=2), nrows=800)"
   ]
  },
  {
   "cell_type": "code",
   "execution_count": 21,
   "metadata": {
    "ExecuteTime": {
     "end_time": "2022-02-27T19:26:54.690907Z",
     "start_time": "2022-02-27T19:26:50.765609Z"
    }
   },
   "outputs": [
    {
     "name": "stdout",
     "output_type": "stream",
     "text": [
      "Original dataset shape: (5087, 3198)\n"
     ]
    },
    {
     "name": "stderr",
     "output_type": "stream",
     "text": [
      "/opt/anaconda3/envs/trainingAI/lib/python3.9/site-packages/xgboost/sklearn.py:1224: UserWarning: The use of label encoder in XGBClassifier is deprecated and will be removed in a future release. To remove this warning, do the following: 1) Pass option use_label_encoder=False when constructing XGBClassifier object; and 2) Encode your labels (y) as integers starting with 0, i.e. 0, 1, 2, ..., [num_class - 1].\n",
      "  warnings.warn(label_encoder_deprecation_msg, UserWarning)\n",
      "/opt/anaconda3/envs/trainingAI/lib/python3.9/site-packages/xgboost/data.py:262: FutureWarning: pandas.Int64Index is deprecated and will be removed from pandas in a future version. Use pandas.Index with the appropriate dtype instead.\n",
      "  elif isinstance(data.columns, (pd.Int64Index, pd.RangeIndex)):\n"
     ]
    },
    {
     "name": "stdout",
     "output_type": "stream",
     "text": [
      "[19:26:53] WARNING: /Users/runner/work/xgboost/xgboost/src/learner.cc:1115: Starting in XGBoost 1.3.0, the default evaluation metric used with the objective 'binary:logistic' was changed from 'error' to 'logloss'. Explicitly set eval_metric if you'd like to restore the old behavior.\n",
      "[[37  0]\n",
      " [ 8  5]]\n",
      "              precision    recall  f1-score   support\n",
      "\n",
      "           1       0.82      1.00      0.90        37\n",
      "           2       1.00      0.38      0.56        13\n",
      "\n",
      "    accuracy                           0.84        50\n",
      "   macro avg       0.91      0.69      0.73        50\n",
      "weighted avg       0.87      0.84      0.81        50\n",
      "\n"
     ]
    },
    {
     "data": {
      "text/plain": [
       "0.38461538461538464"
      ]
     },
     "execution_count": 21,
     "metadata": {},
     "output_type": "execute_result"
    }
   ],
   "source": [
    "# unsweampling\n",
    "xgb_clf(XGBClassifier(random_state=2), nrows=200)"
   ]
  },
  {
   "cell_type": "markdown",
   "metadata": {},
   "source": [
    "\n",
    "\n",
    "- Let's see what happens if we balance the classes precisely. \n",
    "- Since there are 37 exoplanet-stars, 37 non-exoplanet stars balance the data.” \n",
    "\n",
""    "\n"
   ]
  },
  {
   "cell_type": "code",
   "execution_count": 22,
   "metadata": {
    "ExecuteTime": {
     "end_time": "2022-02-27T19:26:58.568758Z",
     "start_time": "2022-02-27T19:26:54.692919Z"
    }
   },
   "outputs": [
    {
     "name": "stdout",
     "output_type": "stream",
     "text": [
      "Original dataset shape: (5087, 3198)\n",
      "[19:26:57] WARNING: /Users/runner/work/xgboost/xgboost/src/learner.cc:1115: Starting in XGBoost 1.3.0, the default evaluation metric used with the objective 'binary:logistic' was changed from 'error' to 'logloss'. Explicitly set eval_metric if you'd like to restore the old behavior.\n"
     ]
    },
    {
     "name": "stderr",
     "output_type": "stream",
     "text": [
      "/opt/anaconda3/envs/trainingAI/lib/python3.9/site-packages/xgboost/sklearn.py:1224: UserWarning: The use of label encoder in XGBClassifier is deprecated and will be removed in a future release. To remove this warning, do the following: 1) Pass option use_label_encoder=False when constructing XGBClassifier object; and 2) Encode your labels (y) as integers starting with 0, i.e. 0, 1, 2, ..., [num_class - 1].\n",
      "  warnings.warn(label_encoder_deprecation_msg, UserWarning)\n",
      "/opt/anaconda3/envs/trainingAI/lib/python3.9/site-packages/xgboost/data.py:262: FutureWarning: pandas.Int64Index is deprecated and will be removed from pandas in a future version. Use pandas.Index with the appropriate dtype instead.\n",
      "  elif isinstance(data.columns, (pd.Int64Index, pd.RangeIndex)):\n"
     ]
    },
    {
     "name": "stdout",
     "output_type": "stream",
     "text": [
      "[[6 2]\n",
      " [5 6]]\n",
      "              precision    recall  f1-score   support\n",
      "\n",
      "           1       0.55      0.75      0.63         8\n",
      "           2       0.75      0.55      0.63        11\n",
      "\n",
      "    accuracy                           0.63        19\n",
      "   macro avg       0.65      0.65      0.63        19\n",
      "weighted avg       0.66      0.63      0.63        19\n",
      "\n"
     ]
    },
    {
     "data": {
      "text/plain": [
       "0.5454545454545454"
      ]
     },
     "execution_count": 22,
     "metadata": {},
     "output_type": "execute_result"
    }
   ],
   "source": [
    "xgb_clf(XGBClassifier(random_state=2), nrows=74)"
   ]
  },
  {
   "cell_type": "markdown",
   "metadata": {},
   "source": [
    "## Oversampling\n",
    "<hr style = \"border:2px solid black\" ></hr>"
   ]
  },
  {
   "cell_type": "markdown",
   "metadata": {},
   "source": [
    "\n",
    "- Another resampling technique is oversampling. Instead of eliminating rows, oversampling adds rows by copying\n",
    "vand redistributing the positive cases. \n",
    "\n",
    "- Before proceeding, a **warning** is in order. If the data is resampled before splitting it into training and test \n",
    "sets, the recall score will be inflated. Can you see why? When resampling, nine copies will be made of the \n",
    "positive cases. After splitting this data into training and test sets, copies are likely contained in both sets.\n",
    "\n",
    "- So, the test set will contain most of the same data points as the training set. The appropriate strategy is to\n",
    "split the data into a training and test set first and then to resample the data.\n",
    "\n",
""   ]
  },
  {
   "cell_type": "code",
   "execution_count": 23,
   "metadata": {
    "ExecuteTime": {
     "end_time": "2022-02-27T19:26:58.578675Z",
     "start_time": "2022-02-27T19:26:58.570655Z"
    }
   },
   "outputs": [],
   "source": [
    "df_train = pd.merge(y_train, X_train, left_index=True, right_index=True)"
   ]
  },
  {
   "cell_type": "code",
   "execution_count": 24,
   "metadata": {
    "ExecuteTime": {
     "end_time": "2022-02-27T19:26:58.599751Z",
     "start_time": "2022-02-27T19:26:58.580711Z"
    }
   },
   "outputs": [
    {
     "data": {
      "text/plain": [
       "1.0    275\n",
       "2.0    250\n",
       "Name: LABEL, dtype: int64"
      ]
     },
     "execution_count": 24,
     "metadata": {},
     "output_type": "execute_result"
    }
   ],
   "source": [
    "newdf = pd.DataFrame(\n",
    "    np.repeat(df_train[df_train['LABEL'] == 2].values, 9, axis=0))\n",
    "newdf.columns = df_train.columns\n",
    "df_train_resample = pd.concat([df_train, newdf])\n",
    "\n",
    "df_train_resample['LABEL'].value_counts()"
   ]
  },
  {
   "cell_type": "code",
   "execution_count": 25,
   "metadata": {
    "ExecuteTime": {
     "end_time": "2022-02-27T19:26:58.610486Z",
     "start_time": "2022-02-27T19:26:58.601634Z"
    }
   },
   "outputs": [],
   "source": [
    "X_train_resample = df_train_resample.iloc[:,1:]\n",
    "y_train_resample = df_train_resample.iloc[:,0]"
   ]
  },
  {
   "cell_type": "code",
   "execution_count": 26,
   "metadata": {
    "ExecuteTime": {
     "end_time": "2022-02-27T19:27:00.119584Z",
     "start_time": "2022-02-27T19:26:58.612463Z"
    }
   },
   "outputs": [
    {
     "name": "stdout",
     "output_type": "stream",
     "text": [
      "[19:26:58] WARNING: /Users/runner/work/xgboost/xgboost/src/learner.cc:1115: Starting in XGBoost 1.3.0, the default evaluation metric used with the objective 'binary:logistic' was changed from 'error' to 'logloss'. Explicitly set eval_metric if you'd like to restore the old behavior.\n"
     ]
    },
    {
     "name": "stderr",
     "output_type": "stream",
     "text": [
      "/opt/anaconda3/envs/trainingAI/lib/python3.9/site-packages/xgboost/sklearn.py:1224: UserWarning: The use of label encoder in XGBClassifier is deprecated and will be removed in a future release. To remove this warning, do the following: 1) Pass option use_label_encoder=False when constructing XGBClassifier object; and 2) Encode your labels (y) as integers starting with 0, i.e. 0, 1, 2, ..., [num_class - 1].\n",
      "  warnings.warn(label_encoder_deprecation_msg, UserWarning)\n",
      "/opt/anaconda3/envs/trainingAI/lib/python3.9/site-packages/xgboost/data.py:262: FutureWarning: pandas.Int64Index is deprecated and will be removed from pandas in a future version. Use pandas.Index with the appropriate dtype instead.\n",
      "  elif isinstance(data.columns, (pd.Int64Index, pd.RangeIndex)):\n"
     ]
    },
    {
     "name": "stdout",
     "output_type": "stream",
     "text": [
      "[[86  2]\n",
      " [ 8  4]]\n",
      "              precision    recall  f1-score   support\n",
      "\n",
      "           1       0.91      0.98      0.95        88\n",
      "           2       0.67      0.33      0.44        12\n",
      "\n",
      "    accuracy                           0.90       100\n",
      "   macro avg       0.79      0.66      0.69       100\n",
      "weighted avg       0.89      0.90      0.88       100\n",
      "\n",
      "0.3333333333333333\n"
     ]
    }
   ],
   "source": [
    "# Instantiate the XGBRegressor, xg_reg\n",
    "model = XGBClassifier(random_state=2)\n",
    "\n",
    "# Fit xg_reg to training set\n",
    "model.fit(X_train_resample, y_train_resample)\n",
    "\n",
    "# Predict labels of test set, y_pred\n",
    "y_pred = model.predict(X_test)\n",
    "\n",
    "score = recall_score(y_test, y_pred, pos_label=2)\n",
    "\n",
    "print(confusion_matrix(y_test, y_pred))\n",
    "\n",
    "print(classification_report(y_test, y_pred))\n",
    "\n",
    "print(score)"
   ]
  },
  {
   "cell_type": "markdown",
   "metadata": {},
   "source": [
    "\n",
    "- By appropriately holding out a test set to begin with, oversampling achieves 33.3% recall, a score that is twice as strong as the 17% obtained earlier, although still much too low. \n",
    "- Since resampling has produced modest gains at best, it's time to adjust the hyperparameters of XGBoost.\n",
    "\n",
""   ]
  },
  {
   "cell_type": "markdown",
   "metadata": {},
   "source": [
    "# Tuning and scaling XGBClassifier\n",
    "<hr style = \"border:2px solid black\" ></hr>"
   ]
  },
  {
   "cell_type": "markdown",
   "metadata": {},
   "source": [
    "\n",
    "- Scale_pos_weight is a hyperparameter used to scale the positive weight. \n",
    "- The emphasis here on positive is important because XGBoost assumes that a target value of 1 is positive and a target value of 0 is negative.\n",
    "\n",
""   ]
  },
  {
   "cell_type": "code",
   "execution_count": 27,
   "metadata": {
    "ExecuteTime": {
     "end_time": "2022-02-27T19:27:00.133373Z",
     "start_time": "2022-02-27T19:27:00.129482Z"
    }
   },
   "outputs": [
    {
     "data": {
      "text/plain": [
       "1    363\n",
       "2     37\n",
       "Name: LABEL, dtype: int64"
      ]
     },
     "execution_count": 27,
     "metadata": {},
     "output_type": "execute_result"
    }
   ],
   "source": [
    "df['LABEL'].value_counts()"
   ]
  },
  {
   "cell_type": "code",
   "execution_count": 28,
   "metadata": {
    "ExecuteTime": {
     "end_time": "2022-02-27T19:27:00.142306Z",
     "start_time": "2022-02-27T19:27:00.135152Z"
    }
   },
   "outputs": [
    {
     "data": {
      "text/plain": [
       "0    363\n",
       "1     37\n",
       "Name: LABEL, dtype: int64"
      ]
     },
     "execution_count": 28,
     "metadata": {},
     "output_type": "execute_result"
    }
   ],
   "source": [
    "df['LABEL'] = df['LABEL'].replace(1, 0)\n",
    "df['LABEL'] = df['LABEL'].replace(2, 1)\n",
    "\n",
    "df['LABEL'].value_counts()"
   ]
  },
  {
   "cell_type": "code",
   "execution_count": 29,
   "metadata": {
    "ExecuteTime": {
     "end_time": "2022-02-27T19:27:00.154890Z",
     "start_time": "2022-02-27T19:27:00.144358Z"
    }
   },
   "outputs": [],
   "source": [
    "# Split data into X and y\n",
    "X = df.iloc[:,1:]\n",
    "y = df.iloc[:,0]\n",
    "\n",
    "# Split data into train and test sets\n",
    "X_train, X_test, y_train, y_test = train_test_split(X, y, random_state=2)"
   ]
  },
  {
   "cell_type": "code",
   "execution_count": 30,
   "metadata": {
    "ExecuteTime": {
     "end_time": "2022-02-27T19:27:01.419445Z",
     "start_time": "2022-02-27T19:27:00.156652Z"
    }
   },
   "outputs": [
    {
     "name": "stdout",
     "output_type": "stream",
     "text": [
      "[19:27:00] WARNING: /Users/runner/work/xgboost/xgboost/src/learner.cc:1115: Starting in XGBoost 1.3.0, the default evaluation metric used with the objective 'binary:logistic' was changed from 'error' to 'logloss'. Explicitly set eval_metric if you'd like to restore the old behavior.\n"
     ]
    },
    {
     "name": "stderr",
     "output_type": "stream",
     "text": [
      "/opt/anaconda3/envs/trainingAI/lib/python3.9/site-packages/xgboost/sklearn.py:1224: UserWarning: The use of label encoder in XGBClassifier is deprecated and will be removed in a future release. To remove this warning, do the following: 1) Pass option use_label_encoder=False when constructing XGBClassifier object; and 2) Encode your labels (y) as integers starting with 0, i.e. 0, 1, 2, ..., [num_class - 1].\n",
      "  warnings.warn(label_encoder_deprecation_msg, UserWarning)\n",
      "/opt/anaconda3/envs/trainingAI/lib/python3.9/site-packages/xgboost/data.py:262: FutureWarning: pandas.Int64Index is deprecated and will be removed from pandas in a future version. Use pandas.Index with the appropriate dtype instead.\n",
      "  elif isinstance(data.columns, (pd.Int64Index, pd.RangeIndex)):\n"
     ]
    },
    {
     "name": "stdout",
     "output_type": "stream",
     "text": [
      "[[86  2]\n",
      " [ 8  4]]\n",
      "              precision    recall  f1-score   support\n",
      "\n",
      "           0       0.91      0.98      0.95        88\n",
      "           1       0.67      0.33      0.44        12\n",
      "\n",
      "    accuracy                           0.90       100\n",
      "   macro avg       0.79      0.66      0.69       100\n",
      "weighted avg       0.89      0.90      0.88       100\n",
      "\n",
      "0.3333333333333333\n"
     ]
    }
   ],
   "source": [
    "# allows you to counteract un imbalanced dataset\n",
    "model = XGBClassifier(scale_pos_weight=10, random_state=2)\n",
    "\n",
    "model.fit(X_train, y_train)\n",
    "\n",
    "# Predict labels of test set, y_pred\n",
    "y_pred = model.predict(X_test)\n",
    "\n",
    "score = recall_score(y_test, y_pred)\n",
    "\n",
    "print(confusion_matrix(y_test, y_pred))\n",
    "\n",
    "print(classification_report(y_test, y_pred))\n",
    "\n",
    "print(score)"
   ]
  },
  {
   "cell_type": "markdown",
   "metadata": {},
   "source": [
    "\n",
    "- The results are the same as before. \n",
    "- This is no surprise as we hopefully made no mistake and we simply let XGBoost exactly the same thing for us by just using a flag.\n",
    "\n",
""   ]
  },
  {
   "cell_type": "code",
   "execution_count": 31,
   "metadata": {
    "ExecuteTime": {
     "end_time": "2022-02-27T19:27:03.438624Z",
     "start_time": "2022-02-27T19:27:01.421546Z"
    }
   },
   "outputs": [
    {
     "name": "stdout",
     "output_type": "stream",
     "text": [
      "[19:27:01] WARNING: /Users/runner/work/xgboost/xgboost/src/learner.cc:1115: Starting in XGBoost 1.3.0, the default evaluation metric used with the objective 'binary:logistic' was changed from 'error' to 'logloss'. Explicitly set eval_metric if you'd like to restore the old behavior.\n"
     ]
    },
    {
     "name": "stderr",
     "output_type": "stream",
     "text": [
      "/opt/anaconda3/envs/trainingAI/lib/python3.9/site-packages/xgboost/sklearn.py:1224: UserWarning: The use of label encoder in XGBClassifier is deprecated and will be removed in a future release. To remove this warning, do the following: 1) Pass option use_label_encoder=False when constructing XGBClassifier object; and 2) Encode your labels (y) as integers starting with 0, i.e. 0, 1, 2, ..., [num_class - 1].\n",
      "  warnings.warn(label_encoder_deprecation_msg, UserWarning)\n",
      "/opt/anaconda3/envs/trainingAI/lib/python3.9/site-packages/xgboost/data.py:262: FutureWarning: pandas.Int64Index is deprecated and will be removed from pandas in a future version. Use pandas.Index with the appropriate dtype instead.\n",
      "  elif isinstance(data.columns, (pd.Int64Index, pd.RangeIndex)):\n",
      "/opt/anaconda3/envs/trainingAI/lib/python3.9/site-packages/xgboost/sklearn.py:1224: UserWarning: The use of label encoder in XGBClassifier is deprecated and will be removed in a future release. To remove this warning, do the following: 1) Pass option use_label_encoder=False when constructing XGBClassifier object; and 2) Encode your labels (y) as integers starting with 0, i.e. 0, 1, 2, ..., [num_class - 1].\n",
      "  warnings.warn(label_encoder_deprecation_msg, UserWarning)\n",
      "/opt/anaconda3/envs/trainingAI/lib/python3.9/site-packages/xgboost/data.py:262: FutureWarning: pandas.Int64Index is deprecated and will be removed from pandas in a future version. Use pandas.Index with the appropriate dtype instead.\n",
      "  elif isinstance(data.columns, (pd.Int64Index, pd.RangeIndex)):\n"
     ]
    },
    {
     "name": "stdout",
     "output_type": "stream",
     "text": [
      "[19:27:02] WARNING: /Users/runner/work/xgboost/xgboost/src/learner.cc:1115: Starting in XGBoost 1.3.0, the default evaluation metric used with the objective 'binary:logistic' was changed from 'error' to 'logloss'. Explicitly set eval_metric if you'd like to restore the old behavior.\n",
      "Recall:  [0.10526316 0.27777778]\n",
      "Recall mean:  0.1915204678362573\n"
     ]
    }
   ],
   "source": [
    "kfold = StratifiedKFold(n_splits=2, shuffle=True, random_state=2)\n",
    "\n",
    "model = XGBClassifier(scale_pos_weight=10, random_state=2)\n",
    "\n",
    "# Obtain scores of cross-validation\n",
    "scores = cross_val_score(model, X, y, cv=kfold, scoring='recall')\n",
    "\n",
    "# Display accuracy\n",
    "print('Recall: ', scores)\n",
    "\n",
    "# Display mean accuracy\n",
    "print('Recall mean: ', scores.mean())"
   ]
  },
  {
   "cell_type": "markdown",
   "metadata": {},
   "source": [
    "\n",
    "- The scores are a little worse with cross-validation. When there are very few positive cases, it makes a difference \n",
    "which rows end up in the training and test sets. \n",
    "- Different implementations of StratifiedKFold and train_test_split \n",
    "may lead to different results.\n",
    "\n",
""   ]
  },
  {
   "cell_type": "code",
   "execution_count": 32,
   "metadata": {
    "ExecuteTime": {
     "end_time": "2022-02-27T19:27:03.445213Z",
     "start_time": "2022-02-27T19:27:03.440814Z"
    },
    "code_folding": [
     0
    ]
   },
   "outputs": [],
   "source": [
    "def grid_search(params, random=False, X=X, y=y, model=XGBClassifier(random_state=2, scale_pos_weight=10)):\n",
    "\n",
    "    xgb = model\n",
    "\n",
    "    if random:\n",
    "        grid = RandomizedSearchCV(\n",
    "            xgb, params, cv=kfold, n_jobs=-1, random_state=2, scoring='recall')\n",
    "    else:\n",
    "        # Instantiate GridSearchCV as grid_reg\n",
    "        grid = GridSearchCV(xgb, params, cv=kfold, n_jobs=-1, scoring='recall')\n",
    "\n",
    "    # Fit grid_reg on X_train and y_train\n",
    "    grid.fit(X, y)\n",
    "    # Extract best params\n",
    "    best_params = grid.best_params_\n",
    "    # Print best params\n",
    "    print(\"Best params:\", best_params)\n",
    "    # Compute best score\n",
    "    best_score = grid.best_score_\n",
    "    # Print best score\n",
    "    print(\"Best score: {:.5f}\".format(best_score))"
   ]
  },
  {
   "cell_type": "code",
   "execution_count": 33,
   "metadata": {
    "ExecuteTime": {
     "end_time": "2022-02-27T19:27:16.513856Z",
     "start_time": "2022-02-27T19:27:03.447237Z"
    }
   },
   "outputs": [
    {
     "name": "stderr",
     "output_type": "stream",
     "text": [
      "/opt/anaconda3/envs/trainingAI/lib/python3.9/site-packages/xgboost/compat.py:36: FutureWarning: pandas.Int64Index is deprecated and will be removed from pandas in a future version. Use pandas.Index with the appropriate dtype instead.\n",
      "  from pandas import MultiIndex, Int64Index\n",
      "/opt/anaconda3/envs/trainingAI/lib/python3.9/site-packages/xgboost/compat.py:36: FutureWarning: pandas.Int64Index is deprecated and will be removed from pandas in a future version. Use pandas.Index with the appropriate dtype instead.\n",
      "  from pandas import MultiIndex, Int64Index\n",
      "/opt/anaconda3/envs/trainingAI/lib/python3.9/site-packages/xgboost/compat.py:36: FutureWarning: pandas.Int64Index is deprecated and will be removed from pandas in a future version. Use pandas.Index with the appropriate dtype instead.\n",
      "  from pandas import MultiIndex, Int64Index\n",
      "/opt/anaconda3/envs/trainingAI/lib/python3.9/site-packages/xgboost/compat.py:36: FutureWarning: pandas.Int64Index is deprecated and will be removed from pandas in a future version. Use pandas.Index with the appropriate dtype instead.\n",
      "  from pandas import MultiIndex, Int64Index\n",
      "/opt/anaconda3/envs/trainingAI/lib/python3.9/site-packages/xgboost/compat.py:36: FutureWarning: pandas.Int64Index is deprecated and will be removed from pandas in a future version. Use pandas.Index with the appropriate dtype instead.\n",
      "  from pandas import MultiIndex, Int64Index\n",
      "/opt/anaconda3/envs/trainingAI/lib/python3.9/site-packages/xgboost/compat.py:36: FutureWarning: pandas.Int64Index is deprecated and will be removed from pandas in a future version. Use pandas.Index with the appropriate dtype instead.\n",
      "  from pandas import MultiIndex, Int64Index\n",
      "/opt/anaconda3/envs/trainingAI/lib/python3.9/site-packages/xgboost/compat.py:36: FutureWarning: pandas.Int64Index is deprecated and will be removed from pandas in a future version. Use pandas.Index with the appropriate dtype instead.\n",
      "  from pandas import MultiIndex, Int64Index\n",
      "/opt/anaconda3/envs/trainingAI/lib/python3.9/site-packages/xgboost/compat.py:36: FutureWarning: pandas.Int64Index is deprecated and will be removed from pandas in a future version. Use pandas.Index with the appropriate dtype instead.\n",
      "  from pandas import MultiIndex, Int64Index\n",
      "/opt/anaconda3/envs/trainingAI/lib/python3.9/site-packages/xgboost/sklearn.py:1224: UserWarning: The use of label encoder in XGBClassifier is deprecated and will be removed in a future release. To remove this warning, do the following: 1) Pass option use_label_encoder=False when constructing XGBClassifier object; and 2) Encode your labels (y) as integers starting with 0, i.e. 0, 1, 2, ..., [num_class - 1].\n",
      "  warnings.warn(label_encoder_deprecation_msg, UserWarning)\n",
      "/opt/anaconda3/envs/trainingAI/lib/python3.9/site-packages/xgboost/sklearn.py:1224: UserWarning: The use of label encoder in XGBClassifier is deprecated and will be removed in a future release. To remove this warning, do the following: 1) Pass option use_label_encoder=False when constructing XGBClassifier object; and 2) Encode your labels (y) as integers starting with 0, i.e. 0, 1, 2, ..., [num_class - 1].\n",
      "  warnings.warn(label_encoder_deprecation_msg, UserWarning)\n",
      "/opt/anaconda3/envs/trainingAI/lib/python3.9/site-packages/xgboost/sklearn.py:1224: UserWarning: The use of label encoder in XGBClassifier is deprecated and will be removed in a future release. To remove this warning, do the following: 1) Pass option use_label_encoder=False when constructing XGBClassifier object; and 2) Encode your labels (y) as integers starting with 0, i.e. 0, 1, 2, ..., [num_class - 1].\n",
      "  warnings.warn(label_encoder_deprecation_msg, UserWarning)\n",
      "/opt/anaconda3/envs/trainingAI/lib/python3.9/site-packages/xgboost/sklearn.py:1224: UserWarning: The use of label encoder in XGBClassifier is deprecated and will be removed in a future release. To remove this warning, do the following: 1) Pass option use_label_encoder=False when constructing XGBClassifier object; and 2) Encode your labels (y) as integers starting with 0, i.e. 0, 1, 2, ..., [num_class - 1].\n",
      "  warnings.warn(label_encoder_deprecation_msg, UserWarning)\n",
      "/opt/anaconda3/envs/trainingAI/lib/python3.9/site-packages/xgboost/sklearn.py:1224: UserWarning: The use of label encoder in XGBClassifier is deprecated and will be removed in a future release. To remove this warning, do the following: 1) Pass option use_label_encoder=False when constructing XGBClassifier object; and 2) Encode your labels (y) as integers starting with 0, i.e. 0, 1, 2, ..., [num_class - 1].\n",
      "  warnings.warn(label_encoder_deprecation_msg, UserWarning)\n",
      "/opt/anaconda3/envs/trainingAI/lib/python3.9/site-packages/xgboost/sklearn.py:1224: UserWarning: The use of label encoder in XGBClassifier is deprecated and will be removed in a future release. To remove this warning, do the following: 1) Pass option use_label_encoder=False when constructing XGBClassifier object; and 2) Encode your labels (y) as integers starting with 0, i.e. 0, 1, 2, ..., [num_class - 1].\n",
      "  warnings.warn(label_encoder_deprecation_msg, UserWarning)\n",
      "/opt/anaconda3/envs/trainingAI/lib/python3.9/site-packages/xgboost/sklearn.py:1224: UserWarning: The use of label encoder in XGBClassifier is deprecated and will be removed in a future release. To remove this warning, do the following: 1) Pass option use_label_encoder=False when constructing XGBClassifier object; and 2) Encode your labels (y) as integers starting with 0, i.e. 0, 1, 2, ..., [num_class - 1].\n",
      "  warnings.warn(label_encoder_deprecation_msg, UserWarning)\n",
      "/opt/anaconda3/envs/trainingAI/lib/python3.9/site-packages/xgboost/sklearn.py:1224: UserWarning: The use of label encoder in XGBClassifier is deprecated and will be removed in a future release. To remove this warning, do the following: 1) Pass option use_label_encoder=False when constructing XGBClassifier object; and 2) Encode your labels (y) as integers starting with 0, i.e. 0, 1, 2, ..., [num_class - 1].\n",
      "  warnings.warn(label_encoder_deprecation_msg, UserWarning)\n",
      "/opt/anaconda3/envs/trainingAI/lib/python3.9/site-packages/xgboost/data.py:262: FutureWarning: pandas.Int64Index is deprecated and will be removed from pandas in a future version. Use pandas.Index with the appropriate dtype instead.\n",
      "  elif isinstance(data.columns, (pd.Int64Index, pd.RangeIndex)):\n",
      "/opt/anaconda3/envs/trainingAI/lib/python3.9/site-packages/xgboost/data.py:262: FutureWarning: pandas.Int64Index is deprecated and will be removed from pandas in a future version. Use pandas.Index with the appropriate dtype instead.\n",
      "  elif isinstance(data.columns, (pd.Int64Index, pd.RangeIndex)):\n",
      "/opt/anaconda3/envs/trainingAI/lib/python3.9/site-packages/xgboost/data.py:262: FutureWarning: pandas.Int64Index is deprecated and will be removed from pandas in a future version. Use pandas.Index with the appropriate dtype instead.\n",
      "  elif isinstance(data.columns, (pd.Int64Index, pd.RangeIndex)):\n",
      "/opt/anaconda3/envs/trainingAI/lib/python3.9/site-packages/xgboost/data.py:262: FutureWarning: pandas.Int64Index is deprecated and will be removed from pandas in a future version. Use pandas.Index with the appropriate dtype instead.\n",
      "  elif isinstance(data.columns, (pd.Int64Index, pd.RangeIndex)):\n",
      "/opt/anaconda3/envs/trainingAI/lib/python3.9/site-packages/xgboost/data.py:262: FutureWarning: pandas.Int64Index is deprecated and will be removed from pandas in a future version. Use pandas.Index with the appropriate dtype instead.\n",
      "  elif isinstance(data.columns, (pd.Int64Index, pd.RangeIndex)):\n",
      "/opt/anaconda3/envs/trainingAI/lib/python3.9/site-packages/xgboost/data.py:262: FutureWarning: pandas.Int64Index is deprecated and will be removed from pandas in a future version. Use pandas.Index with the appropriate dtype instead.\n",
      "  elif isinstance(data.columns, (pd.Int64Index, pd.RangeIndex)):\n",
      "/opt/anaconda3/envs/trainingAI/lib/python3.9/site-packages/xgboost/data.py:262: FutureWarning: pandas.Int64Index is deprecated and will be removed from pandas in a future version. Use pandas.Index with the appropriate dtype instead.\n",
      "  elif isinstance(data.columns, (pd.Int64Index, pd.RangeIndex)):\n",
      "/opt/anaconda3/envs/trainingAI/lib/python3.9/site-packages/xgboost/data.py:262: FutureWarning: pandas.Int64Index is deprecated and will be removed from pandas in a future version. Use pandas.Index with the appropriate dtype instead.\n",
      "  elif isinstance(data.columns, (pd.Int64Index, pd.RangeIndex)):\n"
     ]
    },
    {
     "name": "stderr",
     "output_type": "stream",
     "text": [
      "/opt/anaconda3/envs/trainingAI/lib/python3.9/site-packages/xgboost/sklearn.py:1224: UserWarning: The use of label encoder in XGBClassifier is deprecated and will be removed in a future release. To remove this warning, do the following: 1) Pass option use_label_encoder=False when constructing XGBClassifier object; and 2) Encode your labels (y) as integers starting with 0, i.e. 0, 1, 2, ..., [num_class - 1].\n",
      "  warnings.warn(label_encoder_deprecation_msg, UserWarning)\n",
      "/opt/anaconda3/envs/trainingAI/lib/python3.9/site-packages/xgboost/data.py:262: FutureWarning: pandas.Int64Index is deprecated and will be removed from pandas in a future version. Use pandas.Index with the appropriate dtype instead.\n",
      "  elif isinstance(data.columns, (pd.Int64Index, pd.RangeIndex)):\n"
     ]
    },
    {
     "name": "stdout",
     "output_type": "stream",
     "text": [
      "[19:27:15] WARNING: /Users/runner/work/xgboost/xgboost/src/learner.cc:1115: Starting in XGBoost 1.3.0, the default evaluation metric used with the objective 'binary:logistic' was changed from 'error' to 'logloss'. Explicitly set eval_metric if you'd like to restore the old behavior.\n",
      "Best params: {'n_estimators': 50}\n",
      "Best score: 0.19152\n"
     ]
    }
   ],
   "source": [
    "grid_search(params={'n_estimators':[50, 200, 400, 800]})"
   ]
  },
  {
   "cell_type": "code",
   "execution_count": 34,
   "metadata": {
    "ExecuteTime": {
     "end_time": "2022-02-27T19:27:28.249602Z",
     "start_time": "2022-02-27T19:27:16.516494Z"
    },
    "scrolled": true
   },
   "outputs": [
    {
     "name": "stderr",
     "output_type": "stream",
     "text": [
      "/opt/anaconda3/envs/trainingAI/lib/python3.9/site-packages/xgboost/sklearn.py:1224: UserWarning: The use of label encoder in XGBClassifier is deprecated and will be removed in a future release. To remove this warning, do the following: 1) Pass option use_label_encoder=False when constructing XGBClassifier object; and 2) Encode your labels (y) as integers starting with 0, i.e. 0, 1, 2, ..., [num_class - 1].\n",
      "  warnings.warn(label_encoder_deprecation_msg, UserWarning)\n",
      "/opt/anaconda3/envs/trainingAI/lib/python3.9/site-packages/xgboost/sklearn.py:1224: UserWarning: The use of label encoder in XGBClassifier is deprecated and will be removed in a future release. To remove this warning, do the following: 1) Pass option use_label_encoder=False when constructing XGBClassifier object; and 2) Encode your labels (y) as integers starting with 0, i.e. 0, 1, 2, ..., [num_class - 1].\n",
      "  warnings.warn(label_encoder_deprecation_msg, UserWarning)\n",
      "/opt/anaconda3/envs/trainingAI/lib/python3.9/site-packages/xgboost/sklearn.py:1224: UserWarning: The use of label encoder in XGBClassifier is deprecated and will be removed in a future release. To remove this warning, do the following: 1) Pass option use_label_encoder=False when constructing XGBClassifier object; and 2) Encode your labels (y) as integers starting with 0, i.e. 0, 1, 2, ..., [num_class - 1].\n",
      "  warnings.warn(label_encoder_deprecation_msg, UserWarning)\n",
      "/opt/anaconda3/envs/trainingAI/lib/python3.9/site-packages/xgboost/sklearn.py:1224: UserWarning: The use of label encoder in XGBClassifier is deprecated and will be removed in a future release. To remove this warning, do the following: 1) Pass option use_label_encoder=False when constructing XGBClassifier object; and 2) Encode your labels (y) as integers starting with 0, i.e. 0, 1, 2, ..., [num_class - 1].\n",
      "  warnings.warn(label_encoder_deprecation_msg, UserWarning)\n",
      "/opt/anaconda3/envs/trainingAI/lib/python3.9/site-packages/xgboost/sklearn.py:1224: UserWarning: The use of label encoder in XGBClassifier is deprecated and will be removed in a future release. To remove this warning, do the following: 1) Pass option use_label_encoder=False when constructing XGBClassifier object; and 2) Encode your labels (y) as integers starting with 0, i.e. 0, 1, 2, ..., [num_class - 1].\n",
      "  warnings.warn(label_encoder_deprecation_msg, UserWarning)\n",
      "/opt/anaconda3/envs/trainingAI/lib/python3.9/site-packages/xgboost/sklearn.py:1224: UserWarning: The use of label encoder in XGBClassifier is deprecated and will be removed in a future release. To remove this warning, do the following: 1) Pass option use_label_encoder=False when constructing XGBClassifier object; and 2) Encode your labels (y) as integers starting with 0, i.e. 0, 1, 2, ..., [num_class - 1].\n",
      "  warnings.warn(label_encoder_deprecation_msg, UserWarning)\n",
      "/opt/anaconda3/envs/trainingAI/lib/python3.9/site-packages/xgboost/data.py:262: FutureWarning: pandas.Int64Index is deprecated and will be removed from pandas in a future version. Use pandas.Index with the appropriate dtype instead.\n",
      "  elif isinstance(data.columns, (pd.Int64Index, pd.RangeIndex)):\n",
      "/opt/anaconda3/envs/trainingAI/lib/python3.9/site-packages/xgboost/data.py:262: FutureWarning: pandas.Int64Index is deprecated and will be removed from pandas in a future version. Use pandas.Index with the appropriate dtype instead.\n",
      "  elif isinstance(data.columns, (pd.Int64Index, pd.RangeIndex)):\n",
      "/opt/anaconda3/envs/trainingAI/lib/python3.9/site-packages/xgboost/data.py:262: FutureWarning: pandas.Int64Index is deprecated and will be removed from pandas in a future version. Use pandas.Index with the appropriate dtype instead.\n",
      "  elif isinstance(data.columns, (pd.Int64Index, pd.RangeIndex)):\n",
      "/opt/anaconda3/envs/trainingAI/lib/python3.9/site-packages/xgboost/data.py:262: FutureWarning: pandas.Int64Index is deprecated and will be removed from pandas in a future version. Use pandas.Index with the appropriate dtype instead.\n",
      "  elif isinstance(data.columns, (pd.Int64Index, pd.RangeIndex)):\n",
      "/opt/anaconda3/envs/trainingAI/lib/python3.9/site-packages/xgboost/data.py:262: FutureWarning: pandas.Int64Index is deprecated and will be removed from pandas in a future version. Use pandas.Index with the appropriate dtype instead.\n",
      "  elif isinstance(data.columns, (pd.Int64Index, pd.RangeIndex)):\n",
      "/opt/anaconda3/envs/trainingAI/lib/python3.9/site-packages/xgboost/data.py:262: FutureWarning: pandas.Int64Index is deprecated and will be removed from pandas in a future version. Use pandas.Index with the appropriate dtype instead.\n",
      "  elif isinstance(data.columns, (pd.Int64Index, pd.RangeIndex)):\n",
      "/opt/anaconda3/envs/trainingAI/lib/python3.9/site-packages/xgboost/compat.py:36: FutureWarning: pandas.Int64Index is deprecated and will be removed from pandas in a future version. Use pandas.Index with the appropriate dtype instead.\n",
      "  from pandas import MultiIndex, Int64Index\n",
      "/opt/anaconda3/envs/trainingAI/lib/python3.9/site-packages/xgboost/compat.py:36: FutureWarning: pandas.Int64Index is deprecated and will be removed from pandas in a future version. Use pandas.Index with the appropriate dtype instead.\n",
      "  from pandas import MultiIndex, Int64Index\n",
      "/opt/anaconda3/envs/trainingAI/lib/python3.9/site-packages/xgboost/sklearn.py:1224: UserWarning: The use of label encoder in XGBClassifier is deprecated and will be removed in a future release. To remove this warning, do the following: 1) Pass option use_label_encoder=False when constructing XGBClassifier object; and 2) Encode your labels (y) as integers starting with 0, i.e. 0, 1, 2, ..., [num_class - 1].\n",
      "  warnings.warn(label_encoder_deprecation_msg, UserWarning)\n",
      "/opt/anaconda3/envs/trainingAI/lib/python3.9/site-packages/xgboost/sklearn.py:1224: UserWarning: The use of label encoder in XGBClassifier is deprecated and will be removed in a future release. To remove this warning, do the following: 1) Pass option use_label_encoder=False when constructing XGBClassifier object; and 2) Encode your labels (y) as integers starting with 0, i.e. 0, 1, 2, ..., [num_class - 1].\n",
      "  warnings.warn(label_encoder_deprecation_msg, UserWarning)\n",
      "/opt/anaconda3/envs/trainingAI/lib/python3.9/site-packages/xgboost/data.py:262: FutureWarning: pandas.Int64Index is deprecated and will be removed from pandas in a future version. Use pandas.Index with the appropriate dtype instead.\n",
      "  elif isinstance(data.columns, (pd.Int64Index, pd.RangeIndex)):\n",
      "/opt/anaconda3/envs/trainingAI/lib/python3.9/site-packages/xgboost/data.py:262: FutureWarning: pandas.Int64Index is deprecated and will be removed from pandas in a future version. Use pandas.Index with the appropriate dtype instead.\n",
      "  elif isinstance(data.columns, (pd.Int64Index, pd.RangeIndex)):\n",
      "/opt/anaconda3/envs/trainingAI/lib/python3.9/site-packages/xgboost/sklearn.py:1224: UserWarning: The use of label encoder in XGBClassifier is deprecated and will be removed in a future release. To remove this warning, do the following: 1) Pass option use_label_encoder=False when constructing XGBClassifier object; and 2) Encode your labels (y) as integers starting with 0, i.e. 0, 1, 2, ..., [num_class - 1].\n",
      "  warnings.warn(label_encoder_deprecation_msg, UserWarning)\n",
      "/opt/anaconda3/envs/trainingAI/lib/python3.9/site-packages/xgboost/data.py:262: FutureWarning: pandas.Int64Index is deprecated and will be removed from pandas in a future version. Use pandas.Index with the appropriate dtype instead.\n",
      "  elif isinstance(data.columns, (pd.Int64Index, pd.RangeIndex)):\n"
     ]
    },
    {
     "name": "stdout",
     "output_type": "stream",
     "text": [
      "[19:27:24] WARNING: /Users/runner/work/xgboost/xgboost/src/learner.cc:1115: Starting in XGBoost 1.3.0, the default evaluation metric used with the objective 'binary:logistic' was changed from 'error' to 'logloss'. Explicitly set eval_metric if you'd like to restore the old behavior.\n",
      "Best params: {'learning_rate': 0.01}\n",
      "Best score: 0.40351\n"
     ]
    }
   ],
   "source": [
    "grid_search(params={'learning_rate':[0.01, 0.05, 0.2, 0.3]})"
   ]
  },
  {
   "cell_type": "code",
   "execution_count": 35,
   "metadata": {
    "ExecuteTime": {
     "end_time": "2022-02-27T19:27:34.230869Z",
     "start_time": "2022-02-27T19:27:28.251945Z"
    }
   },
   "outputs": [
    {
     "name": "stderr",
     "output_type": "stream",
     "text": [
      "/opt/anaconda3/envs/trainingAI/lib/python3.9/site-packages/xgboost/sklearn.py:1224: UserWarning: The use of label encoder in XGBClassifier is deprecated and will be removed in a future release. To remove this warning, do the following: 1) Pass option use_label_encoder=False when constructing XGBClassifier object; and 2) Encode your labels (y) as integers starting with 0, i.e. 0, 1, 2, ..., [num_class - 1].\n",
      "  warnings.warn(label_encoder_deprecation_msg, UserWarning)\n",
      "/opt/anaconda3/envs/trainingAI/lib/python3.9/site-packages/xgboost/sklearn.py:1224: UserWarning: The use of label encoder in XGBClassifier is deprecated and will be removed in a future release. To remove this warning, do the following: 1) Pass option use_label_encoder=False when constructing XGBClassifier object; and 2) Encode your labels (y) as integers starting with 0, i.e. 0, 1, 2, ..., [num_class - 1].\n",
      "  warnings.warn(label_encoder_deprecation_msg, UserWarning)\n",
      "/opt/anaconda3/envs/trainingAI/lib/python3.9/site-packages/xgboost/sklearn.py:1224: UserWarning: The use of label encoder in XGBClassifier is deprecated and will be removed in a future release. To remove this warning, do the following: 1) Pass option use_label_encoder=False when constructing XGBClassifier object; and 2) Encode your labels (y) as integers starting with 0, i.e. 0, 1, 2, ..., [num_class - 1].\n",
      "  warnings.warn(label_encoder_deprecation_msg, UserWarning)\n",
      "/opt/anaconda3/envs/trainingAI/lib/python3.9/site-packages/xgboost/sklearn.py:1224: UserWarning: The use of label encoder in XGBClassifier is deprecated and will be removed in a future release. To remove this warning, do the following: 1) Pass option use_label_encoder=False when constructing XGBClassifier object; and 2) Encode your labels (y) as integers starting with 0, i.e. 0, 1, 2, ..., [num_class - 1].\n",
      "  warnings.warn(label_encoder_deprecation_msg, UserWarning)\n",
      "/opt/anaconda3/envs/trainingAI/lib/python3.9/site-packages/xgboost/sklearn.py:1224: UserWarning: The use of label encoder in XGBClassifier is deprecated and will be removed in a future release. To remove this warning, do the following: 1) Pass option use_label_encoder=False when constructing XGBClassifier object; and 2) Encode your labels (y) as integers starting with 0, i.e. 0, 1, 2, ..., [num_class - 1].\n",
      "  warnings.warn(label_encoder_deprecation_msg, UserWarning)\n",
      "/opt/anaconda3/envs/trainingAI/lib/python3.9/site-packages/xgboost/sklearn.py:1224: UserWarning: The use of label encoder in XGBClassifier is deprecated and will be removed in a future release. To remove this warning, do the following: 1) Pass option use_label_encoder=False when constructing XGBClassifier object; and 2) Encode your labels (y) as integers starting with 0, i.e. 0, 1, 2, ..., [num_class - 1].\n",
      "  warnings.warn(label_encoder_deprecation_msg, UserWarning)\n",
      "/opt/anaconda3/envs/trainingAI/lib/python3.9/site-packages/xgboost/sklearn.py:1224: UserWarning: The use of label encoder in XGBClassifier is deprecated and will be removed in a future release. To remove this warning, do the following: 1) Pass option use_label_encoder=False when constructing XGBClassifier object; and 2) Encode your labels (y) as integers starting with 0, i.e. 0, 1, 2, ..., [num_class - 1].\n",
      "  warnings.warn(label_encoder_deprecation_msg, UserWarning)\n",
      "/opt/anaconda3/envs/trainingAI/lib/python3.9/site-packages/xgboost/sklearn.py:1224: UserWarning: The use of label encoder in XGBClassifier is deprecated and will be removed in a future release. To remove this warning, do the following: 1) Pass option use_label_encoder=False when constructing XGBClassifier object; and 2) Encode your labels (y) as integers starting with 0, i.e. 0, 1, 2, ..., [num_class - 1].\n",
      "  warnings.warn(label_encoder_deprecation_msg, UserWarning)\n",
      "/opt/anaconda3/envs/trainingAI/lib/python3.9/site-packages/xgboost/data.py:262: FutureWarning: pandas.Int64Index is deprecated and will be removed from pandas in a future version. Use pandas.Index with the appropriate dtype instead.\n",
      "  elif isinstance(data.columns, (pd.Int64Index, pd.RangeIndex)):\n",
      "/opt/anaconda3/envs/trainingAI/lib/python3.9/site-packages/xgboost/data.py:262: FutureWarning: pandas.Int64Index is deprecated and will be removed from pandas in a future version. Use pandas.Index with the appropriate dtype instead.\n",
      "  elif isinstance(data.columns, (pd.Int64Index, pd.RangeIndex)):\n",
      "/opt/anaconda3/envs/trainingAI/lib/python3.9/site-packages/xgboost/data.py:262: FutureWarning: pandas.Int64Index is deprecated and will be removed from pandas in a future version. Use pandas.Index with the appropriate dtype instead.\n",
      "  elif isinstance(data.columns, (pd.Int64Index, pd.RangeIndex)):\n",
      "/opt/anaconda3/envs/trainingAI/lib/python3.9/site-packages/xgboost/data.py:262: FutureWarning: pandas.Int64Index is deprecated and will be removed from pandas in a future version. Use pandas.Index with the appropriate dtype instead.\n",
      "  elif isinstance(data.columns, (pd.Int64Index, pd.RangeIndex)):\n",
      "/opt/anaconda3/envs/trainingAI/lib/python3.9/site-packages/xgboost/data.py:262: FutureWarning: pandas.Int64Index is deprecated and will be removed from pandas in a future version. Use pandas.Index with the appropriate dtype instead.\n",
      "  elif isinstance(data.columns, (pd.Int64Index, pd.RangeIndex)):\n",
      "/opt/anaconda3/envs/trainingAI/lib/python3.9/site-packages/xgboost/data.py:262: FutureWarning: pandas.Int64Index is deprecated and will be removed from pandas in a future version. Use pandas.Index with the appropriate dtype instead.\n",
      "  elif isinstance(data.columns, (pd.Int64Index, pd.RangeIndex)):\n",
      "/opt/anaconda3/envs/trainingAI/lib/python3.9/site-packages/xgboost/data.py:262: FutureWarning: pandas.Int64Index is deprecated and will be removed from pandas in a future version. Use pandas.Index with the appropriate dtype instead.\n",
      "  elif isinstance(data.columns, (pd.Int64Index, pd.RangeIndex)):\n",
      "/opt/anaconda3/envs/trainingAI/lib/python3.9/site-packages/xgboost/data.py:262: FutureWarning: pandas.Int64Index is deprecated and will be removed from pandas in a future version. Use pandas.Index with the appropriate dtype instead.\n",
      "  elif isinstance(data.columns, (pd.Int64Index, pd.RangeIndex)):\n",
      "/opt/anaconda3/envs/trainingAI/lib/python3.9/site-packages/xgboost/sklearn.py:1224: UserWarning: The use of label encoder in XGBClassifier is deprecated and will be removed in a future release. To remove this warning, do the following: 1) Pass option use_label_encoder=False when constructing XGBClassifier object; and 2) Encode your labels (y) as integers starting with 0, i.e. 0, 1, 2, ..., [num_class - 1].\n",
      "  warnings.warn(label_encoder_deprecation_msg, UserWarning)\n",
      "/opt/anaconda3/envs/trainingAI/lib/python3.9/site-packages/xgboost/data.py:262: FutureWarning: pandas.Int64Index is deprecated and will be removed from pandas in a future version. Use pandas.Index with the appropriate dtype instead.\n",
      "  elif isinstance(data.columns, (pd.Int64Index, pd.RangeIndex)):\n"
     ]
    },
    {
     "name": "stdout",
     "output_type": "stream",
     "text": [
      "[19:27:32] WARNING: /Users/runner/work/xgboost/xgboost/src/learner.cc:1115: Starting in XGBoost 1.3.0, the default evaluation metric used with the objective 'binary:logistic' was changed from 'error' to 'logloss'. Explicitly set eval_metric if you'd like to restore the old behavior.\n",
      "Best params: {'max_depth': 2}\n",
      "Best score: 0.24415\n"
     ]
    }
   ],
   "source": [
    "grid_search(params={'max_depth':[1, 2, 4, 8]})"
   ]
  },
  {
   "cell_type": "code",
   "execution_count": 36,
   "metadata": {
    "ExecuteTime": {
     "end_time": "2022-02-27T19:27:39.758903Z",
     "start_time": "2022-02-27T19:27:34.233234Z"
    }
   },
   "outputs": [
    {
     "name": "stderr",
     "output_type": "stream",
     "text": [
      "/opt/anaconda3/envs/trainingAI/lib/python3.9/site-packages/xgboost/sklearn.py:1224: UserWarning: The use of label encoder in XGBClassifier is deprecated and will be removed in a future release. To remove this warning, do the following: 1) Pass option use_label_encoder=False when constructing XGBClassifier object; and 2) Encode your labels (y) as integers starting with 0, i.e. 0, 1, 2, ..., [num_class - 1].\n",
      "  warnings.warn(label_encoder_deprecation_msg, UserWarning)\n",
      "/opt/anaconda3/envs/trainingAI/lib/python3.9/site-packages/xgboost/sklearn.py:1224: UserWarning: The use of label encoder in XGBClassifier is deprecated and will be removed in a future release. To remove this warning, do the following: 1) Pass option use_label_encoder=False when constructing XGBClassifier object; and 2) Encode your labels (y) as integers starting with 0, i.e. 0, 1, 2, ..., [num_class - 1].\n",
      "  warnings.warn(label_encoder_deprecation_msg, UserWarning)\n",
      "/opt/anaconda3/envs/trainingAI/lib/python3.9/site-packages/xgboost/sklearn.py:1224: UserWarning: The use of label encoder in XGBClassifier is deprecated and will be removed in a future release. To remove this warning, do the following: 1) Pass option use_label_encoder=False when constructing XGBClassifier object; and 2) Encode your labels (y) as integers starting with 0, i.e. 0, 1, 2, ..., [num_class - 1].\n",
      "  warnings.warn(label_encoder_deprecation_msg, UserWarning)\n",
      "/opt/anaconda3/envs/trainingAI/lib/python3.9/site-packages/xgboost/sklearn.py:1224: UserWarning: The use of label encoder in XGBClassifier is deprecated and will be removed in a future release. To remove this warning, do the following: 1) Pass option use_label_encoder=False when constructing XGBClassifier object; and 2) Encode your labels (y) as integers starting with 0, i.e. 0, 1, 2, ..., [num_class - 1].\n",
      "  warnings.warn(label_encoder_deprecation_msg, UserWarning)\n",
      "/opt/anaconda3/envs/trainingAI/lib/python3.9/site-packages/xgboost/sklearn.py:1224: UserWarning: The use of label encoder in XGBClassifier is deprecated and will be removed in a future release. To remove this warning, do the following: 1) Pass option use_label_encoder=False when constructing XGBClassifier object; and 2) Encode your labels (y) as integers starting with 0, i.e. 0, 1, 2, ..., [num_class - 1].\n",
      "  warnings.warn(label_encoder_deprecation_msg, UserWarning)\n",
      "/opt/anaconda3/envs/trainingAI/lib/python3.9/site-packages/xgboost/sklearn.py:1224: UserWarning: The use of label encoder in XGBClassifier is deprecated and will be removed in a future release. To remove this warning, do the following: 1) Pass option use_label_encoder=False when constructing XGBClassifier object; and 2) Encode your labels (y) as integers starting with 0, i.e. 0, 1, 2, ..., [num_class - 1].\n",
      "  warnings.warn(label_encoder_deprecation_msg, UserWarning)\n",
      "/opt/anaconda3/envs/trainingAI/lib/python3.9/site-packages/xgboost/sklearn.py:1224: UserWarning: The use of label encoder in XGBClassifier is deprecated and will be removed in a future release. To remove this warning, do the following: 1) Pass option use_label_encoder=False when constructing XGBClassifier object; and 2) Encode your labels (y) as integers starting with 0, i.e. 0, 1, 2, ..., [num_class - 1].\n",
      "  warnings.warn(label_encoder_deprecation_msg, UserWarning)\n",
      "/opt/anaconda3/envs/trainingAI/lib/python3.9/site-packages/xgboost/data.py:262: FutureWarning: pandas.Int64Index is deprecated and will be removed from pandas in a future version. Use pandas.Index with the appropriate dtype instead.\n",
      "  elif isinstance(data.columns, (pd.Int64Index, pd.RangeIndex)):\n",
      "/opt/anaconda3/envs/trainingAI/lib/python3.9/site-packages/xgboost/data.py:262: FutureWarning: pandas.Int64Index is deprecated and will be removed from pandas in a future version. Use pandas.Index with the appropriate dtype instead.\n",
      "  elif isinstance(data.columns, (pd.Int64Index, pd.RangeIndex)):\n",
      "/opt/anaconda3/envs/trainingAI/lib/python3.9/site-packages/xgboost/data.py:262: FutureWarning: pandas.Int64Index is deprecated and will be removed from pandas in a future version. Use pandas.Index with the appropriate dtype instead.\n",
      "  elif isinstance(data.columns, (pd.Int64Index, pd.RangeIndex)):\n",
      "/opt/anaconda3/envs/trainingAI/lib/python3.9/site-packages/xgboost/data.py:262: FutureWarning: pandas.Int64Index is deprecated and will be removed from pandas in a future version. Use pandas.Index with the appropriate dtype instead.\n",
      "  elif isinstance(data.columns, (pd.Int64Index, pd.RangeIndex)):\n",
      "/opt/anaconda3/envs/trainingAI/lib/python3.9/site-packages/xgboost/data.py:262: FutureWarning: pandas.Int64Index is deprecated and will be removed from pandas in a future version. Use pandas.Index with the appropriate dtype instead.\n",
      "  elif isinstance(data.columns, (pd.Int64Index, pd.RangeIndex)):\n",
      "/opt/anaconda3/envs/trainingAI/lib/python3.9/site-packages/xgboost/data.py:262: FutureWarning: pandas.Int64Index is deprecated and will be removed from pandas in a future version. Use pandas.Index with the appropriate dtype instead.\n",
      "  elif isinstance(data.columns, (pd.Int64Index, pd.RangeIndex)):\n",
      "/opt/anaconda3/envs/trainingAI/lib/python3.9/site-packages/xgboost/data.py:262: FutureWarning: pandas.Int64Index is deprecated and will be removed from pandas in a future version. Use pandas.Index with the appropriate dtype instead.\n",
      "  elif isinstance(data.columns, (pd.Int64Index, pd.RangeIndex)):\n",
      "/opt/anaconda3/envs/trainingAI/lib/python3.9/site-packages/xgboost/compat.py:36: FutureWarning: pandas.Int64Index is deprecated and will be removed from pandas in a future version. Use pandas.Index with the appropriate dtype instead.\n",
      "  from pandas import MultiIndex, Int64Index\n",
      "/opt/anaconda3/envs/trainingAI/lib/python3.9/site-packages/xgboost/sklearn.py:1224: UserWarning: The use of label encoder in XGBClassifier is deprecated and will be removed in a future release. To remove this warning, do the following: 1) Pass option use_label_encoder=False when constructing XGBClassifier object; and 2) Encode your labels (y) as integers starting with 0, i.e. 0, 1, 2, ..., [num_class - 1].\n",
      "  warnings.warn(label_encoder_deprecation_msg, UserWarning)\n",
      "/opt/anaconda3/envs/trainingAI/lib/python3.9/site-packages/xgboost/data.py:262: FutureWarning: pandas.Int64Index is deprecated and will be removed from pandas in a future version. Use pandas.Index with the appropriate dtype instead.\n",
      "  elif isinstance(data.columns, (pd.Int64Index, pd.RangeIndex)):\n",
      "/opt/anaconda3/envs/trainingAI/lib/python3.9/site-packages/xgboost/sklearn.py:1224: UserWarning: The use of label encoder in XGBClassifier is deprecated and will be removed in a future release. To remove this warning, do the following: 1) Pass option use_label_encoder=False when constructing XGBClassifier object; and 2) Encode your labels (y) as integers starting with 0, i.e. 0, 1, 2, ..., [num_class - 1].\n",
      "  warnings.warn(label_encoder_deprecation_msg, UserWarning)\n",
      "/opt/anaconda3/envs/trainingAI/lib/python3.9/site-packages/xgboost/data.py:262: FutureWarning: pandas.Int64Index is deprecated and will be removed from pandas in a future version. Use pandas.Index with the appropriate dtype instead.\n",
      "  elif isinstance(data.columns, (pd.Int64Index, pd.RangeIndex)):\n"
     ]
    },
    {
     "name": "stdout",
     "output_type": "stream",
     "text": [
      "[19:27:38] WARNING: /Users/runner/work/xgboost/xgboost/src/learner.cc:1115: Starting in XGBoost 1.3.0, the default evaluation metric used with the objective 'binary:logistic' was changed from 'error' to 'logloss'. Explicitly set eval_metric if you'd like to restore the old behavior.\n",
      "Best params: {'subsample': 0.3}\n",
      "Best score: 0.24561\n"
     ]
    }
   ],
   "source": [
    "grid_search(params={'subsample':[0.3, 0.5, 0.7, 0.9]})"
   ]
  },
  {
   "cell_type": "code",
   "execution_count": 37,
   "metadata": {
    "ExecuteTime": {
     "end_time": "2022-02-27T19:27:47.623864Z",
     "start_time": "2022-02-27T19:27:39.761229Z"
    }
   },
   "outputs": [
    {
     "name": "stderr",
     "output_type": "stream",
     "text": [
      "/opt/anaconda3/envs/trainingAI/lib/python3.9/site-packages/xgboost/sklearn.py:1224: UserWarning: The use of label encoder in XGBClassifier is deprecated and will be removed in a future release. To remove this warning, do the following: 1) Pass option use_label_encoder=False when constructing XGBClassifier object; and 2) Encode your labels (y) as integers starting with 0, i.e. 0, 1, 2, ..., [num_class - 1].\n",
      "  warnings.warn(label_encoder_deprecation_msg, UserWarning)\n",
      "/opt/anaconda3/envs/trainingAI/lib/python3.9/site-packages/xgboost/sklearn.py:1224: UserWarning: The use of label encoder in XGBClassifier is deprecated and will be removed in a future release. To remove this warning, do the following: 1) Pass option use_label_encoder=False when constructing XGBClassifier object; and 2) Encode your labels (y) as integers starting with 0, i.e. 0, 1, 2, ..., [num_class - 1].\n",
      "  warnings.warn(label_encoder_deprecation_msg, UserWarning)\n",
      "/opt/anaconda3/envs/trainingAI/lib/python3.9/site-packages/xgboost/sklearn.py:1224: UserWarning: The use of label encoder in XGBClassifier is deprecated and will be removed in a future release. To remove this warning, do the following: 1) Pass option use_label_encoder=False when constructing XGBClassifier object; and 2) Encode your labels (y) as integers starting with 0, i.e. 0, 1, 2, ..., [num_class - 1].\n",
      "  warnings.warn(label_encoder_deprecation_msg, UserWarning)\n",
      "/opt/anaconda3/envs/trainingAI/lib/python3.9/site-packages/xgboost/sklearn.py:1224: UserWarning: The use of label encoder in XGBClassifier is deprecated and will be removed in a future release. To remove this warning, do the following: 1) Pass option use_label_encoder=False when constructing XGBClassifier object; and 2) Encode your labels (y) as integers starting with 0, i.e. 0, 1, 2, ..., [num_class - 1].\n",
      "  warnings.warn(label_encoder_deprecation_msg, UserWarning)\n",
      "/opt/anaconda3/envs/trainingAI/lib/python3.9/site-packages/xgboost/sklearn.py:1224: UserWarning: The use of label encoder in XGBClassifier is deprecated and will be removed in a future release. To remove this warning, do the following: 1) Pass option use_label_encoder=False when constructing XGBClassifier object; and 2) Encode your labels (y) as integers starting with 0, i.e. 0, 1, 2, ..., [num_class - 1].\n",
      "  warnings.warn(label_encoder_deprecation_msg, UserWarning)\n",
      "/opt/anaconda3/envs/trainingAI/lib/python3.9/site-packages/xgboost/sklearn.py:1224: UserWarning: The use of label encoder in XGBClassifier is deprecated and will be removed in a future release. To remove this warning, do the following: 1) Pass option use_label_encoder=False when constructing XGBClassifier object; and 2) Encode your labels (y) as integers starting with 0, i.e. 0, 1, 2, ..., [num_class - 1].\n",
      "  warnings.warn(label_encoder_deprecation_msg, UserWarning)\n",
      "/opt/anaconda3/envs/trainingAI/lib/python3.9/site-packages/xgboost/sklearn.py:1224: UserWarning: The use of label encoder in XGBClassifier is deprecated and will be removed in a future release. To remove this warning, do the following: 1) Pass option use_label_encoder=False when constructing XGBClassifier object; and 2) Encode your labels (y) as integers starting with 0, i.e. 0, 1, 2, ..., [num_class - 1].\n",
      "  warnings.warn(label_encoder_deprecation_msg, UserWarning)\n",
      "/opt/anaconda3/envs/trainingAI/lib/python3.9/site-packages/xgboost/sklearn.py:1224: UserWarning: The use of label encoder in XGBClassifier is deprecated and will be removed in a future release. To remove this warning, do the following: 1) Pass option use_label_encoder=False when constructing XGBClassifier object; and 2) Encode your labels (y) as integers starting with 0, i.e. 0, 1, 2, ..., [num_class - 1].\n",
      "  warnings.warn(label_encoder_deprecation_msg, UserWarning)\n",
      "/opt/anaconda3/envs/trainingAI/lib/python3.9/site-packages/xgboost/data.py:262: FutureWarning: pandas.Int64Index is deprecated and will be removed from pandas in a future version. Use pandas.Index with the appropriate dtype instead.\n",
      "  elif isinstance(data.columns, (pd.Int64Index, pd.RangeIndex)):\n",
      "/opt/anaconda3/envs/trainingAI/lib/python3.9/site-packages/xgboost/data.py:262: FutureWarning: pandas.Int64Index is deprecated and will be removed from pandas in a future version. Use pandas.Index with the appropriate dtype instead.\n",
      "  elif isinstance(data.columns, (pd.Int64Index, pd.RangeIndex)):\n",
      "/opt/anaconda3/envs/trainingAI/lib/python3.9/site-packages/xgboost/data.py:262: FutureWarning: pandas.Int64Index is deprecated and will be removed from pandas in a future version. Use pandas.Index with the appropriate dtype instead.\n",
      "  elif isinstance(data.columns, (pd.Int64Index, pd.RangeIndex)):\n",
      "/opt/anaconda3/envs/trainingAI/lib/python3.9/site-packages/xgboost/data.py:262: FutureWarning: pandas.Int64Index is deprecated and will be removed from pandas in a future version. Use pandas.Index with the appropriate dtype instead.\n",
      "  elif isinstance(data.columns, (pd.Int64Index, pd.RangeIndex)):\n",
      "/opt/anaconda3/envs/trainingAI/lib/python3.9/site-packages/xgboost/data.py:262: FutureWarning: pandas.Int64Index is deprecated and will be removed from pandas in a future version. Use pandas.Index with the appropriate dtype instead.\n",
      "  elif isinstance(data.columns, (pd.Int64Index, pd.RangeIndex)):\n",
      "/opt/anaconda3/envs/trainingAI/lib/python3.9/site-packages/xgboost/data.py:262: FutureWarning: pandas.Int64Index is deprecated and will be removed from pandas in a future version. Use pandas.Index with the appropriate dtype instead.\n",
      "  elif isinstance(data.columns, (pd.Int64Index, pd.RangeIndex)):\n",
      "/opt/anaconda3/envs/trainingAI/lib/python3.9/site-packages/xgboost/data.py:262: FutureWarning: pandas.Int64Index is deprecated and will be removed from pandas in a future version. Use pandas.Index with the appropriate dtype instead.\n",
      "  elif isinstance(data.columns, (pd.Int64Index, pd.RangeIndex)):\n",
      "/opt/anaconda3/envs/trainingAI/lib/python3.9/site-packages/xgboost/data.py:262: FutureWarning: pandas.Int64Index is deprecated and will be removed from pandas in a future version. Use pandas.Index with the appropriate dtype instead.\n",
      "  elif isinstance(data.columns, (pd.Int64Index, pd.RangeIndex)):\n",
      "/opt/anaconda3/envs/trainingAI/lib/python3.9/site-packages/xgboost/sklearn.py:1224: UserWarning: The use of label encoder in XGBClassifier is deprecated and will be removed in a future release. To remove this warning, do the following: 1) Pass option use_label_encoder=False when constructing XGBClassifier object; and 2) Encode your labels (y) as integers starting with 0, i.e. 0, 1, 2, ..., [num_class - 1].\n",
      "  warnings.warn(label_encoder_deprecation_msg, UserWarning)\n",
      "/opt/anaconda3/envs/trainingAI/lib/python3.9/site-packages/xgboost/data.py:262: FutureWarning: pandas.Int64Index is deprecated and will be removed from pandas in a future version. Use pandas.Index with the appropriate dtype instead.\n",
      "  elif isinstance(data.columns, (pd.Int64Index, pd.RangeIndex)):\n"
     ]
    },
    {
     "name": "stdout",
     "output_type": "stream",
     "text": [
      "[19:27:45] WARNING: /Users/runner/work/xgboost/xgboost/src/learner.cc:1115: Starting in XGBoost 1.3.0, the default evaluation metric used with the objective 'binary:logistic' was changed from 'error' to 'logloss'. Explicitly set eval_metric if you'd like to restore the old behavior.\n",
      "Best params: {'gamma': 0.05}\n",
      "Best score: 0.24415\n"
     ]
    }
   ],
   "source": [
    "grid_search(params={'gamma':[0.05, 0.1, 0.5, 1]})"
   ]
  },
  {
   "cell_type": "code",
   "execution_count": 38,
   "metadata": {
    "ExecuteTime": {
     "end_time": "2022-02-27T19:28:15.092866Z",
     "start_time": "2022-02-27T19:27:47.626205Z"
    }
   },
   "outputs": [
    {
     "name": "stderr",
     "output_type": "stream",
     "text": [
      "/opt/anaconda3/envs/trainingAI/lib/python3.9/site-packages/xgboost/sklearn.py:1224: UserWarning: The use of label encoder in XGBClassifier is deprecated and will be removed in a future release. To remove this warning, do the following: 1) Pass option use_label_encoder=False when constructing XGBClassifier object; and 2) Encode your labels (y) as integers starting with 0, i.e. 0, 1, 2, ..., [num_class - 1].\n",
      "  warnings.warn(label_encoder_deprecation_msg, UserWarning)\n",
      "/opt/anaconda3/envs/trainingAI/lib/python3.9/site-packages/xgboost/sklearn.py:1224: UserWarning: The use of label encoder in XGBClassifier is deprecated and will be removed in a future release. To remove this warning, do the following: 1) Pass option use_label_encoder=False when constructing XGBClassifier object; and 2) Encode your labels (y) as integers starting with 0, i.e. 0, 1, 2, ..., [num_class - 1].\n",
      "  warnings.warn(label_encoder_deprecation_msg, UserWarning)\n",
      "/opt/anaconda3/envs/trainingAI/lib/python3.9/site-packages/xgboost/sklearn.py:1224: UserWarning: The use of label encoder in XGBClassifier is deprecated and will be removed in a future release. To remove this warning, do the following: 1) Pass option use_label_encoder=False when constructing XGBClassifier object; and 2) Encode your labels (y) as integers starting with 0, i.e. 0, 1, 2, ..., [num_class - 1].\n",
      "  warnings.warn(label_encoder_deprecation_msg, UserWarning)\n",
      "/opt/anaconda3/envs/trainingAI/lib/python3.9/site-packages/xgboost/sklearn.py:1224: UserWarning: The use of label encoder in XGBClassifier is deprecated and will be removed in a future release. To remove this warning, do the following: 1) Pass option use_label_encoder=False when constructing XGBClassifier object; and 2) Encode your labels (y) as integers starting with 0, i.e. 0, 1, 2, ..., [num_class - 1].\n",
      "  warnings.warn(label_encoder_deprecation_msg, UserWarning)\n",
      "/opt/anaconda3/envs/trainingAI/lib/python3.9/site-packages/xgboost/sklearn.py:1224: UserWarning: The use of label encoder in XGBClassifier is deprecated and will be removed in a future release. To remove this warning, do the following: 1) Pass option use_label_encoder=False when constructing XGBClassifier object; and 2) Encode your labels (y) as integers starting with 0, i.e. 0, 1, 2, ..., [num_class - 1].\n",
      "  warnings.warn(label_encoder_deprecation_msg, UserWarning)\n",
      "/opt/anaconda3/envs/trainingAI/lib/python3.9/site-packages/xgboost/sklearn.py:1224: UserWarning: The use of label encoder in XGBClassifier is deprecated and will be removed in a future release. To remove this warning, do the following: 1) Pass option use_label_encoder=False when constructing XGBClassifier object; and 2) Encode your labels (y) as integers starting with 0, i.e. 0, 1, 2, ..., [num_class - 1].\n",
      "  warnings.warn(label_encoder_deprecation_msg, UserWarning)\n",
      "/opt/anaconda3/envs/trainingAI/lib/python3.9/site-packages/xgboost/sklearn.py:1224: UserWarning: The use of label encoder in XGBClassifier is deprecated and will be removed in a future release. To remove this warning, do the following: 1) Pass option use_label_encoder=False when constructing XGBClassifier object; and 2) Encode your labels (y) as integers starting with 0, i.e. 0, 1, 2, ..., [num_class - 1].\n",
      "  warnings.warn(label_encoder_deprecation_msg, UserWarning)\n",
      "/opt/anaconda3/envs/trainingAI/lib/python3.9/site-packages/xgboost/sklearn.py:1224: UserWarning: The use of label encoder in XGBClassifier is deprecated and will be removed in a future release. To remove this warning, do the following: 1) Pass option use_label_encoder=False when constructing XGBClassifier object; and 2) Encode your labels (y) as integers starting with 0, i.e. 0, 1, 2, ..., [num_class - 1].\n",
      "  warnings.warn(label_encoder_deprecation_msg, UserWarning)\n",
      "/opt/anaconda3/envs/trainingAI/lib/python3.9/site-packages/xgboost/sklearn.py:1224: UserWarning: The use of label encoder in XGBClassifier is deprecated and will be removed in a future release. To remove this warning, do the following: 1) Pass option use_label_encoder=False when constructing XGBClassifier object; and 2) Encode your labels (y) as integers starting with 0, i.e. 0, 1, 2, ..., [num_class - 1].\n",
      "  warnings.warn(label_encoder_deprecation_msg, UserWarning)\n",
      "/opt/anaconda3/envs/trainingAI/lib/python3.9/site-packages/xgboost/sklearn.py:1224: UserWarning: The use of label encoder in XGBClassifier is deprecated and will be removed in a future release. To remove this warning, do the following: 1) Pass option use_label_encoder=False when constructing XGBClassifier object; and 2) Encode your labels (y) as integers starting with 0, i.e. 0, 1, 2, ..., [num_class - 1].\n",
      "  warnings.warn(label_encoder_deprecation_msg, UserWarning)\n",
      "/opt/anaconda3/envs/trainingAI/lib/python3.9/site-packages/xgboost/sklearn.py:1224: UserWarning: The use of label encoder in XGBClassifier is deprecated and will be removed in a future release. To remove this warning, do the following: 1) Pass option use_label_encoder=False when constructing XGBClassifier object; and 2) Encode your labels (y) as integers starting with 0, i.e. 0, 1, 2, ..., [num_class - 1].\n",
      "  warnings.warn(label_encoder_deprecation_msg, UserWarning)\n",
      "/opt/anaconda3/envs/trainingAI/lib/python3.9/site-packages/xgboost/data.py:262: FutureWarning: pandas.Int64Index is deprecated and will be removed from pandas in a future version. Use pandas.Index with the appropriate dtype instead.\n",
      "  elif isinstance(data.columns, (pd.Int64Index, pd.RangeIndex)):\n",
      "/opt/anaconda3/envs/trainingAI/lib/python3.9/site-packages/xgboost/data.py:262: FutureWarning: pandas.Int64Index is deprecated and will be removed from pandas in a future version. Use pandas.Index with the appropriate dtype instead.\n",
      "  elif isinstance(data.columns, (pd.Int64Index, pd.RangeIndex)):\n",
      "/opt/anaconda3/envs/trainingAI/lib/python3.9/site-packages/xgboost/data.py:262: FutureWarning: pandas.Int64Index is deprecated and will be removed from pandas in a future version. Use pandas.Index with the appropriate dtype instead.\n",
      "  elif isinstance(data.columns, (pd.Int64Index, pd.RangeIndex)):\n",
      "/opt/anaconda3/envs/trainingAI/lib/python3.9/site-packages/xgboost/data.py:262: FutureWarning: pandas.Int64Index is deprecated and will be removed from pandas in a future version. Use pandas.Index with the appropriate dtype instead.\n",
      "  elif isinstance(data.columns, (pd.Int64Index, pd.RangeIndex)):\n",
      "/opt/anaconda3/envs/trainingAI/lib/python3.9/site-packages/xgboost/data.py:262: FutureWarning: pandas.Int64Index is deprecated and will be removed from pandas in a future version. Use pandas.Index with the appropriate dtype instead.\n",
      "  elif isinstance(data.columns, (pd.Int64Index, pd.RangeIndex)):\n",
      "/opt/anaconda3/envs/trainingAI/lib/python3.9/site-packages/xgboost/data.py:262: FutureWarning: pandas.Int64Index is deprecated and will be removed from pandas in a future version. Use pandas.Index with the appropriate dtype instead.\n",
      "  elif isinstance(data.columns, (pd.Int64Index, pd.RangeIndex)):\n",
      "/opt/anaconda3/envs/trainingAI/lib/python3.9/site-packages/xgboost/data.py:262: FutureWarning: pandas.Int64Index is deprecated and will be removed from pandas in a future version. Use pandas.Index with the appropriate dtype instead.\n",
      "  elif isinstance(data.columns, (pd.Int64Index, pd.RangeIndex)):\n",
      "/opt/anaconda3/envs/trainingAI/lib/python3.9/site-packages/xgboost/data.py:262: FutureWarning: pandas.Int64Index is deprecated and will be removed from pandas in a future version. Use pandas.Index with the appropriate dtype instead.\n",
      "  elif isinstance(data.columns, (pd.Int64Index, pd.RangeIndex)):\n",
      "/opt/anaconda3/envs/trainingAI/lib/python3.9/site-packages/xgboost/data.py:262: FutureWarning: pandas.Int64Index is deprecated and will be removed from pandas in a future version. Use pandas.Index with the appropriate dtype instead.\n",
      "  elif isinstance(data.columns, (pd.Int64Index, pd.RangeIndex)):\n",
      "/opt/anaconda3/envs/trainingAI/lib/python3.9/site-packages/xgboost/data.py:262: FutureWarning: pandas.Int64Index is deprecated and will be removed from pandas in a future version. Use pandas.Index with the appropriate dtype instead.\n",
      "  elif isinstance(data.columns, (pd.Int64Index, pd.RangeIndex)):\n",
      "/opt/anaconda3/envs/trainingAI/lib/python3.9/site-packages/xgboost/data.py:262: FutureWarning: pandas.Int64Index is deprecated and will be removed from pandas in a future version. Use pandas.Index with the appropriate dtype instead.\n",
      "  elif isinstance(data.columns, (pd.Int64Index, pd.RangeIndex)):\n"
     ]
    },
    {
     "name": "stderr",
     "output_type": "stream",
     "text": [
      "/opt/anaconda3/envs/trainingAI/lib/python3.9/site-packages/xgboost/compat.py:36: FutureWarning: pandas.Int64Index is deprecated and will be removed from pandas in a future version. Use pandas.Index with the appropriate dtype instead.\n",
      "  from pandas import MultiIndex, Int64Index\n",
      "/opt/anaconda3/envs/trainingAI/lib/python3.9/site-packages/xgboost/sklearn.py:1224: UserWarning: The use of label encoder in XGBClassifier is deprecated and will be removed in a future release. To remove this warning, do the following: 1) Pass option use_label_encoder=False when constructing XGBClassifier object; and 2) Encode your labels (y) as integers starting with 0, i.e. 0, 1, 2, ..., [num_class - 1].\n",
      "  warnings.warn(label_encoder_deprecation_msg, UserWarning)\n",
      "/opt/anaconda3/envs/trainingAI/lib/python3.9/site-packages/xgboost/data.py:262: FutureWarning: pandas.Int64Index is deprecated and will be removed from pandas in a future version. Use pandas.Index with the appropriate dtype instead.\n",
      "  elif isinstance(data.columns, (pd.Int64Index, pd.RangeIndex)):\n",
      "/opt/anaconda3/envs/trainingAI/lib/python3.9/site-packages/xgboost/sklearn.py:1224: UserWarning: The use of label encoder in XGBClassifier is deprecated and will be removed in a future release. To remove this warning, do the following: 1) Pass option use_label_encoder=False when constructing XGBClassifier object; and 2) Encode your labels (y) as integers starting with 0, i.e. 0, 1, 2, ..., [num_class - 1].\n",
      "  warnings.warn(label_encoder_deprecation_msg, UserWarning)\n",
      "/opt/anaconda3/envs/trainingAI/lib/python3.9/site-packages/xgboost/data.py:262: FutureWarning: pandas.Int64Index is deprecated and will be removed from pandas in a future version. Use pandas.Index with the appropriate dtype instead.\n",
      "  elif isinstance(data.columns, (pd.Int64Index, pd.RangeIndex)):\n",
      "/opt/anaconda3/envs/trainingAI/lib/python3.9/site-packages/xgboost/sklearn.py:1224: UserWarning: The use of label encoder in XGBClassifier is deprecated and will be removed in a future release. To remove this warning, do the following: 1) Pass option use_label_encoder=False when constructing XGBClassifier object; and 2) Encode your labels (y) as integers starting with 0, i.e. 0, 1, 2, ..., [num_class - 1].\n",
      "  warnings.warn(label_encoder_deprecation_msg, UserWarning)\n",
      "/opt/anaconda3/envs/trainingAI/lib/python3.9/site-packages/xgboost/data.py:262: FutureWarning: pandas.Int64Index is deprecated and will be removed from pandas in a future version. Use pandas.Index with the appropriate dtype instead.\n",
      "  elif isinstance(data.columns, (pd.Int64Index, pd.RangeIndex)):\n",
      "/opt/anaconda3/envs/trainingAI/lib/python3.9/site-packages/xgboost/sklearn.py:1224: UserWarning: The use of label encoder in XGBClassifier is deprecated and will be removed in a future release. To remove this warning, do the following: 1) Pass option use_label_encoder=False when constructing XGBClassifier object; and 2) Encode your labels (y) as integers starting with 0, i.e. 0, 1, 2, ..., [num_class - 1].\n",
      "  warnings.warn(label_encoder_deprecation_msg, UserWarning)\n",
      "/opt/anaconda3/envs/trainingAI/lib/python3.9/site-packages/xgboost/data.py:262: FutureWarning: pandas.Int64Index is deprecated and will be removed from pandas in a future version. Use pandas.Index with the appropriate dtype instead.\n",
      "  elif isinstance(data.columns, (pd.Int64Index, pd.RangeIndex)):\n",
      "/opt/anaconda3/envs/trainingAI/lib/python3.9/site-packages/xgboost/sklearn.py:1224: UserWarning: The use of label encoder in XGBClassifier is deprecated and will be removed in a future release. To remove this warning, do the following: 1) Pass option use_label_encoder=False when constructing XGBClassifier object; and 2) Encode your labels (y) as integers starting with 0, i.e. 0, 1, 2, ..., [num_class - 1].\n",
      "  warnings.warn(label_encoder_deprecation_msg, UserWarning)\n",
      "/opt/anaconda3/envs/trainingAI/lib/python3.9/site-packages/xgboost/sklearn.py:1224: UserWarning: The use of label encoder in XGBClassifier is deprecated and will be removed in a future release. To remove this warning, do the following: 1) Pass option use_label_encoder=False when constructing XGBClassifier object; and 2) Encode your labels (y) as integers starting with 0, i.e. 0, 1, 2, ..., [num_class - 1].\n",
      "  warnings.warn(label_encoder_deprecation_msg, UserWarning)\n",
      "/opt/anaconda3/envs/trainingAI/lib/python3.9/site-packages/xgboost/sklearn.py:1224: UserWarning: The use of label encoder in XGBClassifier is deprecated and will be removed in a future release. To remove this warning, do the following: 1) Pass option use_label_encoder=False when constructing XGBClassifier object; and 2) Encode your labels (y) as integers starting with 0, i.e. 0, 1, 2, ..., [num_class - 1].\n",
      "  warnings.warn(label_encoder_deprecation_msg, UserWarning)\n",
      "/opt/anaconda3/envs/trainingAI/lib/python3.9/site-packages/xgboost/data.py:262: FutureWarning: pandas.Int64Index is deprecated and will be removed from pandas in a future version. Use pandas.Index with the appropriate dtype instead.\n",
      "  elif isinstance(data.columns, (pd.Int64Index, pd.RangeIndex)):\n",
      "/opt/anaconda3/envs/trainingAI/lib/python3.9/site-packages/xgboost/data.py:262: FutureWarning: pandas.Int64Index is deprecated and will be removed from pandas in a future version. Use pandas.Index with the appropriate dtype instead.\n",
      "  elif isinstance(data.columns, (pd.Int64Index, pd.RangeIndex)):\n",
      "/opt/anaconda3/envs/trainingAI/lib/python3.9/site-packages/xgboost/data.py:262: FutureWarning: pandas.Int64Index is deprecated and will be removed from pandas in a future version. Use pandas.Index with the appropriate dtype instead.\n",
      "  elif isinstance(data.columns, (pd.Int64Index, pd.RangeIndex)):\n",
      "/opt/anaconda3/envs/trainingAI/lib/python3.9/site-packages/xgboost/sklearn.py:1224: UserWarning: The use of label encoder in XGBClassifier is deprecated and will be removed in a future release. To remove this warning, do the following: 1) Pass option use_label_encoder=False when constructing XGBClassifier object; and 2) Encode your labels (y) as integers starting with 0, i.e. 0, 1, 2, ..., [num_class - 1].\n",
      "  warnings.warn(label_encoder_deprecation_msg, UserWarning)\n",
      "/opt/anaconda3/envs/trainingAI/lib/python3.9/site-packages/xgboost/data.py:262: FutureWarning: pandas.Int64Index is deprecated and will be removed from pandas in a future version. Use pandas.Index with the appropriate dtype instead.\n",
      "  elif isinstance(data.columns, (pd.Int64Index, pd.RangeIndex)):\n",
      "/opt/anaconda3/envs/trainingAI/lib/python3.9/site-packages/xgboost/sklearn.py:1224: UserWarning: The use of label encoder in XGBClassifier is deprecated and will be removed in a future release. To remove this warning, do the following: 1) Pass option use_label_encoder=False when constructing XGBClassifier object; and 2) Encode your labels (y) as integers starting with 0, i.e. 0, 1, 2, ..., [num_class - 1].\n",
      "  warnings.warn(label_encoder_deprecation_msg, UserWarning)\n",
      "/opt/anaconda3/envs/trainingAI/lib/python3.9/site-packages/xgboost/sklearn.py:1224: UserWarning: The use of label encoder in XGBClassifier is deprecated and will be removed in a future release. To remove this warning, do the following: 1) Pass option use_label_encoder=False when constructing XGBClassifier object; and 2) Encode your labels (y) as integers starting with 0, i.e. 0, 1, 2, ..., [num_class - 1].\n",
      "  warnings.warn(label_encoder_deprecation_msg, UserWarning)\n",
      "/opt/anaconda3/envs/trainingAI/lib/python3.9/site-packages/xgboost/sklearn.py:1224: UserWarning: The use of label encoder in XGBClassifier is deprecated and will be removed in a future release. To remove this warning, do the following: 1) Pass option use_label_encoder=False when constructing XGBClassifier object; and 2) Encode your labels (y) as integers starting with 0, i.e. 0, 1, 2, ..., [num_class - 1].\n",
      "  warnings.warn(label_encoder_deprecation_msg, UserWarning)\n",
      "/opt/anaconda3/envs/trainingAI/lib/python3.9/site-packages/xgboost/data.py:262: FutureWarning: pandas.Int64Index is deprecated and will be removed from pandas in a future version. Use pandas.Index with the appropriate dtype instead.\n",
      "  elif isinstance(data.columns, (pd.Int64Index, pd.RangeIndex)):\n",
      "/opt/anaconda3/envs/trainingAI/lib/python3.9/site-packages/xgboost/data.py:262: FutureWarning: pandas.Int64Index is deprecated and will be removed from pandas in a future version. Use pandas.Index with the appropriate dtype instead.\n",
      "  elif isinstance(data.columns, (pd.Int64Index, pd.RangeIndex)):\n",
      "/opt/anaconda3/envs/trainingAI/lib/python3.9/site-packages/xgboost/data.py:262: FutureWarning: pandas.Int64Index is deprecated and will be removed from pandas in a future version. Use pandas.Index with the appropriate dtype instead.\n",
      "  elif isinstance(data.columns, (pd.Int64Index, pd.RangeIndex)):\n",
      "/opt/anaconda3/envs/trainingAI/lib/python3.9/site-packages/xgboost/sklearn.py:1224: UserWarning: The use of label encoder in XGBClassifier is deprecated and will be removed in a future release. To remove this warning, do the following: 1) Pass option use_label_encoder=False when constructing XGBClassifier object; and 2) Encode your labels (y) as integers starting with 0, i.e. 0, 1, 2, ..., [num_class - 1].\n",
      "  warnings.warn(label_encoder_deprecation_msg, UserWarning)\n",
      "/opt/anaconda3/envs/trainingAI/lib/python3.9/site-packages/xgboost/data.py:262: FutureWarning: pandas.Int64Index is deprecated and will be removed from pandas in a future version. Use pandas.Index with the appropriate dtype instead.\n",
      "  elif isinstance(data.columns, (pd.Int64Index, pd.RangeIndex)):\n"
     ]
    },
    {
     "name": "stderr",
     "output_type": "stream",
     "text": [
      "/opt/anaconda3/envs/trainingAI/lib/python3.9/site-packages/xgboost/sklearn.py:1224: UserWarning: The use of label encoder in XGBClassifier is deprecated and will be removed in a future release. To remove this warning, do the following: 1) Pass option use_label_encoder=False when constructing XGBClassifier object; and 2) Encode your labels (y) as integers starting with 0, i.e. 0, 1, 2, ..., [num_class - 1].\n",
      "  warnings.warn(label_encoder_deprecation_msg, UserWarning)\n",
      "/opt/anaconda3/envs/trainingAI/lib/python3.9/site-packages/xgboost/data.py:262: FutureWarning: pandas.Int64Index is deprecated and will be removed from pandas in a future version. Use pandas.Index with the appropriate dtype instead.\n",
      "  elif isinstance(data.columns, (pd.Int64Index, pd.RangeIndex)):\n",
      "/opt/anaconda3/envs/trainingAI/lib/python3.9/site-packages/xgboost/sklearn.py:1224: UserWarning: The use of label encoder in XGBClassifier is deprecated and will be removed in a future release. To remove this warning, do the following: 1) Pass option use_label_encoder=False when constructing XGBClassifier object; and 2) Encode your labels (y) as integers starting with 0, i.e. 0, 1, 2, ..., [num_class - 1].\n",
      "  warnings.warn(label_encoder_deprecation_msg, UserWarning)\n",
      "/opt/anaconda3/envs/trainingAI/lib/python3.9/site-packages/xgboost/data.py:262: FutureWarning: pandas.Int64Index is deprecated and will be removed from pandas in a future version. Use pandas.Index with the appropriate dtype instead.\n",
      "  elif isinstance(data.columns, (pd.Int64Index, pd.RangeIndex)):\n",
      "/opt/anaconda3/envs/trainingAI/lib/python3.9/site-packages/xgboost/sklearn.py:1224: UserWarning: The use of label encoder in XGBClassifier is deprecated and will be removed in a future release. To remove this warning, do the following: 1) Pass option use_label_encoder=False when constructing XGBClassifier object; and 2) Encode your labels (y) as integers starting with 0, i.e. 0, 1, 2, ..., [num_class - 1].\n",
      "  warnings.warn(label_encoder_deprecation_msg, UserWarning)\n",
      "/opt/anaconda3/envs/trainingAI/lib/python3.9/site-packages/xgboost/data.py:262: FutureWarning: pandas.Int64Index is deprecated and will be removed from pandas in a future version. Use pandas.Index with the appropriate dtype instead.\n",
      "  elif isinstance(data.columns, (pd.Int64Index, pd.RangeIndex)):\n",
      "/opt/anaconda3/envs/trainingAI/lib/python3.9/site-packages/xgboost/sklearn.py:1224: UserWarning: The use of label encoder in XGBClassifier is deprecated and will be removed in a future release. To remove this warning, do the following: 1) Pass option use_label_encoder=False when constructing XGBClassifier object; and 2) Encode your labels (y) as integers starting with 0, i.e. 0, 1, 2, ..., [num_class - 1].\n",
      "  warnings.warn(label_encoder_deprecation_msg, UserWarning)\n",
      "/opt/anaconda3/envs/trainingAI/lib/python3.9/site-packages/xgboost/data.py:262: FutureWarning: pandas.Int64Index is deprecated and will be removed from pandas in a future version. Use pandas.Index with the appropriate dtype instead.\n",
      "  elif isinstance(data.columns, (pd.Int64Index, pd.RangeIndex)):\n",
      "/opt/anaconda3/envs/trainingAI/lib/python3.9/site-packages/xgboost/sklearn.py:1224: UserWarning: The use of label encoder in XGBClassifier is deprecated and will be removed in a future release. To remove this warning, do the following: 1) Pass option use_label_encoder=False when constructing XGBClassifier object; and 2) Encode your labels (y) as integers starting with 0, i.e. 0, 1, 2, ..., [num_class - 1].\n",
      "  warnings.warn(label_encoder_deprecation_msg, UserWarning)\n",
      "/opt/anaconda3/envs/trainingAI/lib/python3.9/site-packages/xgboost/data.py:262: FutureWarning: pandas.Int64Index is deprecated and will be removed from pandas in a future version. Use pandas.Index with the appropriate dtype instead.\n",
      "  elif isinstance(data.columns, (pd.Int64Index, pd.RangeIndex)):\n",
      "/opt/anaconda3/envs/trainingAI/lib/python3.9/site-packages/xgboost/sklearn.py:1224: UserWarning: The use of label encoder in XGBClassifier is deprecated and will be removed in a future release. To remove this warning, do the following: 1) Pass option use_label_encoder=False when constructing XGBClassifier object; and 2) Encode your labels (y) as integers starting with 0, i.e. 0, 1, 2, ..., [num_class - 1].\n",
      "  warnings.warn(label_encoder_deprecation_msg, UserWarning)\n",
      "/opt/anaconda3/envs/trainingAI/lib/python3.9/site-packages/xgboost/data.py:262: FutureWarning: pandas.Int64Index is deprecated and will be removed from pandas in a future version. Use pandas.Index with the appropriate dtype instead.\n",
      "  elif isinstance(data.columns, (pd.Int64Index, pd.RangeIndex)):\n",
      "/opt/anaconda3/envs/trainingAI/lib/python3.9/site-packages/xgboost/sklearn.py:1224: UserWarning: The use of label encoder in XGBClassifier is deprecated and will be removed in a future release. To remove this warning, do the following: 1) Pass option use_label_encoder=False when constructing XGBClassifier object; and 2) Encode your labels (y) as integers starting with 0, i.e. 0, 1, 2, ..., [num_class - 1].\n",
      "  warnings.warn(label_encoder_deprecation_msg, UserWarning)\n",
      "/opt/anaconda3/envs/trainingAI/lib/python3.9/site-packages/xgboost/data.py:262: FutureWarning: pandas.Int64Index is deprecated and will be removed from pandas in a future version. Use pandas.Index with the appropriate dtype instead.\n",
      "  elif isinstance(data.columns, (pd.Int64Index, pd.RangeIndex)):\n",
      "/opt/anaconda3/envs/trainingAI/lib/python3.9/site-packages/xgboost/sklearn.py:1224: UserWarning: The use of label encoder in XGBClassifier is deprecated and will be removed in a future release. To remove this warning, do the following: 1) Pass option use_label_encoder=False when constructing XGBClassifier object; and 2) Encode your labels (y) as integers starting with 0, i.e. 0, 1, 2, ..., [num_class - 1].\n",
      "  warnings.warn(label_encoder_deprecation_msg, UserWarning)\n",
      "/opt/anaconda3/envs/trainingAI/lib/python3.9/site-packages/xgboost/sklearn.py:1224: UserWarning: The use of label encoder in XGBClassifier is deprecated and will be removed in a future release. To remove this warning, do the following: 1) Pass option use_label_encoder=False when constructing XGBClassifier object; and 2) Encode your labels (y) as integers starting with 0, i.e. 0, 1, 2, ..., [num_class - 1].\n",
      "  warnings.warn(label_encoder_deprecation_msg, UserWarning)\n",
      "/opt/anaconda3/envs/trainingAI/lib/python3.9/site-packages/xgboost/data.py:262: FutureWarning: pandas.Int64Index is deprecated and will be removed from pandas in a future version. Use pandas.Index with the appropriate dtype instead.\n",
      "  elif isinstance(data.columns, (pd.Int64Index, pd.RangeIndex)):\n",
      "/opt/anaconda3/envs/trainingAI/lib/python3.9/site-packages/xgboost/data.py:262: FutureWarning: pandas.Int64Index is deprecated and will be removed from pandas in a future version. Use pandas.Index with the appropriate dtype instead.\n",
      "  elif isinstance(data.columns, (pd.Int64Index, pd.RangeIndex)):\n",
      "/opt/anaconda3/envs/trainingAI/lib/python3.9/site-packages/xgboost/sklearn.py:1224: UserWarning: The use of label encoder in XGBClassifier is deprecated and will be removed in a future release. To remove this warning, do the following: 1) Pass option use_label_encoder=False when constructing XGBClassifier object; and 2) Encode your labels (y) as integers starting with 0, i.e. 0, 1, 2, ..., [num_class - 1].\n",
      "  warnings.warn(label_encoder_deprecation_msg, UserWarning)\n",
      "/opt/anaconda3/envs/trainingAI/lib/python3.9/site-packages/xgboost/data.py:262: FutureWarning: pandas.Int64Index is deprecated and will be removed from pandas in a future version. Use pandas.Index with the appropriate dtype instead.\n",
      "  elif isinstance(data.columns, (pd.Int64Index, pd.RangeIndex)):\n",
      "/opt/anaconda3/envs/trainingAI/lib/python3.9/site-packages/xgboost/sklearn.py:1224: UserWarning: The use of label encoder in XGBClassifier is deprecated and will be removed in a future release. To remove this warning, do the following: 1) Pass option use_label_encoder=False when constructing XGBClassifier object; and 2) Encode your labels (y) as integers starting with 0, i.e. 0, 1, 2, ..., [num_class - 1].\n",
      "  warnings.warn(label_encoder_deprecation_msg, UserWarning)\n",
      "/opt/anaconda3/envs/trainingAI/lib/python3.9/site-packages/xgboost/data.py:262: FutureWarning: pandas.Int64Index is deprecated and will be removed from pandas in a future version. Use pandas.Index with the appropriate dtype instead.\n",
      "  elif isinstance(data.columns, (pd.Int64Index, pd.RangeIndex)):\n"
     ]
    },
    {
     "name": "stderr",
     "output_type": "stream",
     "text": [
      "/opt/anaconda3/envs/trainingAI/lib/python3.9/site-packages/xgboost/sklearn.py:1224: UserWarning: The use of label encoder in XGBClassifier is deprecated and will be removed in a future release. To remove this warning, do the following: 1) Pass option use_label_encoder=False when constructing XGBClassifier object; and 2) Encode your labels (y) as integers starting with 0, i.e. 0, 1, 2, ..., [num_class - 1].\n",
      "  warnings.warn(label_encoder_deprecation_msg, UserWarning)\n",
      "/opt/anaconda3/envs/trainingAI/lib/python3.9/site-packages/xgboost/sklearn.py:1224: UserWarning: The use of label encoder in XGBClassifier is deprecated and will be removed in a future release. To remove this warning, do the following: 1) Pass option use_label_encoder=False when constructing XGBClassifier object; and 2) Encode your labels (y) as integers starting with 0, i.e. 0, 1, 2, ..., [num_class - 1].\n",
      "  warnings.warn(label_encoder_deprecation_msg, UserWarning)\n",
      "/opt/anaconda3/envs/trainingAI/lib/python3.9/site-packages/xgboost/data.py:262: FutureWarning: pandas.Int64Index is deprecated and will be removed from pandas in a future version. Use pandas.Index with the appropriate dtype instead.\n",
      "  elif isinstance(data.columns, (pd.Int64Index, pd.RangeIndex)):\n",
      "/opt/anaconda3/envs/trainingAI/lib/python3.9/site-packages/xgboost/data.py:262: FutureWarning: pandas.Int64Index is deprecated and will be removed from pandas in a future version. Use pandas.Index with the appropriate dtype instead.\n",
      "  elif isinstance(data.columns, (pd.Int64Index, pd.RangeIndex)):\n",
      "/opt/anaconda3/envs/trainingAI/lib/python3.9/site-packages/xgboost/sklearn.py:1224: UserWarning: The use of label encoder in XGBClassifier is deprecated and will be removed in a future release. To remove this warning, do the following: 1) Pass option use_label_encoder=False when constructing XGBClassifier object; and 2) Encode your labels (y) as integers starting with 0, i.e. 0, 1, 2, ..., [num_class - 1].\n",
      "  warnings.warn(label_encoder_deprecation_msg, UserWarning)\n",
      "/opt/anaconda3/envs/trainingAI/lib/python3.9/site-packages/xgboost/data.py:262: FutureWarning: pandas.Int64Index is deprecated and will be removed from pandas in a future version. Use pandas.Index with the appropriate dtype instead.\n",
      "  elif isinstance(data.columns, (pd.Int64Index, pd.RangeIndex)):\n"
     ]
    },
    {
     "name": "stdout",
     "output_type": "stream",
     "text": [
      "[19:28:13] WARNING: /Users/runner/work/xgboost/xgboost/src/learner.cc:1115: Starting in XGBoost 1.3.0, the default evaluation metric used with the objective 'binary:logistic' was changed from 'error' to 'logloss'. Explicitly set eval_metric if you'd like to restore the old behavior.\n",
      "Best params: {'gamma': 0.025, 'learning_rate': 0.001, 'max_depth': 2}\n",
      "Best score: 0.53509\n"
     ]
    }
   ],
   "source": [
    "grid_search(params={'learning_rate':[0.001, 0.01, 0.03], 'max_depth':[1, 2], 'gamma':[0.025, 0.05, 0.5]})"
   ]
  },
  {
   "cell_type": "code",
   "execution_count": 39,
   "metadata": {
    "ExecuteTime": {
     "end_time": "2022-02-27T19:28:21.412723Z",
     "start_time": "2022-02-27T19:28:15.094876Z"
    }
   },
   "outputs": [
    {
     "name": "stderr",
     "output_type": "stream",
     "text": [
      "/opt/anaconda3/envs/trainingAI/lib/python3.9/site-packages/xgboost/sklearn.py:1224: UserWarning: The use of label encoder in XGBClassifier is deprecated and will be removed in a future release. To remove this warning, do the following: 1) Pass option use_label_encoder=False when constructing XGBClassifier object; and 2) Encode your labels (y) as integers starting with 0, i.e. 0, 1, 2, ..., [num_class - 1].\n",
      "  warnings.warn(label_encoder_deprecation_msg, UserWarning)\n",
      "/opt/anaconda3/envs/trainingAI/lib/python3.9/site-packages/xgboost/sklearn.py:1224: UserWarning: The use of label encoder in XGBClassifier is deprecated and will be removed in a future release. To remove this warning, do the following: 1) Pass option use_label_encoder=False when constructing XGBClassifier object; and 2) Encode your labels (y) as integers starting with 0, i.e. 0, 1, 2, ..., [num_class - 1].\n",
      "  warnings.warn(label_encoder_deprecation_msg, UserWarning)\n",
      "/opt/anaconda3/envs/trainingAI/lib/python3.9/site-packages/xgboost/sklearn.py:1224: UserWarning: The use of label encoder in XGBClassifier is deprecated and will be removed in a future release. To remove this warning, do the following: 1) Pass option use_label_encoder=False when constructing XGBClassifier object; and 2) Encode your labels (y) as integers starting with 0, i.e. 0, 1, 2, ..., [num_class - 1].\n",
      "  warnings.warn(label_encoder_deprecation_msg, UserWarning)\n",
      "/opt/anaconda3/envs/trainingAI/lib/python3.9/site-packages/xgboost/sklearn.py:1224: UserWarning: The use of label encoder in XGBClassifier is deprecated and will be removed in a future release. To remove this warning, do the following: 1) Pass option use_label_encoder=False when constructing XGBClassifier object; and 2) Encode your labels (y) as integers starting with 0, i.e. 0, 1, 2, ..., [num_class - 1].\n",
      "  warnings.warn(label_encoder_deprecation_msg, UserWarning)\n",
      "/opt/anaconda3/envs/trainingAI/lib/python3.9/site-packages/xgboost/sklearn.py:1224: UserWarning: The use of label encoder in XGBClassifier is deprecated and will be removed in a future release. To remove this warning, do the following: 1) Pass option use_label_encoder=False when constructing XGBClassifier object; and 2) Encode your labels (y) as integers starting with 0, i.e. 0, 1, 2, ..., [num_class - 1].\n",
      "  warnings.warn(label_encoder_deprecation_msg, UserWarning)\n",
      "/opt/anaconda3/envs/trainingAI/lib/python3.9/site-packages/xgboost/sklearn.py:1224: UserWarning: The use of label encoder in XGBClassifier is deprecated and will be removed in a future release. To remove this warning, do the following: 1) Pass option use_label_encoder=False when constructing XGBClassifier object; and 2) Encode your labels (y) as integers starting with 0, i.e. 0, 1, 2, ..., [num_class - 1].\n",
      "  warnings.warn(label_encoder_deprecation_msg, UserWarning)\n",
      "/opt/anaconda3/envs/trainingAI/lib/python3.9/site-packages/xgboost/sklearn.py:1224: UserWarning: The use of label encoder in XGBClassifier is deprecated and will be removed in a future release. To remove this warning, do the following: 1) Pass option use_label_encoder=False when constructing XGBClassifier object; and 2) Encode your labels (y) as integers starting with 0, i.e. 0, 1, 2, ..., [num_class - 1].\n",
      "  warnings.warn(label_encoder_deprecation_msg, UserWarning)\n",
      "/opt/anaconda3/envs/trainingAI/lib/python3.9/site-packages/xgboost/sklearn.py:1224: UserWarning: The use of label encoder in XGBClassifier is deprecated and will be removed in a future release. To remove this warning, do the following: 1) Pass option use_label_encoder=False when constructing XGBClassifier object; and 2) Encode your labels (y) as integers starting with 0, i.e. 0, 1, 2, ..., [num_class - 1].\n",
      "  warnings.warn(label_encoder_deprecation_msg, UserWarning)\n",
      "/opt/anaconda3/envs/trainingAI/lib/python3.9/site-packages/xgboost/data.py:262: FutureWarning: pandas.Int64Index is deprecated and will be removed from pandas in a future version. Use pandas.Index with the appropriate dtype instead.\n",
      "  elif isinstance(data.columns, (pd.Int64Index, pd.RangeIndex)):\n",
      "/opt/anaconda3/envs/trainingAI/lib/python3.9/site-packages/xgboost/data.py:262: FutureWarning: pandas.Int64Index is deprecated and will be removed from pandas in a future version. Use pandas.Index with the appropriate dtype instead.\n",
      "  elif isinstance(data.columns, (pd.Int64Index, pd.RangeIndex)):\n",
      "/opt/anaconda3/envs/trainingAI/lib/python3.9/site-packages/xgboost/data.py:262: FutureWarning: pandas.Int64Index is deprecated and will be removed from pandas in a future version. Use pandas.Index with the appropriate dtype instead.\n",
      "  elif isinstance(data.columns, (pd.Int64Index, pd.RangeIndex)):\n",
      "/opt/anaconda3/envs/trainingAI/lib/python3.9/site-packages/xgboost/data.py:262: FutureWarning: pandas.Int64Index is deprecated and will be removed from pandas in a future version. Use pandas.Index with the appropriate dtype instead.\n",
      "  elif isinstance(data.columns, (pd.Int64Index, pd.RangeIndex)):\n",
      "/opt/anaconda3/envs/trainingAI/lib/python3.9/site-packages/xgboost/data.py:262: FutureWarning: pandas.Int64Index is deprecated and will be removed from pandas in a future version. Use pandas.Index with the appropriate dtype instead.\n",
      "  elif isinstance(data.columns, (pd.Int64Index, pd.RangeIndex)):\n",
      "/opt/anaconda3/envs/trainingAI/lib/python3.9/site-packages/xgboost/data.py:262: FutureWarning: pandas.Int64Index is deprecated and will be removed from pandas in a future version. Use pandas.Index with the appropriate dtype instead.\n",
      "  elif isinstance(data.columns, (pd.Int64Index, pd.RangeIndex)):\n",
      "/opt/anaconda3/envs/trainingAI/lib/python3.9/site-packages/xgboost/data.py:262: FutureWarning: pandas.Int64Index is deprecated and will be removed from pandas in a future version. Use pandas.Index with the appropriate dtype instead.\n",
      "  elif isinstance(data.columns, (pd.Int64Index, pd.RangeIndex)):\n",
      "/opt/anaconda3/envs/trainingAI/lib/python3.9/site-packages/xgboost/data.py:262: FutureWarning: pandas.Int64Index is deprecated and will be removed from pandas in a future version. Use pandas.Index with the appropriate dtype instead.\n",
      "  elif isinstance(data.columns, (pd.Int64Index, pd.RangeIndex)):\n",
      "/opt/anaconda3/envs/trainingAI/lib/python3.9/site-packages/xgboost/sklearn.py:1224: UserWarning: The use of label encoder in XGBClassifier is deprecated and will be removed in a future release. To remove this warning, do the following: 1) Pass option use_label_encoder=False when constructing XGBClassifier object; and 2) Encode your labels (y) as integers starting with 0, i.e. 0, 1, 2, ..., [num_class - 1].\n",
      "  warnings.warn(label_encoder_deprecation_msg, UserWarning)\n",
      "/opt/anaconda3/envs/trainingAI/lib/python3.9/site-packages/xgboost/data.py:262: FutureWarning: pandas.Int64Index is deprecated and will be removed from pandas in a future version. Use pandas.Index with the appropriate dtype instead.\n",
      "  elif isinstance(data.columns, (pd.Int64Index, pd.RangeIndex)):\n"
     ]
    },
    {
     "name": "stdout",
     "output_type": "stream",
     "text": [
      "[19:28:19] WARNING: /Users/runner/work/xgboost/xgboost/src/learner.cc:1115: Starting in XGBoost 1.3.0, the default evaluation metric used with the objective 'binary:logistic' was changed from 'error' to 'logloss'. Explicitly set eval_metric if you'd like to restore the old behavior.\n",
      "Best params: {'max_delta_step': 1}\n",
      "Best score: 0.24415\n"
     ]
    }
   ],
   "source": [
    "grid_search(params={'max_delta_step':[1, 3, 5, 7]})"
   ]
  },
  {
   "cell_type": "code",
   "execution_count": 40,
   "metadata": {
    "ExecuteTime": {
     "end_time": "2022-02-27T19:28:29.596460Z",
     "start_time": "2022-02-27T19:28:21.415326Z"
    }
   },
   "outputs": [
    {
     "name": "stderr",
     "output_type": "stream",
     "text": [
      "/opt/anaconda3/envs/trainingAI/lib/python3.9/site-packages/xgboost/sklearn.py:1224: UserWarning: The use of label encoder in XGBClassifier is deprecated and will be removed in a future release. To remove this warning, do the following: 1) Pass option use_label_encoder=False when constructing XGBClassifier object; and 2) Encode your labels (y) as integers starting with 0, i.e. 0, 1, 2, ..., [num_class - 1].\n",
      "  warnings.warn(label_encoder_deprecation_msg, UserWarning)\n",
      "/opt/anaconda3/envs/trainingAI/lib/python3.9/site-packages/xgboost/sklearn.py:1224: UserWarning: The use of label encoder in XGBClassifier is deprecated and will be removed in a future release. To remove this warning, do the following: 1) Pass option use_label_encoder=False when constructing XGBClassifier object; and 2) Encode your labels (y) as integers starting with 0, i.e. 0, 1, 2, ..., [num_class - 1].\n",
      "  warnings.warn(label_encoder_deprecation_msg, UserWarning)\n",
      "/opt/anaconda3/envs/trainingAI/lib/python3.9/site-packages/xgboost/sklearn.py:1224: UserWarning: The use of label encoder in XGBClassifier is deprecated and will be removed in a future release. To remove this warning, do the following: 1) Pass option use_label_encoder=False when constructing XGBClassifier object; and 2) Encode your labels (y) as integers starting with 0, i.e. 0, 1, 2, ..., [num_class - 1].\n",
      "  warnings.warn(label_encoder_deprecation_msg, UserWarning)\n",
      "/opt/anaconda3/envs/trainingAI/lib/python3.9/site-packages/xgboost/sklearn.py:1224: UserWarning: The use of label encoder in XGBClassifier is deprecated and will be removed in a future release. To remove this warning, do the following: 1) Pass option use_label_encoder=False when constructing XGBClassifier object; and 2) Encode your labels (y) as integers starting with 0, i.e. 0, 1, 2, ..., [num_class - 1].\n",
      "  warnings.warn(label_encoder_deprecation_msg, UserWarning)\n",
      "/opt/anaconda3/envs/trainingAI/lib/python3.9/site-packages/xgboost/sklearn.py:1224: UserWarning: The use of label encoder in XGBClassifier is deprecated and will be removed in a future release. To remove this warning, do the following: 1) Pass option use_label_encoder=False when constructing XGBClassifier object; and 2) Encode your labels (y) as integers starting with 0, i.e. 0, 1, 2, ..., [num_class - 1].\n",
      "  warnings.warn(label_encoder_deprecation_msg, UserWarning)\n",
      "/opt/anaconda3/envs/trainingAI/lib/python3.9/site-packages/xgboost/sklearn.py:1224: UserWarning: The use of label encoder in XGBClassifier is deprecated and will be removed in a future release. To remove this warning, do the following: 1) Pass option use_label_encoder=False when constructing XGBClassifier object; and 2) Encode your labels (y) as integers starting with 0, i.e. 0, 1, 2, ..., [num_class - 1].\n",
      "  warnings.warn(label_encoder_deprecation_msg, UserWarning)\n",
      "/opt/anaconda3/envs/trainingAI/lib/python3.9/site-packages/xgboost/sklearn.py:1224: UserWarning: The use of label encoder in XGBClassifier is deprecated and will be removed in a future release. To remove this warning, do the following: 1) Pass option use_label_encoder=False when constructing XGBClassifier object; and 2) Encode your labels (y) as integers starting with 0, i.e. 0, 1, 2, ..., [num_class - 1].\n",
      "  warnings.warn(label_encoder_deprecation_msg, UserWarning)\n",
      "/opt/anaconda3/envs/trainingAI/lib/python3.9/site-packages/xgboost/sklearn.py:1224: UserWarning: The use of label encoder in XGBClassifier is deprecated and will be removed in a future release. To remove this warning, do the following: 1) Pass option use_label_encoder=False when constructing XGBClassifier object; and 2) Encode your labels (y) as integers starting with 0, i.e. 0, 1, 2, ..., [num_class - 1].\n",
      "  warnings.warn(label_encoder_deprecation_msg, UserWarning)\n",
      "/opt/anaconda3/envs/trainingAI/lib/python3.9/site-packages/xgboost/sklearn.py:1224: UserWarning: The use of label encoder in XGBClassifier is deprecated and will be removed in a future release. To remove this warning, do the following: 1) Pass option use_label_encoder=False when constructing XGBClassifier object; and 2) Encode your labels (y) as integers starting with 0, i.e. 0, 1, 2, ..., [num_class - 1].\n",
      "  warnings.warn(label_encoder_deprecation_msg, UserWarning)\n",
      "/opt/anaconda3/envs/trainingAI/lib/python3.9/site-packages/xgboost/sklearn.py:1224: UserWarning: The use of label encoder in XGBClassifier is deprecated and will be removed in a future release. To remove this warning, do the following: 1) Pass option use_label_encoder=False when constructing XGBClassifier object; and 2) Encode your labels (y) as integers starting with 0, i.e. 0, 1, 2, ..., [num_class - 1].\n",
      "  warnings.warn(label_encoder_deprecation_msg, UserWarning)\n",
      "/opt/anaconda3/envs/trainingAI/lib/python3.9/site-packages/xgboost/sklearn.py:1224: UserWarning: The use of label encoder in XGBClassifier is deprecated and will be removed in a future release. To remove this warning, do the following: 1) Pass option use_label_encoder=False when constructing XGBClassifier object; and 2) Encode your labels (y) as integers starting with 0, i.e. 0, 1, 2, ..., [num_class - 1].\n",
      "  warnings.warn(label_encoder_deprecation_msg, UserWarning)\n",
      "/opt/anaconda3/envs/trainingAI/lib/python3.9/site-packages/xgboost/sklearn.py:1224: UserWarning: The use of label encoder in XGBClassifier is deprecated and will be removed in a future release. To remove this warning, do the following: 1) Pass option use_label_encoder=False when constructing XGBClassifier object; and 2) Encode your labels (y) as integers starting with 0, i.e. 0, 1, 2, ..., [num_class - 1].\n",
      "  warnings.warn(label_encoder_deprecation_msg, UserWarning)\n",
      "/opt/anaconda3/envs/trainingAI/lib/python3.9/site-packages/xgboost/data.py:262: FutureWarning: pandas.Int64Index is deprecated and will be removed from pandas in a future version. Use pandas.Index with the appropriate dtype instead.\n",
      "  elif isinstance(data.columns, (pd.Int64Index, pd.RangeIndex)):\n",
      "/opt/anaconda3/envs/trainingAI/lib/python3.9/site-packages/xgboost/data.py:262: FutureWarning: pandas.Int64Index is deprecated and will be removed from pandas in a future version. Use pandas.Index with the appropriate dtype instead.\n",
      "  elif isinstance(data.columns, (pd.Int64Index, pd.RangeIndex)):\n",
      "/opt/anaconda3/envs/trainingAI/lib/python3.9/site-packages/xgboost/data.py:262: FutureWarning: pandas.Int64Index is deprecated and will be removed from pandas in a future version. Use pandas.Index with the appropriate dtype instead.\n",
      "  elif isinstance(data.columns, (pd.Int64Index, pd.RangeIndex)):\n",
      "/opt/anaconda3/envs/trainingAI/lib/python3.9/site-packages/xgboost/data.py:262: FutureWarning: pandas.Int64Index is deprecated and will be removed from pandas in a future version. Use pandas.Index with the appropriate dtype instead.\n",
      "  elif isinstance(data.columns, (pd.Int64Index, pd.RangeIndex)):\n",
      "/opt/anaconda3/envs/trainingAI/lib/python3.9/site-packages/xgboost/data.py:262: FutureWarning: pandas.Int64Index is deprecated and will be removed from pandas in a future version. Use pandas.Index with the appropriate dtype instead.\n",
      "  elif isinstance(data.columns, (pd.Int64Index, pd.RangeIndex)):\n",
      "/opt/anaconda3/envs/trainingAI/lib/python3.9/site-packages/xgboost/data.py:262: FutureWarning: pandas.Int64Index is deprecated and will be removed from pandas in a future version. Use pandas.Index with the appropriate dtype instead.\n",
      "  elif isinstance(data.columns, (pd.Int64Index, pd.RangeIndex)):\n",
      "/opt/anaconda3/envs/trainingAI/lib/python3.9/site-packages/xgboost/data.py:262: FutureWarning: pandas.Int64Index is deprecated and will be removed from pandas in a future version. Use pandas.Index with the appropriate dtype instead.\n",
      "  elif isinstance(data.columns, (pd.Int64Index, pd.RangeIndex)):\n",
      "/opt/anaconda3/envs/trainingAI/lib/python3.9/site-packages/xgboost/data.py:262: FutureWarning: pandas.Int64Index is deprecated and will be removed from pandas in a future version. Use pandas.Index with the appropriate dtype instead.\n",
      "  elif isinstance(data.columns, (pd.Int64Index, pd.RangeIndex)):\n",
      "/opt/anaconda3/envs/trainingAI/lib/python3.9/site-packages/xgboost/data.py:262: FutureWarning: pandas.Int64Index is deprecated and will be removed from pandas in a future version. Use pandas.Index with the appropriate dtype instead.\n",
      "  elif isinstance(data.columns, (pd.Int64Index, pd.RangeIndex)):\n",
      "/opt/anaconda3/envs/trainingAI/lib/python3.9/site-packages/xgboost/data.py:262: FutureWarning: pandas.Int64Index is deprecated and will be removed from pandas in a future version. Use pandas.Index with the appropriate dtype instead.\n",
      "  elif isinstance(data.columns, (pd.Int64Index, pd.RangeIndex)):\n",
      "/opt/anaconda3/envs/trainingAI/lib/python3.9/site-packages/xgboost/data.py:262: FutureWarning: pandas.Int64Index is deprecated and will be removed from pandas in a future version. Use pandas.Index with the appropriate dtype instead.\n",
      "  elif isinstance(data.columns, (pd.Int64Index, pd.RangeIndex)):\n",
      "/opt/anaconda3/envs/trainingAI/lib/python3.9/site-packages/xgboost/data.py:262: FutureWarning: pandas.Int64Index is deprecated and will be removed from pandas in a future version. Use pandas.Index with the appropriate dtype instead.\n",
      "  elif isinstance(data.columns, (pd.Int64Index, pd.RangeIndex)):\n"
     ]
    },
    {
     "name": "stderr",
     "output_type": "stream",
     "text": [
      "/opt/anaconda3/envs/trainingAI/lib/python3.9/site-packages/xgboost/sklearn.py:1224: UserWarning: The use of label encoder in XGBClassifier is deprecated and will be removed in a future release. To remove this warning, do the following: 1) Pass option use_label_encoder=False when constructing XGBClassifier object; and 2) Encode your labels (y) as integers starting with 0, i.e. 0, 1, 2, ..., [num_class - 1].\n",
      "  warnings.warn(label_encoder_deprecation_msg, UserWarning)\n",
      "/opt/anaconda3/envs/trainingAI/lib/python3.9/site-packages/xgboost/sklearn.py:1224: UserWarning: The use of label encoder in XGBClassifier is deprecated and will be removed in a future release. To remove this warning, do the following: 1) Pass option use_label_encoder=False when constructing XGBClassifier object; and 2) Encode your labels (y) as integers starting with 0, i.e. 0, 1, 2, ..., [num_class - 1].\n",
      "  warnings.warn(label_encoder_deprecation_msg, UserWarning)\n",
      "/opt/anaconda3/envs/trainingAI/lib/python3.9/site-packages/xgboost/data.py:262: FutureWarning: pandas.Int64Index is deprecated and will be removed from pandas in a future version. Use pandas.Index with the appropriate dtype instead.\n",
      "  elif isinstance(data.columns, (pd.Int64Index, pd.RangeIndex)):\n",
      "/opt/anaconda3/envs/trainingAI/lib/python3.9/site-packages/xgboost/data.py:262: FutureWarning: pandas.Int64Index is deprecated and will be removed from pandas in a future version. Use pandas.Index with the appropriate dtype instead.\n",
      "  elif isinstance(data.columns, (pd.Int64Index, pd.RangeIndex)):\n",
      "/opt/anaconda3/envs/trainingAI/lib/python3.9/site-packages/xgboost/sklearn.py:1224: UserWarning: The use of label encoder in XGBClassifier is deprecated and will be removed in a future release. To remove this warning, do the following: 1) Pass option use_label_encoder=False when constructing XGBClassifier object; and 2) Encode your labels (y) as integers starting with 0, i.e. 0, 1, 2, ..., [num_class - 1].\n",
      "  warnings.warn(label_encoder_deprecation_msg, UserWarning)\n",
      "/opt/anaconda3/envs/trainingAI/lib/python3.9/site-packages/xgboost/sklearn.py:1224: UserWarning: The use of label encoder in XGBClassifier is deprecated and will be removed in a future release. To remove this warning, do the following: 1) Pass option use_label_encoder=False when constructing XGBClassifier object; and 2) Encode your labels (y) as integers starting with 0, i.e. 0, 1, 2, ..., [num_class - 1].\n",
      "  warnings.warn(label_encoder_deprecation_msg, UserWarning)\n",
      "/opt/anaconda3/envs/trainingAI/lib/python3.9/site-packages/xgboost/data.py:262: FutureWarning: pandas.Int64Index is deprecated and will be removed from pandas in a future version. Use pandas.Index with the appropriate dtype instead.\n",
      "  elif isinstance(data.columns, (pd.Int64Index, pd.RangeIndex)):\n",
      "/opt/anaconda3/envs/trainingAI/lib/python3.9/site-packages/xgboost/data.py:262: FutureWarning: pandas.Int64Index is deprecated and will be removed from pandas in a future version. Use pandas.Index with the appropriate dtype instead.\n",
      "  elif isinstance(data.columns, (pd.Int64Index, pd.RangeIndex)):\n",
      "/opt/anaconda3/envs/trainingAI/lib/python3.9/site-packages/xgboost/sklearn.py:1224: UserWarning: The use of label encoder in XGBClassifier is deprecated and will be removed in a future release. To remove this warning, do the following: 1) Pass option use_label_encoder=False when constructing XGBClassifier object; and 2) Encode your labels (y) as integers starting with 0, i.e. 0, 1, 2, ..., [num_class - 1].\n",
      "  warnings.warn(label_encoder_deprecation_msg, UserWarning)\n",
      "/opt/anaconda3/envs/trainingAI/lib/python3.9/site-packages/xgboost/sklearn.py:1224: UserWarning: The use of label encoder in XGBClassifier is deprecated and will be removed in a future release. To remove this warning, do the following: 1) Pass option use_label_encoder=False when constructing XGBClassifier object; and 2) Encode your labels (y) as integers starting with 0, i.e. 0, 1, 2, ..., [num_class - 1].\n",
      "  warnings.warn(label_encoder_deprecation_msg, UserWarning)\n",
      "/opt/anaconda3/envs/trainingAI/lib/python3.9/site-packages/xgboost/data.py:262: FutureWarning: pandas.Int64Index is deprecated and will be removed from pandas in a future version. Use pandas.Index with the appropriate dtype instead.\n",
      "  elif isinstance(data.columns, (pd.Int64Index, pd.RangeIndex)):\n",
      "/opt/anaconda3/envs/trainingAI/lib/python3.9/site-packages/xgboost/data.py:262: FutureWarning: pandas.Int64Index is deprecated and will be removed from pandas in a future version. Use pandas.Index with the appropriate dtype instead.\n",
      "  elif isinstance(data.columns, (pd.Int64Index, pd.RangeIndex)):\n",
      "/opt/anaconda3/envs/trainingAI/lib/python3.9/site-packages/xgboost/sklearn.py:1224: UserWarning: The use of label encoder in XGBClassifier is deprecated and will be removed in a future release. To remove this warning, do the following: 1) Pass option use_label_encoder=False when constructing XGBClassifier object; and 2) Encode your labels (y) as integers starting with 0, i.e. 0, 1, 2, ..., [num_class - 1].\n",
      "  warnings.warn(label_encoder_deprecation_msg, UserWarning)\n",
      "/opt/anaconda3/envs/trainingAI/lib/python3.9/site-packages/xgboost/sklearn.py:1224: UserWarning: The use of label encoder in XGBClassifier is deprecated and will be removed in a future release. To remove this warning, do the following: 1) Pass option use_label_encoder=False when constructing XGBClassifier object; and 2) Encode your labels (y) as integers starting with 0, i.e. 0, 1, 2, ..., [num_class - 1].\n",
      "  warnings.warn(label_encoder_deprecation_msg, UserWarning)\n",
      "/opt/anaconda3/envs/trainingAI/lib/python3.9/site-packages/xgboost/data.py:262: FutureWarning: pandas.Int64Index is deprecated and will be removed from pandas in a future version. Use pandas.Index with the appropriate dtype instead.\n",
      "  elif isinstance(data.columns, (pd.Int64Index, pd.RangeIndex)):\n",
      "/opt/anaconda3/envs/trainingAI/lib/python3.9/site-packages/xgboost/data.py:262: FutureWarning: pandas.Int64Index is deprecated and will be removed from pandas in a future version. Use pandas.Index with the appropriate dtype instead.\n",
      "  elif isinstance(data.columns, (pd.Int64Index, pd.RangeIndex)):\n",
      "/opt/anaconda3/envs/trainingAI/lib/python3.9/site-packages/xgboost/sklearn.py:1224: UserWarning: The use of label encoder in XGBClassifier is deprecated and will be removed in a future release. To remove this warning, do the following: 1) Pass option use_label_encoder=False when constructing XGBClassifier object; and 2) Encode your labels (y) as integers starting with 0, i.e. 0, 1, 2, ..., [num_class - 1].\n",
      "  warnings.warn(label_encoder_deprecation_msg, UserWarning)\n",
      "/opt/anaconda3/envs/trainingAI/lib/python3.9/site-packages/xgboost/data.py:262: FutureWarning: pandas.Int64Index is deprecated and will be removed from pandas in a future version. Use pandas.Index with the appropriate dtype instead.\n",
      "  elif isinstance(data.columns, (pd.Int64Index, pd.RangeIndex)):\n"
     ]
    },
    {
     "name": "stdout",
     "output_type": "stream",
     "text": [
      "[19:28:28] WARNING: /Users/runner/work/xgboost/xgboost/src/learner.cc:1115: Starting in XGBoost 1.3.0, the default evaluation metric used with the objective 'binary:logistic' was changed from 'error' to 'logloss'. Explicitly set eval_metric if you'd like to restore the old behavior.\n",
      "Best params: {'subsample': 0.3, 'colsample_bytree': 0.7, 'colsample_bynode': 0.7, 'colsample_bylevel': 1}\n",
      "Best score: 0.35380\n"
     ]
    }
   ],
   "source": [
    "grid_search(params={'subsample':[0.3, 0.5, 0.7, 0.9, 1], \n",
    "                    'colsample_bylevel':[0.3, 0.5, 0.7, 0.9, 1], \n",
    "                    'colsample_bynode':[0.3, 0.5, 0.7, 0.9, 1], \n",
    "                    'colsample_bytree':[0.3, 0.5, 0.7, 0.9, 1]}, random=True)"
   ]
  },
  {
   "cell_type": "markdown",
   "metadata": {},
   "source": [
    "\n",
    "- Instead of continuing with this subset of data that contains 400 rows, let's switch to the balanced subset \n",
    "(undersampled) that contains 74 rows to compare results”\n",
    "\n",
""   ]
  },
  {
   "cell_type": "code",
   "execution_count": 41,
   "metadata": {
    "ExecuteTime": {
     "end_time": "2022-02-27T19:28:29.602040Z",
     "start_time": "2022-02-27T19:28:29.598714Z"
    }
   },
   "outputs": [],
   "source": [
    "X_short = X.iloc[:74, :]\n",
    "y_short = y.iloc[:74]"
   ]
  },
  {
   "cell_type": "code",
   "execution_count": 42,
   "metadata": {
    "ExecuteTime": {
     "end_time": "2022-02-27T19:28:33.655938Z",
     "start_time": "2022-02-27T19:28:29.604015Z"
    }
   },
   "outputs": [
    {
     "name": "stderr",
     "output_type": "stream",
     "text": [
      "/opt/anaconda3/envs/trainingAI/lib/python3.9/site-packages/xgboost/sklearn.py:1224: UserWarning: The use of label encoder in XGBClassifier is deprecated and will be removed in a future release. To remove this warning, do the following: 1) Pass option use_label_encoder=False when constructing XGBClassifier object; and 2) Encode your labels (y) as integers starting with 0, i.e. 0, 1, 2, ..., [num_class - 1].\n",
      "  warnings.warn(label_encoder_deprecation_msg, UserWarning)\n",
      "/opt/anaconda3/envs/trainingAI/lib/python3.9/site-packages/xgboost/sklearn.py:1224: UserWarning: The use of label encoder in XGBClassifier is deprecated and will be removed in a future release. To remove this warning, do the following: 1) Pass option use_label_encoder=False when constructing XGBClassifier object; and 2) Encode your labels (y) as integers starting with 0, i.e. 0, 1, 2, ..., [num_class - 1].\n",
      "  warnings.warn(label_encoder_deprecation_msg, UserWarning)\n",
      "/opt/anaconda3/envs/trainingAI/lib/python3.9/site-packages/xgboost/sklearn.py:1224: UserWarning: The use of label encoder in XGBClassifier is deprecated and will be removed in a future release. To remove this warning, do the following: 1) Pass option use_label_encoder=False when constructing XGBClassifier object; and 2) Encode your labels (y) as integers starting with 0, i.e. 0, 1, 2, ..., [num_class - 1].\n",
      "  warnings.warn(label_encoder_deprecation_msg, UserWarning)\n",
      "/opt/anaconda3/envs/trainingAI/lib/python3.9/site-packages/xgboost/sklearn.py:1224: UserWarning: The use of label encoder in XGBClassifier is deprecated and will be removed in a future release. To remove this warning, do the following: 1) Pass option use_label_encoder=False when constructing XGBClassifier object; and 2) Encode your labels (y) as integers starting with 0, i.e. 0, 1, 2, ..., [num_class - 1].\n",
      "  warnings.warn(label_encoder_deprecation_msg, UserWarning)\n",
      "/opt/anaconda3/envs/trainingAI/lib/python3.9/site-packages/xgboost/sklearn.py:1224: UserWarning: The use of label encoder in XGBClassifier is deprecated and will be removed in a future release. To remove this warning, do the following: 1) Pass option use_label_encoder=False when constructing XGBClassifier object; and 2) Encode your labels (y) as integers starting with 0, i.e. 0, 1, 2, ..., [num_class - 1].\n",
      "  warnings.warn(label_encoder_deprecation_msg, UserWarning)\n",
      "/opt/anaconda3/envs/trainingAI/lib/python3.9/site-packages/xgboost/sklearn.py:1224: UserWarning: The use of label encoder in XGBClassifier is deprecated and will be removed in a future release. To remove this warning, do the following: 1) Pass option use_label_encoder=False when constructing XGBClassifier object; and 2) Encode your labels (y) as integers starting with 0, i.e. 0, 1, 2, ..., [num_class - 1].\n",
      "  warnings.warn(label_encoder_deprecation_msg, UserWarning)\n",
      "/opt/anaconda3/envs/trainingAI/lib/python3.9/site-packages/xgboost/sklearn.py:1224: UserWarning: The use of label encoder in XGBClassifier is deprecated and will be removed in a future release. To remove this warning, do the following: 1) Pass option use_label_encoder=False when constructing XGBClassifier object; and 2) Encode your labels (y) as integers starting with 0, i.e. 0, 1, 2, ..., [num_class - 1].\n",
      "  warnings.warn(label_encoder_deprecation_msg, UserWarning)\n",
      "/opt/anaconda3/envs/trainingAI/lib/python3.9/site-packages/xgboost/sklearn.py:1224: UserWarning: The use of label encoder in XGBClassifier is deprecated and will be removed in a future release. To remove this warning, do the following: 1) Pass option use_label_encoder=False when constructing XGBClassifier object; and 2) Encode your labels (y) as integers starting with 0, i.e. 0, 1, 2, ..., [num_class - 1].\n",
      "  warnings.warn(label_encoder_deprecation_msg, UserWarning)\n",
      "/opt/anaconda3/envs/trainingAI/lib/python3.9/site-packages/xgboost/data.py:262: FutureWarning: pandas.Int64Index is deprecated and will be removed from pandas in a future version. Use pandas.Index with the appropriate dtype instead.\n",
      "  elif isinstance(data.columns, (pd.Int64Index, pd.RangeIndex)):\n",
      "/opt/anaconda3/envs/trainingAI/lib/python3.9/site-packages/xgboost/data.py:262: FutureWarning: pandas.Int64Index is deprecated and will be removed from pandas in a future version. Use pandas.Index with the appropriate dtype instead.\n",
      "  elif isinstance(data.columns, (pd.Int64Index, pd.RangeIndex)):\n",
      "/opt/anaconda3/envs/trainingAI/lib/python3.9/site-packages/xgboost/data.py:262: FutureWarning: pandas.Int64Index is deprecated and will be removed from pandas in a future version. Use pandas.Index with the appropriate dtype instead.\n",
      "  elif isinstance(data.columns, (pd.Int64Index, pd.RangeIndex)):\n",
      "/opt/anaconda3/envs/trainingAI/lib/python3.9/site-packages/xgboost/data.py:262: FutureWarning: pandas.Int64Index is deprecated and will be removed from pandas in a future version. Use pandas.Index with the appropriate dtype instead.\n",
      "  elif isinstance(data.columns, (pd.Int64Index, pd.RangeIndex)):\n",
      "/opt/anaconda3/envs/trainingAI/lib/python3.9/site-packages/xgboost/sklearn.py:1224: UserWarning: The use of label encoder in XGBClassifier is deprecated and will be removed in a future release. To remove this warning, do the following: 1) Pass option use_label_encoder=False when constructing XGBClassifier object; and 2) Encode your labels (y) as integers starting with 0, i.e. 0, 1, 2, ..., [num_class - 1].\n",
      "  warnings.warn(label_encoder_deprecation_msg, UserWarning)\n",
      "/opt/anaconda3/envs/trainingAI/lib/python3.9/site-packages/xgboost/data.py:262: FutureWarning: pandas.Int64Index is deprecated and will be removed from pandas in a future version. Use pandas.Index with the appropriate dtype instead.\n",
      "  elif isinstance(data.columns, (pd.Int64Index, pd.RangeIndex)):\n",
      "/opt/anaconda3/envs/trainingAI/lib/python3.9/site-packages/xgboost/data.py:262: FutureWarning: pandas.Int64Index is deprecated and will be removed from pandas in a future version. Use pandas.Index with the appropriate dtype instead.\n",
      "  elif isinstance(data.columns, (pd.Int64Index, pd.RangeIndex)):\n",
      "/opt/anaconda3/envs/trainingAI/lib/python3.9/site-packages/xgboost/sklearn.py:1224: UserWarning: The use of label encoder in XGBClassifier is deprecated and will be removed in a future release. To remove this warning, do the following: 1) Pass option use_label_encoder=False when constructing XGBClassifier object; and 2) Encode your labels (y) as integers starting with 0, i.e. 0, 1, 2, ..., [num_class - 1].\n",
      "  warnings.warn(label_encoder_deprecation_msg, UserWarning)\n",
      "/opt/anaconda3/envs/trainingAI/lib/python3.9/site-packages/xgboost/sklearn.py:1224: UserWarning: The use of label encoder in XGBClassifier is deprecated and will be removed in a future release. To remove this warning, do the following: 1) Pass option use_label_encoder=False when constructing XGBClassifier object; and 2) Encode your labels (y) as integers starting with 0, i.e. 0, 1, 2, ..., [num_class - 1].\n",
      "  warnings.warn(label_encoder_deprecation_msg, UserWarning)\n",
      "/opt/anaconda3/envs/trainingAI/lib/python3.9/site-packages/xgboost/data.py:262: FutureWarning: pandas.Int64Index is deprecated and will be removed from pandas in a future version. Use pandas.Index with the appropriate dtype instead.\n",
      "  elif isinstance(data.columns, (pd.Int64Index, pd.RangeIndex)):\n",
      "/opt/anaconda3/envs/trainingAI/lib/python3.9/site-packages/xgboost/data.py:262: FutureWarning: pandas.Int64Index is deprecated and will be removed from pandas in a future version. Use pandas.Index with the appropriate dtype instead.\n",
      "  elif isinstance(data.columns, (pd.Int64Index, pd.RangeIndex)):\n",
      "/opt/anaconda3/envs/trainingAI/lib/python3.9/site-packages/xgboost/data.py:262: FutureWarning: pandas.Int64Index is deprecated and will be removed from pandas in a future version. Use pandas.Index with the appropriate dtype instead.\n",
      "  elif isinstance(data.columns, (pd.Int64Index, pd.RangeIndex)):\n",
      "/opt/anaconda3/envs/trainingAI/lib/python3.9/site-packages/xgboost/sklearn.py:1224: UserWarning: The use of label encoder in XGBClassifier is deprecated and will be removed in a future release. To remove this warning, do the following: 1) Pass option use_label_encoder=False when constructing XGBClassifier object; and 2) Encode your labels (y) as integers starting with 0, i.e. 0, 1, 2, ..., [num_class - 1].\n",
      "  warnings.warn(label_encoder_deprecation_msg, UserWarning)\n",
      "/opt/anaconda3/envs/trainingAI/lib/python3.9/site-packages/xgboost/data.py:262: FutureWarning: pandas.Int64Index is deprecated and will be removed from pandas in a future version. Use pandas.Index with the appropriate dtype instead.\n",
      "  elif isinstance(data.columns, (pd.Int64Index, pd.RangeIndex)):\n",
      "/opt/anaconda3/envs/trainingAI/lib/python3.9/site-packages/xgboost/data.py:262: FutureWarning: pandas.Int64Index is deprecated and will be removed from pandas in a future version. Use pandas.Index with the appropriate dtype instead.\n",
      "  elif isinstance(data.columns, (pd.Int64Index, pd.RangeIndex)):\n",
      "/opt/anaconda3/envs/trainingAI/lib/python3.9/site-packages/xgboost/data.py:262: FutureWarning: pandas.Int64Index is deprecated and will be removed from pandas in a future version. Use pandas.Index with the appropriate dtype instead.\n",
      "  elif isinstance(data.columns, (pd.Int64Index, pd.RangeIndex)):\n"
     ]
    },
    {
     "name": "stderr",
     "output_type": "stream",
     "text": [
      "/opt/anaconda3/envs/trainingAI/lib/python3.9/site-packages/xgboost/sklearn.py:1224: UserWarning: The use of label encoder in XGBClassifier is deprecated and will be removed in a future release. To remove this warning, do the following: 1) Pass option use_label_encoder=False when constructing XGBClassifier object; and 2) Encode your labels (y) as integers starting with 0, i.e. 0, 1, 2, ..., [num_class - 1].\n",
      "  warnings.warn(label_encoder_deprecation_msg, UserWarning)\n",
      "/opt/anaconda3/envs/trainingAI/lib/python3.9/site-packages/xgboost/sklearn.py:1224: UserWarning: The use of label encoder in XGBClassifier is deprecated and will be removed in a future release. To remove this warning, do the following: 1) Pass option use_label_encoder=False when constructing XGBClassifier object; and 2) Encode your labels (y) as integers starting with 0, i.e. 0, 1, 2, ..., [num_class - 1].\n",
      "  warnings.warn(label_encoder_deprecation_msg, UserWarning)\n",
      "/opt/anaconda3/envs/trainingAI/lib/python3.9/site-packages/xgboost/sklearn.py:1224: UserWarning: The use of label encoder in XGBClassifier is deprecated and will be removed in a future release. To remove this warning, do the following: 1) Pass option use_label_encoder=False when constructing XGBClassifier object; and 2) Encode your labels (y) as integers starting with 0, i.e. 0, 1, 2, ..., [num_class - 1].\n",
      "  warnings.warn(label_encoder_deprecation_msg, UserWarning)\n",
      "/opt/anaconda3/envs/trainingAI/lib/python3.9/site-packages/xgboost/sklearn.py:1224: UserWarning: The use of label encoder in XGBClassifier is deprecated and will be removed in a future release. To remove this warning, do the following: 1) Pass option use_label_encoder=False when constructing XGBClassifier object; and 2) Encode your labels (y) as integers starting with 0, i.e. 0, 1, 2, ..., [num_class - 1].\n",
      "  warnings.warn(label_encoder_deprecation_msg, UserWarning)\n",
      "/opt/anaconda3/envs/trainingAI/lib/python3.9/site-packages/xgboost/data.py:262: FutureWarning: pandas.Int64Index is deprecated and will be removed from pandas in a future version. Use pandas.Index with the appropriate dtype instead.\n",
      "  elif isinstance(data.columns, (pd.Int64Index, pd.RangeIndex)):\n",
      "/opt/anaconda3/envs/trainingAI/lib/python3.9/site-packages/xgboost/data.py:262: FutureWarning: pandas.Int64Index is deprecated and will be removed from pandas in a future version. Use pandas.Index with the appropriate dtype instead.\n",
      "  elif isinstance(data.columns, (pd.Int64Index, pd.RangeIndex)):\n",
      "/opt/anaconda3/envs/trainingAI/lib/python3.9/site-packages/xgboost/data.py:262: FutureWarning: pandas.Int64Index is deprecated and will be removed from pandas in a future version. Use pandas.Index with the appropriate dtype instead.\n",
      "  elif isinstance(data.columns, (pd.Int64Index, pd.RangeIndex)):\n",
      "/opt/anaconda3/envs/trainingAI/lib/python3.9/site-packages/xgboost/data.py:262: FutureWarning: pandas.Int64Index is deprecated and will be removed from pandas in a future version. Use pandas.Index with the appropriate dtype instead.\n",
      "  elif isinstance(data.columns, (pd.Int64Index, pd.RangeIndex)):\n",
      "/opt/anaconda3/envs/trainingAI/lib/python3.9/site-packages/xgboost/sklearn.py:1224: UserWarning: The use of label encoder in XGBClassifier is deprecated and will be removed in a future release. To remove this warning, do the following: 1) Pass option use_label_encoder=False when constructing XGBClassifier object; and 2) Encode your labels (y) as integers starting with 0, i.e. 0, 1, 2, ..., [num_class - 1].\n",
      "  warnings.warn(label_encoder_deprecation_msg, UserWarning)\n",
      "/opt/anaconda3/envs/trainingAI/lib/python3.9/site-packages/xgboost/sklearn.py:1224: UserWarning: The use of label encoder in XGBClassifier is deprecated and will be removed in a future release. To remove this warning, do the following: 1) Pass option use_label_encoder=False when constructing XGBClassifier object; and 2) Encode your labels (y) as integers starting with 0, i.e. 0, 1, 2, ..., [num_class - 1].\n",
      "  warnings.warn(label_encoder_deprecation_msg, UserWarning)\n",
      "/opt/anaconda3/envs/trainingAI/lib/python3.9/site-packages/xgboost/data.py:262: FutureWarning: pandas.Int64Index is deprecated and will be removed from pandas in a future version. Use pandas.Index with the appropriate dtype instead.\n",
      "  elif isinstance(data.columns, (pd.Int64Index, pd.RangeIndex)):\n",
      "/opt/anaconda3/envs/trainingAI/lib/python3.9/site-packages/xgboost/data.py:262: FutureWarning: pandas.Int64Index is deprecated and will be removed from pandas in a future version. Use pandas.Index with the appropriate dtype instead.\n",
      "  elif isinstance(data.columns, (pd.Int64Index, pd.RangeIndex)):\n",
      "/opt/anaconda3/envs/trainingAI/lib/python3.9/site-packages/xgboost/sklearn.py:1224: UserWarning: The use of label encoder in XGBClassifier is deprecated and will be removed in a future release. To remove this warning, do the following: 1) Pass option use_label_encoder=False when constructing XGBClassifier object; and 2) Encode your labels (y) as integers starting with 0, i.e. 0, 1, 2, ..., [num_class - 1].\n",
      "  warnings.warn(label_encoder_deprecation_msg, UserWarning)\n",
      "/opt/anaconda3/envs/trainingAI/lib/python3.9/site-packages/xgboost/data.py:262: FutureWarning: pandas.Int64Index is deprecated and will be removed from pandas in a future version. Use pandas.Index with the appropriate dtype instead.\n",
      "  elif isinstance(data.columns, (pd.Int64Index, pd.RangeIndex)):\n"
     ]
    },
    {
     "name": "stdout",
     "output_type": "stream",
     "text": [
      "[19:28:32] WARNING: /Users/runner/work/xgboost/xgboost/src/learner.cc:1115: Starting in XGBoost 1.3.0, the default evaluation metric used with the objective 'binary:logistic' was changed from 'error' to 'logloss'. Explicitly set eval_metric if you'd like to restore the old behavior.\n",
      "Best params: {'colsample_bynode': 0.5, 'max_depth': 2}\n",
      "Best score: 0.65058\n"
     ]
    }
   ],
   "source": [
    "grid_search(params={'max_depth':[1, 2, 3], 'colsample_bynode':[0.5, 0.75, 1]}, X=X_short, y=y_short, \n",
    "            model=XGBClassifier(random_state=2))"
   ]
  },
  {
   "cell_type": "code",
   "execution_count": 43,
   "metadata": {
    "ExecuteTime": {
     "end_time": "2022-02-27T19:28:33.686135Z",
     "start_time": "2022-02-27T19:28:33.658066Z"
    }
   },
   "outputs": [
    {
     "ename": "FileNotFoundError",
     "evalue": "[Errno 2] No such file or directory: '../DATASETS/exoplanets.csv'",
     "output_type": "error",
     "traceback": [
      "\u001b[0;31m---------------------------------------------------------------------------\u001b[0m",
      "\u001b[0;31mFileNotFoundError\u001b[0m                         Traceback (most recent call last)",
      "\u001b[0;32m/var/folders/5x/lyqr8wv507n43bnwpsz4dq_c0000gn/T/ipykernel_56444/1916197679.py\u001b[0m in \u001b[0;36m<module>\u001b[0;34m\u001b[0m\n\u001b[0;32m----> 1\u001b[0;31m \u001b[0mdf_all\u001b[0m \u001b[0;34m=\u001b[0m \u001b[0mpd\u001b[0m\u001b[0;34m.\u001b[0m\u001b[0mread_csv\u001b[0m\u001b[0;34m(\u001b[0m\u001b[0;34m'../DATASETS/exoplanets.csv'\u001b[0m\u001b[0;34m)\u001b[0m\u001b[0;34m\u001b[0m\u001b[0;34m\u001b[0m\u001b[0m\n\u001b[0m\u001b[1;32m      2\u001b[0m \u001b[0mdf_all\u001b[0m\u001b[0;34m[\u001b[0m\u001b[0;34m'LABEL'\u001b[0m\u001b[0;34m]\u001b[0m \u001b[0;34m=\u001b[0m \u001b[0mdf_all\u001b[0m\u001b[0;34m[\u001b[0m\u001b[0;34m'LABEL'\u001b[0m\u001b[0;34m]\u001b[0m\u001b[0;34m.\u001b[0m\u001b[0mreplace\u001b[0m\u001b[0;34m(\u001b[0m\u001b[0;36m1\u001b[0m\u001b[0;34m,\u001b[0m \u001b[0;36m0\u001b[0m\u001b[0;34m)\u001b[0m\u001b[0;34m\u001b[0m\u001b[0;34m\u001b[0m\u001b[0m\n\u001b[1;32m      3\u001b[0m \u001b[0mdf_all\u001b[0m\u001b[0;34m[\u001b[0m\u001b[0;34m'LABEL'\u001b[0m\u001b[0;34m]\u001b[0m \u001b[0;34m=\u001b[0m \u001b[0mdf_all\u001b[0m\u001b[0;34m[\u001b[0m\u001b[0;34m'LABEL'\u001b[0m\u001b[0;34m]\u001b[0m\u001b[0;34m.\u001b[0m\u001b[0mreplace\u001b[0m\u001b[0;34m(\u001b[0m\u001b[0;36m2\u001b[0m\u001b[0;34m,\u001b[0m \u001b[0;36m1\u001b[0m\u001b[0;34m)\u001b[0m\u001b[0;34m\u001b[0m\u001b[0;34m\u001b[0m\u001b[0m\n\u001b[1;32m      4\u001b[0m \u001b[0;34m\u001b[0m\u001b[0m\n\u001b[1;32m      5\u001b[0m \u001b[0mX_all\u001b[0m \u001b[0;34m=\u001b[0m \u001b[0mdf_all\u001b[0m\u001b[0;34m.\u001b[0m\u001b[0miloc\u001b[0m\u001b[0;34m[\u001b[0m\u001b[0;34m:\u001b[0m\u001b[0;34m,\u001b[0m\u001b[0;36m1\u001b[0m\u001b[0;34m:\u001b[0m\u001b[0;34m]\u001b[0m\u001b[0;34m\u001b[0m\u001b[0;34m\u001b[0m\u001b[0m\n",
      "\u001b[0;32m/opt/anaconda3/envs/trainingAI/lib/python3.9/site-packages/pandas/util/_decorators.py\u001b[0m in \u001b[0;36mwrapper\u001b[0;34m(*args, **kwargs)\u001b[0m\n\u001b[1;32m    309\u001b[0m                     \u001b[0mstacklevel\u001b[0m\u001b[0;34m=\u001b[0m\u001b[0mstacklevel\u001b[0m\u001b[0;34m,\u001b[0m\u001b[0;34m\u001b[0m\u001b[0;34m\u001b[0m\u001b[0m\n\u001b[1;32m    310\u001b[0m                 )\n\u001b[0;32m--> 311\u001b[0;31m             \u001b[0;32mreturn\u001b[0m \u001b[0mfunc\u001b[0m\u001b[0;34m(\u001b[0m\u001b[0;34m*\u001b[0m\u001b[0margs\u001b[0m\u001b[0;34m,\u001b[0m \u001b[0;34m**\u001b[0m\u001b[0mkwargs\u001b[0m\u001b[0;34m)\u001b[0m\u001b[0;34m\u001b[0m\u001b[0;34m\u001b[0m\u001b[0m\n\u001b[0m\u001b[1;32m    312\u001b[0m \u001b[0;34m\u001b[0m\u001b[0m\n\u001b[1;32m    313\u001b[0m         \u001b[0;32mreturn\u001b[0m \u001b[0mwrapper\u001b[0m\u001b[0;34m\u001b[0m\u001b[0;34m\u001b[0m\u001b[0m\n",
      "\u001b[0;32m/opt/anaconda3/envs/trainingAI/lib/python3.9/site-packages/pandas/io/parsers/readers.py\u001b[0m in \u001b[0;36mread_csv\u001b[0;34m(filepath_or_buffer, sep, delimiter, header, names, index_col, usecols, squeeze, prefix, mangle_dupe_cols, dtype, engine, converters, true_values, false_values, skipinitialspace, skiprows, skipfooter, nrows, na_values, keep_default_na, na_filter, verbose, skip_blank_lines, parse_dates, infer_datetime_format, keep_date_col, date_parser, dayfirst, cache_dates, iterator, chunksize, compression, thousands, decimal, lineterminator, quotechar, quoting, doublequote, escapechar, comment, encoding, encoding_errors, dialect, error_bad_lines, warn_bad_lines, on_bad_lines, delim_whitespace, low_memory, memory_map, float_precision, storage_options)\u001b[0m\n\u001b[1;32m    678\u001b[0m     \u001b[0mkwds\u001b[0m\u001b[0;34m.\u001b[0m\u001b[0mupdate\u001b[0m\u001b[0;34m(\u001b[0m\u001b[0mkwds_defaults\u001b[0m\u001b[0;34m)\u001b[0m\u001b[0;34m\u001b[0m\u001b[0;34m\u001b[0m\u001b[0m\n\u001b[1;32m    679\u001b[0m \u001b[0;34m\u001b[0m\u001b[0m\n\u001b[0;32m--> 680\u001b[0;31m     \u001b[0;32mreturn\u001b[0m \u001b[0m_read\u001b[0m\u001b[0;34m(\u001b[0m\u001b[0mfilepath_or_buffer\u001b[0m\u001b[0;34m,\u001b[0m \u001b[0mkwds\u001b[0m\u001b[0;34m)\u001b[0m\u001b[0;34m\u001b[0m\u001b[0;34m\u001b[0m\u001b[0m\n\u001b[0m\u001b[1;32m    681\u001b[0m \u001b[0;34m\u001b[0m\u001b[0m\n\u001b[1;32m    682\u001b[0m \u001b[0;34m\u001b[0m\u001b[0m\n",
      "\u001b[0;32m/opt/anaconda3/envs/trainingAI/lib/python3.9/site-packages/pandas/io/parsers/readers.py\u001b[0m in \u001b[0;36m_read\u001b[0;34m(filepath_or_buffer, kwds)\u001b[0m\n\u001b[1;32m    573\u001b[0m \u001b[0;34m\u001b[0m\u001b[0m\n\u001b[1;32m    574\u001b[0m     \u001b[0;31m# Create the parser.\u001b[0m\u001b[0;34m\u001b[0m\u001b[0;34m\u001b[0m\u001b[0m\n\u001b[0;32m--> 575\u001b[0;31m     \u001b[0mparser\u001b[0m \u001b[0;34m=\u001b[0m \u001b[0mTextFileReader\u001b[0m\u001b[0;34m(\u001b[0m\u001b[0mfilepath_or_buffer\u001b[0m\u001b[0;34m,\u001b[0m \u001b[0;34m**\u001b[0m\u001b[0mkwds\u001b[0m\u001b[0;34m)\u001b[0m\u001b[0;34m\u001b[0m\u001b[0;34m\u001b[0m\u001b[0m\n\u001b[0m\u001b[1;32m    576\u001b[0m \u001b[0;34m\u001b[0m\u001b[0m\n\u001b[1;32m    577\u001b[0m     \u001b[0;32mif\u001b[0m \u001b[0mchunksize\u001b[0m \u001b[0;32mor\u001b[0m \u001b[0miterator\u001b[0m\u001b[0;34m:\u001b[0m\u001b[0;34m\u001b[0m\u001b[0;34m\u001b[0m\u001b[0m\n",
      "\u001b[0;32m/opt/anaconda3/envs/trainingAI/lib/python3.9/site-packages/pandas/io/parsers/readers.py\u001b[0m in \u001b[0;36m__init__\u001b[0;34m(self, f, engine, **kwds)\u001b[0m\n\u001b[1;32m    931\u001b[0m \u001b[0;34m\u001b[0m\u001b[0m\n\u001b[1;32m    932\u001b[0m         \u001b[0mself\u001b[0m\u001b[0;34m.\u001b[0m\u001b[0mhandles\u001b[0m\u001b[0;34m:\u001b[0m \u001b[0mIOHandles\u001b[0m \u001b[0;34m|\u001b[0m \u001b[0;32mNone\u001b[0m \u001b[0;34m=\u001b[0m \u001b[0;32mNone\u001b[0m\u001b[0;34m\u001b[0m\u001b[0;34m\u001b[0m\u001b[0m\n\u001b[0;32m--> 933\u001b[0;31m         \u001b[0mself\u001b[0m\u001b[0;34m.\u001b[0m\u001b[0m_engine\u001b[0m \u001b[0;34m=\u001b[0m \u001b[0mself\u001b[0m\u001b[0;34m.\u001b[0m\u001b[0m_make_engine\u001b[0m\u001b[0;34m(\u001b[0m\u001b[0mf\u001b[0m\u001b[0;34m,\u001b[0m \u001b[0mself\u001b[0m\u001b[0;34m.\u001b[0m\u001b[0mengine\u001b[0m\u001b[0;34m)\u001b[0m\u001b[0;34m\u001b[0m\u001b[0;34m\u001b[0m\u001b[0m\n\u001b[0m\u001b[1;32m    934\u001b[0m \u001b[0;34m\u001b[0m\u001b[0m\n\u001b[1;32m    935\u001b[0m     \u001b[0;32mdef\u001b[0m \u001b[0mclose\u001b[0m\u001b[0;34m(\u001b[0m\u001b[0mself\u001b[0m\u001b[0;34m)\u001b[0m\u001b[0;34m:\u001b[0m\u001b[0;34m\u001b[0m\u001b[0;34m\u001b[0m\u001b[0m\n",
      "\u001b[0;32m/opt/anaconda3/envs/trainingAI/lib/python3.9/site-packages/pandas/io/parsers/readers.py\u001b[0m in \u001b[0;36m_make_engine\u001b[0;34m(self, f, engine)\u001b[0m\n\u001b[1;32m   1215\u001b[0m             \u001b[0;31m# \"Union[str, PathLike[str], ReadCsvBuffer[bytes], ReadCsvBuffer[str]]\"\u001b[0m\u001b[0;34m\u001b[0m\u001b[0;34m\u001b[0m\u001b[0m\n\u001b[1;32m   1216\u001b[0m             \u001b[0;31m# , \"str\", \"bool\", \"Any\", \"Any\", \"Any\", \"Any\", \"Any\"\u001b[0m\u001b[0;34m\u001b[0m\u001b[0;34m\u001b[0m\u001b[0m\n\u001b[0;32m-> 1217\u001b[0;31m             self.handles = get_handle(  # type: ignore[call-overload]\n\u001b[0m\u001b[1;32m   1218\u001b[0m                 \u001b[0mf\u001b[0m\u001b[0;34m,\u001b[0m\u001b[0;34m\u001b[0m\u001b[0;34m\u001b[0m\u001b[0m\n\u001b[1;32m   1219\u001b[0m                 \u001b[0mmode\u001b[0m\u001b[0;34m,\u001b[0m\u001b[0;34m\u001b[0m\u001b[0;34m\u001b[0m\u001b[0m\n",
      "\u001b[0;32m/opt/anaconda3/envs/trainingAI/lib/python3.9/site-packages/pandas/io/common.py\u001b[0m in \u001b[0;36mget_handle\u001b[0;34m(path_or_buf, mode, encoding, compression, memory_map, is_text, errors, storage_options)\u001b[0m\n\u001b[1;32m    787\u001b[0m         \u001b[0;32mif\u001b[0m \u001b[0mioargs\u001b[0m\u001b[0;34m.\u001b[0m\u001b[0mencoding\u001b[0m \u001b[0;32mand\u001b[0m \u001b[0;34m\"b\"\u001b[0m \u001b[0;32mnot\u001b[0m \u001b[0;32min\u001b[0m \u001b[0mioargs\u001b[0m\u001b[0;34m.\u001b[0m\u001b[0mmode\u001b[0m\u001b[0;34m:\u001b[0m\u001b[0;34m\u001b[0m\u001b[0;34m\u001b[0m\u001b[0m\n\u001b[1;32m    788\u001b[0m             \u001b[0;31m# Encoding\u001b[0m\u001b[0;34m\u001b[0m\u001b[0;34m\u001b[0m\u001b[0m\n\u001b[0;32m--> 789\u001b[0;31m             handle = open(\n\u001b[0m\u001b[1;32m    790\u001b[0m                 \u001b[0mhandle\u001b[0m\u001b[0;34m,\u001b[0m\u001b[0;34m\u001b[0m\u001b[0;34m\u001b[0m\u001b[0m\n\u001b[1;32m    791\u001b[0m                 \u001b[0mioargs\u001b[0m\u001b[0;34m.\u001b[0m\u001b[0mmode\u001b[0m\u001b[0;34m,\u001b[0m\u001b[0;34m\u001b[0m\u001b[0;34m\u001b[0m\u001b[0m\n",
      "\u001b[0;31mFileNotFoundError\u001b[0m: [Errno 2] No such file or directory: '../DATASETS/exoplanets.csv'"
     ]
    }
   ],
   "source": [
    "df_all = pd.read_csv('../DATASETS/exoplanets.csv')\n",
    "df_all['LABEL'] = df_all['LABEL'].replace(1, 0)\n",
    "df_all['LABEL'] = df_all['LABEL'].replace(2, 1)\n",
    "\n",
    "X_all = df_all.iloc[:,1:]\n",
    "y_all = df_all.iloc[:,0]"
   ]
  },
  {
   "cell_type": "code",
   "execution_count": null,
   "metadata": {
    "ExecuteTime": {
     "end_time": "2022-02-27T19:28:33.699861Z",
     "start_time": "2022-02-27T19:28:33.699838Z"
    }
   },
   "outputs": [],
   "source": [
    "df_all['LABEL'].value_counts()"
   ]
  },
  {
   "cell_type": "code",
   "execution_count": null,
   "metadata": {
    "ExecuteTime": {
     "end_time": "2022-02-27T19:28:33.701737Z",
     "start_time": "2022-02-27T19:28:33.701717Z"
    }
   },
   "outputs": [],
   "source": [
    "# Scale the weights by dividing the negative class by the positive class\n",
    "weight = int(5050/37)"
   ]
  },
  {
   "cell_type": "code",
   "execution_count": null,
   "metadata": {
    "ExecuteTime": {
     "end_time": "2022-02-27T19:28:33.703541Z",
     "start_time": "2022-02-27T19:28:33.703521Z"
    }
   },
   "outputs": [],
   "source": [
    "model = XGBClassifier(scale_pos_weight=weight, random_state=2)\n",
    "\n",
    "# Obtain scores of cross-validation\n",
    "scores = cross_val_score(model, X_all, y_all, cv=kfold, scoring='recall')\n",
    "\n",
    "# Display accuracy\n",
    "print('Recall:', scores)\n",
    "\n",
    "# Display mean accuracy\n",
    "print('Recall mean:', scores.mean())"
   ]
  },
  {
   "cell_type": "code",
   "execution_count": null,
   "metadata": {
    "ExecuteTime": {
     "end_time": "2022-02-27T19:28:33.705308Z",
     "start_time": "2022-02-27T19:28:33.705288Z"
    }
   },
   "outputs": [],
   "source": [
    "grid_search(params={'learning_rate': [0.001, 0.01]}, X=X_all, y=y_all, model=XGBClassifier(\n",
    "    scale_pos_weight=weight, random_state=2))"
   ]
  },
  {
   "cell_type": "code",
   "execution_count": null,
   "metadata": {
    "ExecuteTime": {
     "end_time": "2022-02-27T19:28:33.707134Z",
     "start_time": "2022-02-27T19:28:33.707115Z"
    }
   },
   "outputs": [],
   "source": [
    "grid_search(params={'max_depth':[1, 2],'learning_rate':[0.001]}, X=X_all, y=y_all, \n",
    "            model=XGBClassifier(scale_pos_weight=weight, random_state=2))"
   ]
  },
  {
   "cell_type": "code",
   "execution_count": null,
   "metadata": {
    "ExecuteTime": {
     "end_time": "2022-02-27T19:28:33.708961Z",
     "start_time": "2022-02-27T19:28:33.708941Z"
    }
   },
   "outputs": [],
   "source": [
    "def final_model(X, y, model):\n",
    "    model.fit(X, y)\n",
    "    y_pred = model.predict(X_all)\n",
    "    score = recall_score(y_all, y_pred)\n",
    "    print(score)\n",
    "    print(confusion_matrix(y_all, y_pred))\n",
    "    print(classification_report(y_all, y_pred))"
   ]
  },
  {
   "cell_type": "code",
   "execution_count": null,
   "metadata": {
    "ExecuteTime": {
     "end_time": "2022-02-27T19:28:33.710487Z",
     "start_time": "2022-02-27T19:28:33.710467Z"
    }
   },
   "outputs": [],
   "source": [
    "final_model(X_short, y_short, XGBClassifier(max_depth=2, colsample_by_node=0.5, random_state=2))"
   ]
  },
  {
   "cell_type": "code",
   "execution_count": null,
   "metadata": {
    "ExecuteTime": {
     "end_time": "2022-02-27T19:28:33.712057Z",
     "start_time": "2022-02-27T19:28:33.712038Z"
    }
   },
   "outputs": [],
   "source": [
    "final_model(X, y, XGBClassifier(max_depth=2, colsample_bynode=0.5,\n",
    "            scale_pos_weight=10, random_state=2))"
   ]
  },
  {
   "cell_type": "code",
   "execution_count": null,
   "metadata": {
    "ExecuteTime": {
     "end_time": "2022-02-27T19:28:33.713981Z",
     "start_time": "2022-02-27T19:28:33.713962Z"
    }
   },
   "outputs": [],
   "source": [
    "final_model(X_all, y_all, XGBClassifier(\n",
    "    max_depth=2, colsample_bynode=0.5, scale_pos_weight=weight, random_state=2))"
   ]
  },
  {
   "cell_type": "markdown",
   "metadata": {},
   "source": [
    "# References\n",
    "<hr style = \"border:2px solid black\" ></hr>"
   ]
  },
  {
   "cell_type": "markdown",
   "metadata": {},
   "source": [
    "\n",
    "- Corey Wade. “Hands-On Gradient Boosting with XGBoost and scikit-learn\n",
    "- https://github.com/PacktPublishing/Hands-On-Gradient-Boosting-with-XGBoost-and-Scikit-learn\n",
    "\n",
""   ]
  },
  {
   "cell_type": "code",
   "execution_count": null,
   "metadata": {},
   "outputs": [],
   "source": []
  }
 ],
 "metadata": {
  "hide_input": false,
  "kernelspec": {
   "display_name": "Python 3 (ipykernel)",
   "language": "python",
   "name": "python3"
  },
  "language_info": {
   "codemirror_mode": {
    "name": "ipython",
    "version": 3
   },
   "file_extension": ".py",
   "mimetype": "text/x-python",
   "name": "python",
   "nbconvert_exporter": "python",
   "pygments_lexer": "ipython3",
   "version": "3.9.7"
  },
  "toc": {
   "base_numbering": 1,
   "nav_menu": {},
   "number_sections": true,
   "sideBar": true,
   "skip_h1_title": false,
   "title_cell": "Table of Contents",
   "title_sidebar": "Contents",
   "toc_cell": true,
   "toc_position": {},
   "toc_section_display": true,
   "toc_window_display": true
  },
  "varInspector": {
   "cols": {
    "lenName": 16,
    "lenType": 16,
    "lenVar": 40
   },
   "kernels_config": {
    "python": {
     "delete_cmd_postfix": "",
     "delete_cmd_prefix": "del ",
     "library": "var_list.py",
     "varRefreshCmd": "print(var_dic_list())"
    },
    "r": {
     "delete_cmd_postfix": ") ",
     "delete_cmd_prefix": "rm(",
     "library": "var_list.r",
     "varRefreshCmd": "cat(var_dic_list()) "
    }
   },
   "types_to_exclude": [
    "module",
    "function",
    "builtin_function_or_method",
    "instance",
    "_Feature"
   ],
   "window_display": false
  }
 },
 "nbformat": 4,
 "nbformat_minor": 4
}
